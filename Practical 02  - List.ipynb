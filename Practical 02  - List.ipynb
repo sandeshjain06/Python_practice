{
 "cells": [
  {
   "cell_type": "markdown",
   "id": "ca7ee8ee",
   "metadata": {},
   "source": [
    "### LIST -  MUTABLE DATA TYPE . IT CAN BE EDITED OR DELETED\n",
    "\n",
    "- It is a datatype where multiple items are stored of different data types .\n",
    "\n",
    "\n",
    "### ARRAY VS LIST\n",
    "\n",
    "1. Array is homogeneous(all values in array will have same datatype) and \n",
    "    list is heterogenous(it can have values of diff data types)\n",
    "2. Array are much faster bec it stores values in consecutive memory location\n",
    "    While in list it is not stored in consecutive manner.\n",
    "3. Array are fast due to memory location.\n",
    "4. Lists are more programmer friendly.\n",
    "\n",
    "\n",
    "### Task Performed on List \n",
    "\n",
    "**1. Creating List**\n",
    "\n",
    "**2. Accessing List - Positive / Negative Indexing**\n",
    "\n",
    "**3. Edit , Add , Deleting List - Possible as it is mutable data types**\n",
    "\n",
    "**4. Operations on List**\n",
    "\n",
    "    Arithmetic Operations - Addition\n",
    "    Relational Operations - >,<.<=,>=,!=,==\n",
    "    Logical Operations\n",
    "    Loops on List\n",
    "    Membership Operations\n",
    "\n",
    "**5. List functions**\n",
    "\n",
    "    Common Function - len,min,max,sorted"
   ]
  },
  {
   "cell_type": "markdown",
   "id": "f14b6006",
   "metadata": {},
   "source": [
    "## 1.  List Creation"
   ]
  },
  {
   "cell_type": "code",
   "execution_count": 7,
   "id": "b3352d44",
   "metadata": {},
   "outputs": [
    {
     "data": {
      "text/plain": [
       "['hello', 4, 4.5, (5+6j), True]"
      ]
     },
     "execution_count": 7,
     "metadata": {},
     "output_type": "execute_result"
    }
   ],
   "source": [
    "# Create a List\n",
    "\n",
    "L=[\"hello\",4,4.5,5+6j,True]\n",
    "L"
   ]
  },
  {
   "cell_type": "code",
   "execution_count": 15,
   "id": "4acdeb31",
   "metadata": {},
   "outputs": [
    {
     "name": "stdout",
     "output_type": "stream",
     "text": [
      "[1, 2, 3, [4, 5]]\n"
     ]
    },
    {
     "data": {
      "text/plain": [
       "[[1, 2], [3, 4], [5, 6]]"
      ]
     },
     "execution_count": 15,
     "metadata": {},
     "output_type": "execute_result"
    }
   ],
   "source": [
    "# Multi-Dimensional Lists\n",
    "l3=[1,2,3,[4,5]]  # 2D List\n",
    "print(l3)\n",
    "l4=[[1,2],[3,4],[5,6]] # 3D list\n",
    "l4"
   ]
  },
  {
   "cell_type": "code",
   "execution_count": 16,
   "id": "a7a2636b",
   "metadata": {},
   "outputs": [
    {
     "data": {
      "text/plain": [
       "['H', 'a', 'l', 'd', 'i', 'r', 'a', 'm']"
      ]
     },
     "execution_count": 16,
     "metadata": {},
     "output_type": "execute_result"
    }
   ],
   "source": [
    "f2= list(\"Haldiram\")\n",
    "f2"
   ]
  },
  {
   "cell_type": "markdown",
   "id": "794f8e51",
   "metadata": {},
   "source": [
    "##  2.   Accessing items from list"
   ]
  },
  {
   "cell_type": "code",
   "execution_count": 17,
   "id": "22bac95a",
   "metadata": {},
   "outputs": [
    {
     "data": {
      "text/plain": [
       "'m'"
      ]
     },
     "execution_count": 17,
     "metadata": {},
     "output_type": "execute_result"
    }
   ],
   "source": [
    "f2[-1]   # access last values from list"
   ]
  },
  {
   "cell_type": "code",
   "execution_count": 18,
   "id": "ce8deae2",
   "metadata": {},
   "outputs": [
    {
     "data": {
      "text/plain": [
       "'H'"
      ]
     },
     "execution_count": 18,
     "metadata": {},
     "output_type": "execute_result"
    }
   ],
   "source": [
    "f2[0]"
   ]
  },
  {
   "cell_type": "code",
   "execution_count": 19,
   "id": "bf98b02c",
   "metadata": {},
   "outputs": [
    {
     "data": {
      "text/plain": [
       "['a', 'l', 'd', 'i']"
      ]
     },
     "execution_count": 19,
     "metadata": {},
     "output_type": "execute_result"
    }
   ],
   "source": [
    "f2[1:5]"
   ]
  },
  {
   "cell_type": "code",
   "execution_count": 24,
   "id": "0da3f994",
   "metadata": {},
   "outputs": [
    {
     "data": {
      "text/plain": [
       "['m']"
      ]
     },
     "execution_count": 24,
     "metadata": {},
     "output_type": "execute_result"
    }
   ],
   "source": [
    "f2[-1:]"
   ]
  },
  {
   "cell_type": "code",
   "execution_count": 36,
   "id": "3fc07f8d",
   "metadata": {},
   "outputs": [
    {
     "name": "stdout",
     "output_type": "stream",
     "text": [
      "5\n",
      "6\n"
     ]
    },
    {
     "data": {
      "text/plain": [
       "6"
      ]
     },
     "execution_count": 36,
     "metadata": {},
     "output_type": "execute_result"
    }
   ],
   "source": [
    "f3=[1,2,3,[4,5,6]]\n",
    "print(f3[-1][-2]) # negative values will start from ending\n",
    "print(f3[-1][2]) # positive values will start from starting\n",
    "f3[-1][-1]"
   ]
  },
  {
   "cell_type": "code",
   "execution_count": 40,
   "id": "567f8e1d",
   "metadata": {},
   "outputs": [
    {
     "data": {
      "text/plain": [
       "7"
      ]
     },
     "execution_count": 40,
     "metadata": {},
     "output_type": "execute_result"
    }
   ],
   "source": [
    "a2=[1,2,3,[4,5],[6,7]]\n",
    "a2[-1][1]"
   ]
  },
  {
   "cell_type": "code",
   "execution_count": 1,
   "id": "b2e19d20",
   "metadata": {},
   "outputs": [
    {
     "data": {
      "text/plain": [
       "[[1, 2], [3, 4], [[5, 6], [7, 8]]]"
      ]
     },
     "execution_count": 1,
     "metadata": {},
     "output_type": "execute_result"
    }
   ],
   "source": [
    "a3=[[1,2],[3,4],[[5,6],[7,8]]]\n",
    "a3"
   ]
  },
  {
   "cell_type": "code",
   "execution_count": 43,
   "id": "2e56c239",
   "metadata": {},
   "outputs": [
    {
     "data": {
      "text/plain": [
       "7"
      ]
     },
     "execution_count": 43,
     "metadata": {},
     "output_type": "execute_result"
    }
   ],
   "source": [
    "a3[-1][-1][-2] # negative indexing"
   ]
  },
  {
   "cell_type": "code",
   "execution_count": 44,
   "id": "bc6c1dbc",
   "metadata": {},
   "outputs": [
    {
     "data": {
      "text/plain": [
       "7"
      ]
     },
     "execution_count": 44,
     "metadata": {},
     "output_type": "execute_result"
    }
   ],
   "source": [
    "a3[-1][1][0] # positive indexing"
   ]
  },
  {
   "cell_type": "markdown",
   "id": "9be1c056",
   "metadata": {},
   "source": [
    "## 3.  EDIT List -  Python LISTS are mutable\n"
   ]
  },
  {
   "cell_type": "code",
   "execution_count": 48,
   "id": "290e9673",
   "metadata": {},
   "outputs": [
    {
     "data": {
      "text/plain": [
       "[100, 20, 30, 50]"
      ]
     },
     "execution_count": 48,
     "metadata": {},
     "output_type": "execute_result"
    }
   ],
   "source": [
    "l1=[10,20,30,50]\n",
    "l1[0]=100\n",
    "l1"
   ]
  },
  {
   "cell_type": "code",
   "execution_count": 49,
   "id": "5d2434a6",
   "metadata": {},
   "outputs": [
    {
     "data": {
      "text/plain": [
       "[100, 200, 300, 400, 500, 50]"
      ]
     },
     "execution_count": 49,
     "metadata": {},
     "output_type": "execute_result"
    }
   ],
   "source": [
    "l1[1:3]=[200,300,400,500]\n",
    "l1"
   ]
  },
  {
   "cell_type": "markdown",
   "id": "709594e2",
   "metadata": {},
   "source": [
    "## 4.   ADD items in List \n",
    "\n",
    " * APPEND - only one values can be added at a time\n",
    " * Extend - multiple values can be added at a time\n",
    " * Insert - To add values in between"
   ]
  },
  {
   "cell_type": "code",
   "execution_count": 56,
   "id": "40a7521c",
   "metadata": {},
   "outputs": [
    {
     "data": {
      "text/plain": [
       "[100, 200, 300, 400, 'google', [5, 6]]"
      ]
     },
     "execution_count": 56,
     "metadata": {},
     "output_type": "execute_result"
    }
   ],
   "source": [
    "# adds values in the end of the list\n",
    "\n",
    "l=[100,200,300,400]\n",
    "l.append(\"google\") \n",
    "l.append([5,6])\n",
    "l"
   ]
  },
  {
   "cell_type": "code",
   "execution_count": 78,
   "id": "ed707092",
   "metadata": {},
   "outputs": [
    {
     "data": {
      "text/plain": [
       "[5, 6, 900, 'google', 'g', 'o', 'a']"
      ]
     },
     "execution_count": 78,
     "metadata": {},
     "output_type": "execute_result"
    }
   ],
   "source": [
    "# Extend\n",
    "l2=[]\n",
    "l2.extend([5,6,900,\"google\"])\n",
    "l2.extend('goa')\n",
    "l2"
   ]
  },
  {
   "cell_type": "code",
   "execution_count": 79,
   "id": "a9102c08",
   "metadata": {},
   "outputs": [
    {
     "data": {
      "text/plain": [
       "[5, 6, 900, 'tesla', 'google', 'g', 'o', 'a']"
      ]
     },
     "execution_count": 79,
     "metadata": {},
     "output_type": "execute_result"
    }
   ],
   "source": [
    "# Insert\n",
    "\n",
    "l2.insert(3,'tesla')\n",
    "l2"
   ]
  },
  {
   "cell_type": "markdown",
   "id": "f82263ca",
   "metadata": {},
   "source": [
    "##  5.   Delete items from list\n",
    "\n",
    "* Del  - Delete the entire list or particular elements.\n",
    "* Remove - Delete elements whose index location is not known.\n",
    "* Pop - Deletes last elements from list\n",
    "* Clear - Clear the list."
   ]
  },
  {
   "cell_type": "code",
   "execution_count": 80,
   "id": "f070f27e",
   "metadata": {},
   "outputs": [
    {
     "data": {
      "text/plain": [
       "[6, 900, 'tesla', 'google', 'g', 'o', 'a']"
      ]
     },
     "execution_count": 80,
     "metadata": {},
     "output_type": "execute_result"
    }
   ],
   "source": [
    "del l2[0]\n",
    "l2"
   ]
  },
  {
   "cell_type": "code",
   "execution_count": 81,
   "id": "050de725",
   "metadata": {},
   "outputs": [
    {
     "data": {
      "text/plain": [
       "[6, 900, 'tesla', 'google']"
      ]
     },
     "execution_count": 81,
     "metadata": {},
     "output_type": "execute_result"
    }
   ],
   "source": [
    "del l2[-3:]\n",
    "l2"
   ]
  },
  {
   "cell_type": "code",
   "execution_count": 82,
   "id": "cbb159ae",
   "metadata": {},
   "outputs": [
    {
     "data": {
      "text/plain": [
       "[6, 'tesla', 'google']"
      ]
     },
     "execution_count": 82,
     "metadata": {},
     "output_type": "execute_result"
    }
   ],
   "source": [
    "l2.remove(900)\n",
    "l2"
   ]
  },
  {
   "cell_type": "code",
   "execution_count": 83,
   "id": "d23b6ce8",
   "metadata": {},
   "outputs": [
    {
     "data": {
      "text/plain": [
       "[6, 'tesla']"
      ]
     },
     "execution_count": 83,
     "metadata": {},
     "output_type": "execute_result"
    }
   ],
   "source": [
    "l2.pop()\n",
    "l2"
   ]
  },
  {
   "cell_type": "markdown",
   "id": "2a17a27f",
   "metadata": {},
   "source": [
    "## 6.   List Operations\n",
    "\n",
    "   * Addition\n",
    "   * Multiplication\n",
    "   * Loops\n",
    "   * membership operator\n",
    "    "
   ]
  },
  {
   "cell_type": "code",
   "execution_count": 88,
   "id": "68beb054",
   "metadata": {},
   "outputs": [
    {
     "data": {
      "text/plain": [
       "[1, 2, 34, 5, 6, 7, 1, 2, 34, 5, 6, 7, 1, 2, 34, 5, 6, 7]"
      ]
     },
     "execution_count": 88,
     "metadata": {},
     "output_type": "execute_result"
    }
   ],
   "source": [
    "# adds the list and displays it 3 times.\n",
    "\n",
    "q1=[1,2,34]\n",
    "q2=[5,6,7]\n",
    "(q1+q2)*3"
   ]
  },
  {
   "cell_type": "code",
   "execution_count": 92,
   "id": "b15405ed",
   "metadata": {},
   "outputs": [
    {
     "name": "stdout",
     "output_type": "stream",
     "text": [
      "1\n",
      "2\n",
      "3\n",
      "[4, 5]\n"
     ]
    }
   ],
   "source": [
    "l3=[1,2,3,[4,5]]\n",
    "for i in l3:\n",
    "    print(i)"
   ]
  },
  {
   "cell_type": "code",
   "execution_count": 93,
   "id": "b7bdce83",
   "metadata": {},
   "outputs": [
    {
     "data": {
      "text/plain": [
       "False"
      ]
     },
     "execution_count": 93,
     "metadata": {},
     "output_type": "execute_result"
    }
   ],
   "source": [
    "4 in l3"
   ]
  },
  {
   "cell_type": "code",
   "execution_count": 94,
   "id": "0c4d909c",
   "metadata": {},
   "outputs": [
    {
     "data": {
      "text/plain": [
       "True"
      ]
     },
     "execution_count": 94,
     "metadata": {},
     "output_type": "execute_result"
    }
   ],
   "source": [
    "[4,5] in l3"
   ]
  },
  {
   "cell_type": "markdown",
   "id": "aac99415",
   "metadata": {},
   "source": [
    "## 7.  Functions in list \n",
    "\n",
    "    len , min , max , sorted \n"
   ]
  },
  {
   "cell_type": "code",
   "execution_count": 99,
   "id": "093ea8fe",
   "metadata": {},
   "outputs": [
    {
     "data": {
      "text/plain": [
       "[34, 10, 4, 3, 2]"
      ]
     },
     "execution_count": 99,
     "metadata": {},
     "output_type": "execute_result"
    }
   ],
   "source": [
    "# Sorted is not a permanent equation after sorting if u check the list it will \n",
    "# be same.\n",
    "\n",
    "# Sort is permanent operation.\n",
    "\n",
    "l=[10,34,2,3,4]\n",
    "sorted(l,reverse=True)"
   ]
  },
  {
   "cell_type": "code",
   "execution_count": 97,
   "id": "872fc289",
   "metadata": {},
   "outputs": [
    {
     "data": {
      "text/plain": [
       "5"
      ]
     },
     "execution_count": 97,
     "metadata": {},
     "output_type": "execute_result"
    }
   ],
   "source": [
    "len(l)"
   ]
  },
  {
   "cell_type": "code",
   "execution_count": 98,
   "id": "eda048b1",
   "metadata": {},
   "outputs": [
    {
     "data": {
      "text/plain": [
       "2"
      ]
     },
     "execution_count": 98,
     "metadata": {},
     "output_type": "execute_result"
    }
   ],
   "source": [
    "min(l)"
   ]
  },
  {
   "cell_type": "code",
   "execution_count": 100,
   "id": "9c5bb734",
   "metadata": {},
   "outputs": [
    {
     "data": {
      "text/plain": [
       "[10, 34, 2, 3, 4]"
      ]
     },
     "execution_count": 100,
     "metadata": {},
     "output_type": "execute_result"
    }
   ],
   "source": [
    "l"
   ]
  },
  {
   "cell_type": "code",
   "execution_count": 107,
   "id": "1721dee5",
   "metadata": {},
   "outputs": [
    {
     "data": {
      "text/plain": [
       "3"
      ]
     },
     "execution_count": 107,
     "metadata": {},
     "output_type": "execute_result"
    }
   ],
   "source": [
    "l.index(3)"
   ]
  },
  {
   "cell_type": "code",
   "execution_count": 119,
   "id": "c85da61f",
   "metadata": {},
   "outputs": [
    {
     "name": "stdout",
     "output_type": "stream",
     "text": [
      "enter a sentencesky is the limit\n",
      "['Sky', 'Is', 'The', 'Limit']\n"
     ]
    },
    {
     "data": {
      "text/plain": [
       "'Sky Is The Limit'"
      ]
     },
     "execution_count": 119,
     "metadata": {},
     "output_type": "execute_result"
    }
   ],
   "source": [
    "str=input(\"enter a sentence\")\n",
    "a= str.split()\n",
    "b=[]\n",
    "for i in a:\n",
    "    i.capitalize()\n",
    "    b.append(i.capitalize())\n",
    "print(b)\n",
    "\" \".join(b)"
   ]
  },
  {
   "cell_type": "markdown",
   "id": "a43451aa",
   "metadata": {},
   "source": [
    "### Find the email id of the person "
   ]
  },
  {
   "cell_type": "code",
   "execution_count": 130,
   "id": "82b865a2",
   "metadata": {},
   "outputs": [
    {
     "name": "stdout",
     "output_type": "stream",
     "text": [
      "Enter the email id--\tas\n",
      "a\n"
     ]
    }
   ],
   "source": [
    "sample=input(\"Enter the email id--\\t\")\n",
    "print(sample[:sample.find(\"@\")])"
   ]
  },
  {
   "cell_type": "markdown",
   "id": "2f2b73d1",
   "metadata": {},
   "source": [
    "### Remove the duplicates elements and print the numbers only once "
   ]
  },
  {
   "cell_type": "code",
   "execution_count": 128,
   "id": "bf86719b",
   "metadata": {},
   "outputs": [
    {
     "name": "stdout",
     "output_type": "stream",
     "text": [
      "[1, 2, 44, 5, 3, 23, 2342]\n"
     ]
    }
   ],
   "source": [
    "l=[1,2,44,44,5,1,1,2,3,23,2342,23]\n",
    "\n",
    "l2=[]\n",
    "for i in l:\n",
    "    if i not in l2:\n",
    "        l2.append(i)\n",
    "print(l2)"
   ]
  },
  {
   "cell_type": "markdown",
   "id": "04211df5",
   "metadata": {},
   "source": [
    "# THE END "
   ]
  }
 ],
 "metadata": {
  "kernelspec": {
   "display_name": "Python 3 (ipykernel)",
   "language": "python",
   "name": "python3"
  },
  "language_info": {
   "codemirror_mode": {
    "name": "ipython",
    "version": 3
   },
   "file_extension": ".py",
   "mimetype": "text/x-python",
   "name": "python",
   "nbconvert_exporter": "python",
   "pygments_lexer": "ipython3",
   "version": "3.9.7"
  }
 },
 "nbformat": 4,
 "nbformat_minor": 5
}
