{
 "cells": [
  {
   "cell_type": "markdown",
   "id": "e7084f52",
   "metadata": {},
   "source": [
    "### Python supports 3 categorial data types\n",
    "\n",
    "    \n",
    "    Basic types - Integer,Float,Complex,Boolean and String\n",
    "    \n",
    "    Container types - List, Tuples, Sets and Dictionary\n",
    "    \n",
    "    User defined types - Class.\n",
    "    \n",
    "    \n",
    "    \n",
    "    Mutable - Values can be changed - LIST / SETS / DICTIONARY\n",
    "\n",
    "    Immutable  - Values cannot be changed - Strings / tuples / int / float / bool / complex"
   ]
  },
  {
   "cell_type": "code",
   "execution_count": 1,
   "id": "41dfd8a7",
   "metadata": {},
   "outputs": [
    {
     "name": "stdout",
     "output_type": "stream",
     "text": [
      "[1, 2, 3, 4, 5]\n"
     ]
    }
   ],
   "source": [
    "#list - square brackets\n",
    "\n",
    "print([1,2,3,4,5])"
   ]
  },
  {
   "cell_type": "code",
   "execution_count": 192,
   "id": "465d3788",
   "metadata": {},
   "outputs": [
    {
     "name": "stdout",
     "output_type": "stream",
     "text": [
      "(1, 2, 3, 4, 5)\n"
     ]
    }
   ],
   "source": [
    "#Tuples - round brackets\n",
    "\n",
    "print((1,2,3,4,5))"
   ]
  },
  {
   "cell_type": "code",
   "execution_count": 3,
   "id": "6f43a649",
   "metadata": {},
   "outputs": [
    {
     "name": "stdout",
     "output_type": "stream",
     "text": [
      "{1, 2, 3, 4, 5}\n"
     ]
    }
   ],
   "source": [
    "# sets - union , intersection\n",
    "\n",
    "print({1,2,3,4,5})"
   ]
  },
  {
   "cell_type": "code",
   "execution_count": 6,
   "id": "f62dccd6",
   "metadata": {},
   "outputs": [
    {
     "name": "stdout",
     "output_type": "stream",
     "text": [
      "{'Name': 'Nitish', 'Age': 30, 'gender': 'male'}\n"
     ]
    }
   ],
   "source": [
    "# dictionary\n",
    "\n",
    "print({'Name':'Nitish','Age':30,'gender':'male'})"
   ]
  },
  {
   "cell_type": "markdown",
   "id": "c4cc136e",
   "metadata": {},
   "source": [
    "## Variation in  Print Function "
   ]
  },
  {
   "cell_type": "code",
   "execution_count": 12,
   "id": "32e1a8f3",
   "metadata": {},
   "outputs": [
    {
     "name": "stdout",
     "output_type": "stream",
     "text": [
      "India-Nepal-america\n"
     ]
    }
   ],
   "source": [
    "\n",
    "# if we want not space in between but some other thing such as '-' or '/'\n",
    "\n",
    "print(\"India\",\"Nepal\",\"america\",sep='-')"
   ]
  },
  {
   "cell_type": "code",
   "execution_count": 4,
   "id": "6845fe0d",
   "metadata": {},
   "outputs": [
    {
     "name": "stdout",
     "output_type": "stream",
     "text": [
      "India Nepal america\n"
     ]
    }
   ],
   "source": [
    "# print 2 lines in 1 lines.\n",
    "\n",
    "print(\"India\",\"Nepal\",end=' ')\n",
    "print(\"america\")\n"
   ]
  },
  {
   "cell_type": "code",
   "execution_count": null,
   "id": "c3a02384",
   "metadata": {},
   "outputs": [],
   "source": []
  },
  {
   "cell_type": "markdown",
   "id": "a1221666",
   "metadata": {},
   "source": [
    "### THE END "
   ]
  }
 ],
 "metadata": {
  "kernelspec": {
   "display_name": "Python 3 (ipykernel)",
   "language": "python",
   "name": "python3"
  },
  "language_info": {
   "codemirror_mode": {
    "name": "ipython",
    "version": 3
   },
   "file_extension": ".py",
   "mimetype": "text/x-python",
   "name": "python",
   "nbconvert_exporter": "python",
   "pygments_lexer": "ipython3",
   "version": "3.9.7"
  }
 },
 "nbformat": 4,
 "nbformat_minor": 5
}
