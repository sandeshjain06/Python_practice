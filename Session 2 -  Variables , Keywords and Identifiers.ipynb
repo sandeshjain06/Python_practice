{
 "cells": [
  {
   "cell_type": "markdown",
   "id": "f87bfbf6",
   "metadata": {},
   "source": [
    "## 1.   Variables\n",
    "\n",
    "    \n",
    "    1. Dynamic Typing - It will automatically understand the datatype of variable.\n",
    "    \n",
    "    2. Dynamic Binding - Any variable can store any type of data eg int,float,boolean .\n",
    "    \n"
   ]
  },
  {
   "cell_type": "code",
   "execution_count": 13,
   "id": "5b60db2e",
   "metadata": {},
   "outputs": [
    {
     "name": "stdout",
     "output_type": "stream",
     "text": [
      "hello world\n"
     ]
    }
   ],
   "source": [
    "# no variable declaration\n",
    "\n",
    "# it will automatically will get to know the datatype of name variable no need to \n",
    "# explicity define as in other languages.\n",
    "\n",
    "# this is also called as dynamic typing \n",
    "\n",
    "name =\"hello world\"\n",
    "print(name)\n",
    "\n",
    "# static typing means we have to specify the data type which is not avilable in python\n"
   ]
  },
  {
   "cell_type": "code",
   "execution_count": 16,
   "id": "67b6c514",
   "metadata": {},
   "outputs": [
    {
     "name": "stdout",
     "output_type": "stream",
     "text": [
      "40.34\n",
      "True\n"
     ]
    }
   ],
   "source": [
    "\n",
    "# this is called as dynamic binding as it is storing all kinds of data , no need to define it.\n",
    "# there we have given the floating data .\n",
    "\n",
    "name =40.34\n",
    "print(name)\n",
    "name =True\n",
    "print(name)\n"
   ]
  },
  {
   "cell_type": "code",
   "execution_count": 19,
   "id": "c7198dc1",
   "metadata": {},
   "outputs": [
    {
     "name": "stdout",
     "output_type": "stream",
     "text": [
      "4 5 6\n",
      "4 4 10\n"
     ]
    }
   ],
   "source": [
    "a,b,c=4,5,6 # declaration in single line.\n",
    "print(a,b,c)\n",
    "a=4 ; b=4;c =10 # declaration in single line.\n",
    "print(a,b,c)\n"
   ]
  },
  {
   "cell_type": "markdown",
   "id": "a1bc30b7",
   "metadata": {},
   "source": [
    "## 2.   Keywords "
   ]
  },
  {
   "cell_type": "code",
   "execution_count": 20,
   "id": "e1300aaf",
   "metadata": {},
   "outputs": [
    {
     "name": "stdout",
     "output_type": "stream",
     "text": [
      "['False', 'None', 'True', '__peg_parser__', 'and', 'as', 'assert', 'async', 'await', 'break', 'class', 'continue', 'def', 'del', 'elif', 'else', 'except', 'finally', 'for', 'from', 'global', 'if', 'import', 'in', 'is', 'lambda', 'nonlocal', 'not', 'or', 'pass', 'raise', 'return', 'try', 'while', 'with', 'yield']\n"
     ]
    }
   ],
   "source": [
    "# python has 33 keywords\n",
    "# every language has set of keywords that cannot be used as variable name\n",
    "#keyword is words that has special meaning reserved by program.\n",
    "\n",
    "import keyword\n",
    "print(keyword.kwlist)"
   ]
  },
  {
   "cell_type": "markdown",
   "id": "dbf85782",
   "metadata": {},
   "source": [
    "##  3.  Identifiers\n",
    "\n",
    "- Identifier is name used to identify variable,function ,class,module or other object\n",
    "\n",
    "\n",
    "- Rules for Setting Identifiers\n",
    "\n",
    "    1. Can only start with alphabet or _\n",
    "    2. Followed by 0 or more letter, _ and digits\n",
    "    3. Keywords cannot be used as identifier.\n",
    "    \n",
    "    **We cannot use variable name as**\n",
    "\n",
    "    2 ='sandesh'\n",
    "    \n",
    "    first-name='sandesh'\n",
    "    \n",
    "    *='sandesh'\n"
   ]
  },
  {
   "cell_type": "code",
   "execution_count": null,
   "id": "48f4ee4e",
   "metadata": {},
   "outputs": [],
   "source": []
  },
  {
   "cell_type": "markdown",
   "id": "a4803d1c",
   "metadata": {},
   "source": [
    "### THE END "
   ]
  }
 ],
 "metadata": {
  "kernelspec": {
   "display_name": "Python 3 (ipykernel)",
   "language": "python",
   "name": "python3"
  },
  "language_info": {
   "codemirror_mode": {
    "name": "ipython",
    "version": 3
   },
   "file_extension": ".py",
   "mimetype": "text/x-python",
   "name": "python",
   "nbconvert_exporter": "python",
   "pygments_lexer": "ipython3",
   "version": "3.9.7"
  }
 },
 "nbformat": 4,
 "nbformat_minor": 5
}
