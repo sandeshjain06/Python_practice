{
 "cells": [
  {
   "cell_type": "markdown",
   "id": "131cd727",
   "metadata": {},
   "source": [
    "# Dictionary - Mutuable data types\n",
    "\n",
    " * It is key-value pair\n",
    " * Dictionary has no indexing\n",
    " * Keys should be immutable\n",
    " * Values are mutable / immutable\n",
    " * Keys should be unique "
   ]
  },
  {
   "cell_type": "markdown",
   "id": "e3eec993",
   "metadata": {},
   "source": [
    "## 1.  Create Dictionary "
   ]
  },
  {
   "cell_type": "code",
   "execution_count": 1,
   "id": "3cd51548",
   "metadata": {},
   "outputs": [
    {
     "data": {
      "text/plain": [
       "{'Name': 'Sandesh', 'Gender': 'Male'}"
      ]
     },
     "execution_count": 1,
     "metadata": {},
     "output_type": "execute_result"
    }
   ],
   "source": [
    "# create dictionary\n",
    "\n",
    "d= {\"Name\":\"Sandesh\",\"Gender\":\"Male\"}\n",
    "d"
   ]
  },
  {
   "cell_type": "code",
   "execution_count": 4,
   "id": "b55e6ced",
   "metadata": {},
   "outputs": [],
   "source": [
    "# list is mutable data type , thus keys cannot be mutable , hence will give error.\n",
    "# d1 = {[1,2,3]:'Shreya'}\n",
    "# d1"
   ]
  },
  {
   "cell_type": "code",
   "execution_count": 5,
   "id": "3163f7d1",
   "metadata": {},
   "outputs": [
    {
     "data": {
      "text/plain": [
       "{(1, 2, 3): 'Shreya'}"
      ]
     },
     "execution_count": 5,
     "metadata": {},
     "output_type": "execute_result"
    }
   ],
   "source": [
    "# Tuple is immutable , hence keys can be immutable \n",
    "d1 = {(1,2,3):'Shreya'}\n",
    "d1"
   ]
  },
  {
   "cell_type": "code",
   "execution_count": 8,
   "id": "779f87ab",
   "metadata": {},
   "outputs": [
    {
     "data": {
      "text/plain": [
       "{'Name': 'Sundar'}"
      ]
     },
     "execution_count": 8,
     "metadata": {},
     "output_type": "execute_result"
    }
   ],
   "source": [
    "d2={\"Name\":\"Rahul\",\"Name\":\"Sundar\"}\n",
    "d2"
   ]
  },
  {
   "cell_type": "code",
   "execution_count": null,
   "id": "7fb1f762",
   "metadata": {},
   "outputs": [],
   "source": [
    "# 2D Dictionary"
   ]
  },
  {
   "cell_type": "code",
   "execution_count": 9,
   "id": "ba33f602",
   "metadata": {},
   "outputs": [
    {
     "data": {
      "text/plain": [
       "{'name': 'Nikhil', 'College': 'SVM', 'Marks': {'m1': 56, 'm2': 60, 'm3': 90}}"
      ]
     },
     "execution_count": 9,
     "metadata": {},
     "output_type": "execute_result"
    }
   ],
   "source": [
    "d3= {\"name\":\"Nikhil\",\"College\":\"SVM\",\"Marks\":{'m1':56,'m2':60,'m3':90}}\n",
    "d3"
   ]
  },
  {
   "cell_type": "markdown",
   "id": "c1d897b1",
   "metadata": {},
   "source": [
    "## 2.   Accessing items from dictionary\n",
    "   \n",
    "    There is no indexing or slicing, values can be accessed only by keys.\n",
    "    "
   ]
  },
  {
   "cell_type": "code",
   "execution_count": 12,
   "id": "45ab6685",
   "metadata": {},
   "outputs": [
    {
     "data": {
      "text/plain": [
       "'Nikhil'"
      ]
     },
     "execution_count": 12,
     "metadata": {},
     "output_type": "execute_result"
    }
   ],
   "source": [
    "d3[\"name\"]"
   ]
  },
  {
   "cell_type": "code",
   "execution_count": 15,
   "id": "74c81106",
   "metadata": {},
   "outputs": [
    {
     "data": {
      "text/plain": [
       "60"
      ]
     },
     "execution_count": 15,
     "metadata": {},
     "output_type": "execute_result"
    }
   ],
   "source": [
    "d3[\"Marks\"][\"m2\"]"
   ]
  },
  {
   "cell_type": "markdown",
   "id": "041c3076",
   "metadata": {},
   "source": [
    "##  3.   Edit a dictionary\n"
   ]
  },
  {
   "cell_type": "code",
   "execution_count": 16,
   "id": "98cbe594",
   "metadata": {},
   "outputs": [
    {
     "data": {
      "text/plain": [
       "{'name': 'Virat', 'College': 'SVM', 'Marks': {'m1': 56, 'm2': 60, 'm3': 90}}"
      ]
     },
     "execution_count": 16,
     "metadata": {},
     "output_type": "execute_result"
    }
   ],
   "source": [
    "d3[\"name\"]=\"Virat\"\n",
    "d3"
   ]
  },
  {
   "cell_type": "markdown",
   "id": "1eabbe8b",
   "metadata": {},
   "source": [
    "## 4.   Add new Key-value Pair "
   ]
  },
  {
   "cell_type": "code",
   "execution_count": 17,
   "id": "6f3b7b24",
   "metadata": {},
   "outputs": [
    {
     "data": {
      "text/plain": [
       "{'name': 'Virat',\n",
       " 'College': 'SVM',\n",
       " 'Marks': {'m1': 56, 'm2': 60, 'm3': 90},\n",
       " 'age': 30}"
      ]
     },
     "execution_count": 17,
     "metadata": {},
     "output_type": "execute_result"
    }
   ],
   "source": [
    "d3['age']=30\n",
    "d3"
   ]
  },
  {
   "cell_type": "code",
   "execution_count": 18,
   "id": "19971514",
   "metadata": {},
   "outputs": [
    {
     "data": {
      "text/plain": [
       "{'name': 'Virat',\n",
       " 'College': 'SVM',\n",
       " 'Marks': {'m1': 56, 'm2': 60, 'm3': 90, 'm4': 90},\n",
       " 'age': 30}"
      ]
     },
     "execution_count": 18,
     "metadata": {},
     "output_type": "execute_result"
    }
   ],
   "source": [
    "d3['Marks']['m4']=90\n",
    "d3"
   ]
  },
  {
   "cell_type": "markdown",
   "id": "6422113a",
   "metadata": {},
   "source": [
    "## 5.  Delete key-value pair\n"
   ]
  },
  {
   "cell_type": "code",
   "execution_count": 19,
   "id": "1dd08506",
   "metadata": {},
   "outputs": [
    {
     "data": {
      "text/plain": [
       "{'name': 'Virat',\n",
       " 'College': 'SVM',\n",
       " 'Marks': {'m1': 56, 'm2': 60, 'm3': 90, 'm4': 90}}"
      ]
     },
     "execution_count": 19,
     "metadata": {},
     "output_type": "execute_result"
    }
   ],
   "source": [
    "del d3['age']\n",
    "d3"
   ]
  },
  {
   "cell_type": "markdown",
   "id": "0e9cb755",
   "metadata": {},
   "source": [
    "## 6.   Operations\n",
    "\n",
    "    No Concatenation / Mutliplication\n",
    "    Loops\n",
    "    Membership operators"
   ]
  },
  {
   "cell_type": "code",
   "execution_count": 26,
   "id": "5cf55730",
   "metadata": {},
   "outputs": [
    {
     "name": "stdout",
     "output_type": "stream",
     "text": [
      "KEYS\n",
      "name\n",
      "College\n",
      "Marks\n",
      "KEYS-VALUE PAIR\n",
      "('name', 'Virat')\n",
      "('College', 'SVM')\n",
      "('Marks', {'m1': 56, 'm2': 60, 'm3': 90, 'm4': 90})\n",
      "\n",
      "\n",
      "name Virat\n",
      "College SVM\n",
      "Marks {'m1': 56, 'm2': 60, 'm3': 90, 'm4': 90}\n"
     ]
    }
   ],
   "source": [
    "\n",
    "# It will only display the Keys .\n",
    "print(\"KEYS\")\n",
    "for i in d3:\n",
    "    print(i)\n",
    "\n",
    "# It will display the Keys and values .\n",
    "print(\"KEYS-VALUE PAIR\")\n",
    "for i in d3.items():\n",
    "    print(i)\n",
    "print(\"\\n\")\n",
    "\n",
    "for i in d3:\n",
    "\n",
    "    print(i,d3[i])"
   ]
  },
  {
   "cell_type": "code",
   "execution_count": 29,
   "id": "6c521b83",
   "metadata": {},
   "outputs": [
    {
     "name": "stdout",
     "output_type": "stream",
     "text": [
      "True\n"
     ]
    },
    {
     "data": {
      "text/plain": [
       "False"
      ]
     },
     "execution_count": 29,
     "metadata": {},
     "output_type": "execute_result"
    }
   ],
   "source": [
    "# Membership operators\n",
    "# it will only check the keys not the values.\n",
    "    \n",
    "print(\"name\" in d3) \n",
    "\"Virat\" in d3"
   ]
  },
  {
   "cell_type": "markdown",
   "id": "2907d235",
   "metadata": {},
   "source": [
    "## 7.   Functions\n",
    "\n",
    "    Length\n",
    "    MIN / MAX \n",
    "    SORTED\n",
    "    KEYS\n",
    "    VALUES"
   ]
  },
  {
   "cell_type": "code",
   "execution_count": 32,
   "id": "9ec8f96c",
   "metadata": {},
   "outputs": [
    {
     "data": {
      "text/plain": [
       "dict_keys(['name', 'College', 'Marks'])"
      ]
     },
     "execution_count": 32,
     "metadata": {},
     "output_type": "execute_result"
    }
   ],
   "source": [
    "d3.keys()"
   ]
  },
  {
   "cell_type": "code",
   "execution_count": 33,
   "id": "4e199dd2",
   "metadata": {},
   "outputs": [
    {
     "data": {
      "text/plain": [
       "dict_values(['Virat', 'SVM', {'m1': 56, 'm2': 60, 'm3': 90, 'm4': 90}])"
      ]
     },
     "execution_count": 33,
     "metadata": {},
     "output_type": "execute_result"
    }
   ],
   "source": [
    "d3.values()"
   ]
  },
  {
   "cell_type": "code",
   "execution_count": 34,
   "id": "9b39fb0f",
   "metadata": {},
   "outputs": [
    {
     "data": {
      "text/plain": [
       "3"
      ]
     },
     "execution_count": 34,
     "metadata": {},
     "output_type": "execute_result"
    }
   ],
   "source": [
    "len(d3)"
   ]
  },
  {
   "cell_type": "code",
   "execution_count": 35,
   "id": "d4efa167",
   "metadata": {},
   "outputs": [
    {
     "data": {
      "text/plain": [
       "['College', 'Marks', 'name']"
      ]
     },
     "execution_count": 35,
     "metadata": {},
     "output_type": "execute_result"
    }
   ],
   "source": [
    "sorted(d3)"
   ]
  },
  {
   "cell_type": "markdown",
   "id": "06ce4259",
   "metadata": {},
   "source": [
    "# THE END "
   ]
  }
 ],
 "metadata": {
  "kernelspec": {
   "display_name": "Python 3 (ipykernel)",
   "language": "python",
   "name": "python3"
  },
  "language_info": {
   "codemirror_mode": {
    "name": "ipython",
    "version": 3
   },
   "file_extension": ".py",
   "mimetype": "text/x-python",
   "name": "python",
   "nbconvert_exporter": "python",
   "pygments_lexer": "ipython3",
   "version": "3.9.7"
  }
 },
 "nbformat": 4,
 "nbformat_minor": 5
}
