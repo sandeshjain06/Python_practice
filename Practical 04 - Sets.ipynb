{
 "cells": [
  {
   "cell_type": "markdown",
   "id": "915e6a3e",
   "metadata": {},
   "source": [
    "# SETS can have heterogenous and homogeneous values \n",
    "\n",
    "    \n",
    "    Access Items - It does not supports indexing / Slicing\n",
    "    Edit Items - Cannot edit values in Sets but we can add items in sets\n",
    "    Delete Items from Sets\n",
    "    Set Operations\n",
    "    Set Functions \n",
    "    \n",
    "    * Sets do not allow duplicates\n",
    "    * Sets have no indexing / Slicing\n",
    "    * Sets dont allow mutuable data types\n",
    "    * Sets itself is a mutuable data types.\n"
   ]
  },
  {
   "cell_type": "code",
   "execution_count": 34,
   "id": "7edcce74",
   "metadata": {},
   "outputs": [
    {
     "data": {
      "text/plain": [
       "dict"
      ]
     },
     "execution_count": 34,
     "metadata": {},
     "output_type": "execute_result"
    }
   ],
   "source": [
    "# Create - how to create empty set\n",
    "# this will create empty dictionary \n",
    "# Dictionary and sets both used currly brackets - {}\n",
    "\n",
    "s1={}\n",
    "type(s1)"
   ]
  },
  {
   "cell_type": "code",
   "execution_count": 36,
   "id": "a2ca17a9",
   "metadata": {},
   "outputs": [
    {
     "data": {
      "text/plain": [
       "set"
      ]
     },
     "execution_count": 36,
     "metadata": {},
     "output_type": "execute_result"
    }
   ],
   "source": [
    "# Create empty set in Sets\n",
    "s1=set()\n",
    "type(s1)"
   ]
  },
  {
   "cell_type": "code",
   "execution_count": 38,
   "id": "bd5cadf3",
   "metadata": {},
   "outputs": [
    {
     "data": {
      "text/plain": [
       "{(2+3j), 1, 2, 3, 4, 'hello'}"
      ]
     },
     "execution_count": 38,
     "metadata": {},
     "output_type": "execute_result"
    }
   ],
   "source": [
    "# Homogeneou Sets\n",
    "\n",
    "s23={1,2,3,4}\n",
    "s23\n",
    "# Heterogeneou Sets\n",
    "s24={1,2,3,4,\"hello\",2+3j}\n",
    "s24"
   ]
  },
  {
   "cell_type": "code",
   "execution_count": 39,
   "id": "48e1ad24",
   "metadata": {},
   "outputs": [
    {
     "data": {
      "text/plain": [
       "{1, 2, 3, 4}"
      ]
     },
     "execution_count": 39,
     "metadata": {},
     "output_type": "execute_result"
    }
   ],
   "source": [
    "# Does not Duplicates\n",
    "\n",
    "s48= {1,2,2,3,3,3,4,4,4}\n",
    "s48"
   ]
  },
  {
   "cell_type": "code",
   "execution_count": 5,
   "id": "f0eaf3b4",
   "metadata": {},
   "outputs": [],
   "source": [
    "# List is mutuable data type , hence it will give error \n",
    "\n",
    "#s09={[1,2,3],\"hellp\"}\n",
    "#s09"
   ]
  },
  {
   "cell_type": "code",
   "execution_count": 48,
   "id": "ef77a9a9",
   "metadata": {},
   "outputs": [
    {
     "data": {
      "text/plain": [
       "{(1, 2, 3), 'Hello'}"
      ]
     },
     "execution_count": 48,
     "metadata": {},
     "output_type": "execute_result"
    }
   ],
   "source": [
    "\n",
    "s09 = {(1,2,3),'Hello'}\n",
    "s09"
   ]
  },
  {
   "cell_type": "code",
   "execution_count": 50,
   "id": "c43b2dc6",
   "metadata": {},
   "outputs": [],
   "source": [
    "# 2D Sets are not possible\n",
    "\n",
    "# set2d={{1},{2}} - it will give error \n",
    "# set2d"
   ]
  },
  {
   "cell_type": "markdown",
   "id": "826eba7f",
   "metadata": {},
   "source": [
    "## Access Items - It does not supports indexing / Slicing\n"
   ]
  },
  {
   "cell_type": "code",
   "execution_count": 52,
   "id": "d3a394ae",
   "metadata": {},
   "outputs": [],
   "source": [
    "# Cannot access items in Sets\n",
    "\n",
    "#s1={1,2,2,2}\n",
    "# s1[0]"
   ]
  },
  {
   "cell_type": "markdown",
   "id": "3fe527e2",
   "metadata": {},
   "source": [
    "# Edit Items - Cannot edit values in Sets but we can add items in sets"
   ]
  },
  {
   "cell_type": "code",
   "execution_count": 55,
   "id": "9126bfab",
   "metadata": {},
   "outputs": [
    {
     "data": {
      "text/plain": [
       "{1, 2, 4, 10}"
      ]
     },
     "execution_count": 55,
     "metadata": {},
     "output_type": "execute_result"
    }
   ],
   "source": [
    "# Add items in Sets.\n",
    "\n",
    "s1={1,2,2,4}\n",
    "s1.add(10)\n",
    "s1"
   ]
  },
  {
   "cell_type": "markdown",
   "id": "51a643a7",
   "metadata": {},
   "source": [
    "## Delete Items from Sets\n",
    "\n",
    "    * del - will delete all values , particular values cannot be deleted.\n",
    "    * remove - Removes the particular values\n",
    "    * pop - Randomly removes the last element stored in memory.\n"
   ]
  },
  {
   "cell_type": "code",
   "execution_count": 66,
   "id": "3509ce47",
   "metadata": {},
   "outputs": [
    {
     "data": {
      "text/plain": [
       "{123, 13123, 22, 90, 'hello'}"
      ]
     },
     "execution_count": 66,
     "metadata": {},
     "output_type": "execute_result"
    }
   ],
   "source": [
    "sd ={90,123,123,13123,22,\"hello\"}\n",
    "sd"
   ]
  },
  {
   "cell_type": "code",
   "execution_count": 67,
   "id": "2750d1c5",
   "metadata": {},
   "outputs": [
    {
     "data": {
      "text/plain": [
       "{13123, 22, 90, 'hello'}"
      ]
     },
     "execution_count": 67,
     "metadata": {},
     "output_type": "execute_result"
    }
   ],
   "source": [
    "sd.remove(123)\n",
    "sd"
   ]
  },
  {
   "cell_type": "code",
   "execution_count": 68,
   "id": "3d5d1ab3",
   "metadata": {},
   "outputs": [
    {
     "data": {
      "text/plain": [
       "{22, 90, 13123}"
      ]
     },
     "execution_count": 68,
     "metadata": {},
     "output_type": "execute_result"
    }
   ],
   "source": [
    "# it will delete the last values in memory which internally it has stored by \n",
    "# hashing concept - we dont know what is the last value.\n",
    "\n",
    "sd.pop()\n",
    "sd"
   ]
  },
  {
   "cell_type": "code",
   "execution_count": null,
   "id": "9af1ce41",
   "metadata": {},
   "outputs": [],
   "source": []
  },
  {
   "cell_type": "markdown",
   "id": "a59ea9f4",
   "metadata": {},
   "source": [
    "# Sets Operation\n",
    "    \n",
    "    * No Concatenation / Multiply\n",
    "    * LOOPS\n",
    "    * Membership operations"
   ]
  },
  {
   "cell_type": "code",
   "execution_count": 70,
   "id": "05727dd4",
   "metadata": {},
   "outputs": [
    {
     "name": "stdout",
     "output_type": "stream",
     "text": [
      "12322\n",
      "7\n",
      "8\n",
      "9\n",
      "123\n"
     ]
    }
   ],
   "source": [
    "s1={7,8,9,123,12322}\n",
    "s2={3,4,4,5,5}\n",
    "\n",
    "# s1+s2  - Sets does not have concatenation\n",
    "# s1*3   - Sets does not have option to mutliply\n",
    "\n",
    "# Looping\n",
    "for i in s1:\n",
    "    print(i)"
   ]
  },
  {
   "cell_type": "code",
   "execution_count": 71,
   "id": "545654b7",
   "metadata": {},
   "outputs": [
    {
     "data": {
      "text/plain": [
       "True"
      ]
     },
     "execution_count": 71,
     "metadata": {},
     "output_type": "execute_result"
    }
   ],
   "source": [
    "7 in s1"
   ]
  },
  {
   "cell_type": "markdown",
   "id": "e9d29394",
   "metadata": {},
   "source": [
    "# Functions in Sets \n",
    "\n",
    "    * Length\n",
    "    * Min / Max\n",
    "    * Sum \n",
    "    * Sorted"
   ]
  },
  {
   "cell_type": "code",
   "execution_count": 75,
   "id": "6d35dcfb",
   "metadata": {},
   "outputs": [
    {
     "data": {
      "text/plain": [
       "[12322, 123, 9, 8, 7]"
      ]
     },
     "execution_count": 75,
     "metadata": {},
     "output_type": "execute_result"
    }
   ],
   "source": [
    "len(s1)\n",
    "sorted(s1,reverse=True)"
   ]
  },
  {
   "cell_type": "markdown",
   "id": "3939b4bd",
   "metadata": {},
   "source": [
    "# Unique Operations available in Sets\n",
    "\n",
    "    * UNION\n",
    "    * INTERSECTION\n",
    "    * DIFFERENCE\n",
    "    * SYMMETRIC DIFFERENCE\n",
    "    * ISDISJOINT\n",
    "    * IsSUBSET\n",
    "    * IsSUPERSET"
   ]
  },
  {
   "cell_type": "code",
   "execution_count": 78,
   "id": "c175eab6",
   "metadata": {},
   "outputs": [
    {
     "data": {
      "text/plain": [
       "{4, 5, 6, 10, 11}"
      ]
     },
     "execution_count": 78,
     "metadata": {},
     "output_type": "execute_result"
    }
   ],
   "source": [
    "# UNION\n",
    "\n",
    "s1 ={4,5,6} ; s2={4,10,11}\n",
    "s1.union(s2)"
   ]
  },
  {
   "cell_type": "code",
   "execution_count": 79,
   "id": "d6ce93ad",
   "metadata": {},
   "outputs": [
    {
     "data": {
      "text/plain": [
       "{4}"
      ]
     },
     "execution_count": 79,
     "metadata": {},
     "output_type": "execute_result"
    }
   ],
   "source": [
    "# Intersection\n",
    "s1.intersection(s2)"
   ]
  },
  {
   "cell_type": "code",
   "execution_count": 81,
   "id": "30920773",
   "metadata": {},
   "outputs": [
    {
     "data": {
      "text/plain": [
       "{10, 11}"
      ]
     },
     "execution_count": 81,
     "metadata": {},
     "output_type": "execute_result"
    }
   ],
   "source": [
    "# Difference\n",
    "s2.difference(s1)"
   ]
  },
  {
   "cell_type": "code",
   "execution_count": 82,
   "id": "671c4547",
   "metadata": {},
   "outputs": [
    {
     "data": {
      "text/plain": [
       "{5, 6, 10, 11}"
      ]
     },
     "execution_count": 82,
     "metadata": {},
     "output_type": "execute_result"
    }
   ],
   "source": [
    "# SYMMETRIC Difference\n",
    "s2.symmetric_difference(s1)"
   ]
  },
  {
   "cell_type": "code",
   "execution_count": 83,
   "id": "6d228485",
   "metadata": {},
   "outputs": [
    {
     "data": {
      "text/plain": [
       "False"
      ]
     },
     "execution_count": 83,
     "metadata": {},
     "output_type": "execute_result"
    }
   ],
   "source": [
    "# Is Joint\n",
    "s2.isdisjoint(s1)"
   ]
  },
  {
   "cell_type": "code",
   "execution_count": 84,
   "id": "713a24d6",
   "metadata": {},
   "outputs": [
    {
     "data": {
      "text/plain": [
       "False"
      ]
     },
     "execution_count": 84,
     "metadata": {},
     "output_type": "execute_result"
    }
   ],
   "source": [
    "# Issubset\n",
    "s2.issubset(s1)"
   ]
  },
  {
   "cell_type": "code",
   "execution_count": 85,
   "id": "ddf8e069",
   "metadata": {},
   "outputs": [
    {
     "data": {
      "text/plain": [
       "False"
      ]
     },
     "execution_count": 85,
     "metadata": {},
     "output_type": "execute_result"
    }
   ],
   "source": [
    "# is superset\n",
    "s2.issuperset(s1)"
   ]
  },
  {
   "cell_type": "code",
   "execution_count": null,
   "id": "4e6052f1",
   "metadata": {},
   "outputs": [],
   "source": []
  },
  {
   "cell_type": "markdown",
   "id": "4536c6e9",
   "metadata": {},
   "source": [
    "### THE END "
   ]
  }
 ],
 "metadata": {
  "kernelspec": {
   "display_name": "Python 3 (ipykernel)",
   "language": "python",
   "name": "python3"
  },
  "language_info": {
   "codemirror_mode": {
    "name": "ipython",
    "version": 3
   },
   "file_extension": ".py",
   "mimetype": "text/x-python",
   "name": "python",
   "nbconvert_exporter": "python",
   "pygments_lexer": "ipython3",
   "version": "3.9.7"
  }
 },
 "nbformat": 4,
 "nbformat_minor": 5
}
