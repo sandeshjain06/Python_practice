{
 "cells": [
  {
   "cell_type": "markdown",
   "id": "82fad4e7",
   "metadata": {},
   "source": [
    "## 1 .  Operators - To perform operation on variables\n",
    "\n",
    "    Arithmetic  :  -  + , - , * , / -modulus operator\n",
    "    Comparison  :  < , > ,<= ,>= , ==  , !=\n",
    "    Logical     :  OR , AND , NOT\n",
    "    Bitwise     :  & - bitwise AND , | - bitwise OR  , >> , <<   \n",
    "    Assignment  :  += ,  -= ,  \n",
    "    Identity    :  Whether  2 variables share same memory location or not.\n",
    "    Membership  :  Check particular string or number available in variables or not."
   ]
  },
  {
   "cell_type": "code",
   "execution_count": 57,
   "id": "7d22b059",
   "metadata": {},
   "outputs": [
    {
     "name": "stdout",
     "output_type": "stream",
     "text": [
      "25\n"
     ]
    }
   ],
   "source": [
    "# arithmetic operators\n",
    "\n",
    "x=5\n",
    "y=2\n",
    "print(x**y)  # x to power y"
   ]
  },
  {
   "cell_type": "code",
   "execution_count": 61,
   "id": "1cbf4a7d",
   "metadata": {},
   "outputs": [
    {
     "name": "stdout",
     "output_type": "stream",
     "text": [
      "True\n",
      "True\n",
      "False\n"
     ]
    }
   ],
   "source": [
    "# comparison operator\n",
    "\n",
    "print(x>=y)\n",
    "print(x!=y)\n",
    "print(x==y)"
   ]
  },
  {
   "cell_type": "code",
   "execution_count": 68,
   "id": "6b8c2a6b",
   "metadata": {},
   "outputs": [
    {
     "name": "stdout",
     "output_type": "stream",
     "text": [
      "True\n",
      "True\n",
      "False\n"
     ]
    }
   ],
   "source": [
    "# Logical operators\n",
    "\n",
    "x=True ; y=False\n",
    "print(not(y))\n",
    "print(x or y)\n",
    "print(x and y)\n"
   ]
  },
  {
   "cell_type": "code",
   "execution_count": 81,
   "id": "8cff6da1",
   "metadata": {},
   "outputs": [
    {
     "name": "stdout",
     "output_type": "stream",
     "text": [
      "2\n",
      "3\n",
      "0\n",
      "6\n"
     ]
    }
   ],
   "source": [
    "# bitwise operator\n",
    "x=2\n",
    "y=3\n",
    "print(x & y) # x = 010 y = 011 \n",
    "print(x | y) # x = 010 y = 011 \n",
    "print(x >>5)\n",
    "print(y <<1)"
   ]
  },
  {
   "cell_type": "code",
   "execution_count": 90,
   "id": "c6f2e2d9",
   "metadata": {},
   "outputs": [
    {
     "name": "stdout",
     "output_type": "stream",
     "text": [
      "3\n",
      "9\n"
     ]
    }
   ],
   "source": [
    "# Assignment operator\n",
    "a=0\n",
    "a+=3          # a=a+3\n",
    "print(a)\n",
    "a *=3         # a=a*3\n",
    "print(a)\n"
   ]
  },
  {
   "cell_type": "code",
   "execution_count": 6,
   "id": "62215679",
   "metadata": {},
   "outputs": [
    {
     "name": "stdout",
     "output_type": "stream",
     "text": [
      "True\n",
      "False\n",
      "False\n",
      "True\n"
     ]
    }
   ],
   "source": [
    "# identity\n",
    "\n",
    "a=\"hello\" ; b=\"hello\"\n",
    "print(a is b)\n",
    "a1=[1,2,3] ;  b1=[1,2,3]\n",
    "print(a1 is b1)\n",
    "a=\"hello-world\" ; b=\"hello-world\"\n",
    "print(a is b)\n",
    "print(a is not b)\n"
   ]
  },
  {
   "cell_type": "code",
   "execution_count": 100,
   "id": "0b5f415a",
   "metadata": {},
   "outputs": [
    {
     "name": "stdout",
     "output_type": "stream",
     "text": [
      "True\n",
      "False\n",
      "True\n",
      "False\n"
     ]
    }
   ],
   "source": [
    "# membership\n",
    "x= \"bangalore\"\n",
    "print(\"b\" in x)\n",
    "print(\"b\" not in x)\n",
    "\n",
    "y= [1,2,4,55,56]\n",
    "print(4 in y)\n",
    "print(\"b\" in y)"
   ]
  },
  {
   "cell_type": "code",
   "execution_count": null,
   "id": "98464bcb",
   "metadata": {},
   "outputs": [],
   "source": []
  }
 ],
 "metadata": {
  "kernelspec": {
   "display_name": "Python 3 (ipykernel)",
   "language": "python",
   "name": "python3"
  },
  "language_info": {
   "codemirror_mode": {
    "name": "ipython",
    "version": 3
   },
   "file_extension": ".py",
   "mimetype": "text/x-python",
   "name": "python",
   "nbconvert_exporter": "python",
   "pygments_lexer": "ipython3",
   "version": "3.9.7"
  }
 },
 "nbformat": 4,
 "nbformat_minor": 5
}
