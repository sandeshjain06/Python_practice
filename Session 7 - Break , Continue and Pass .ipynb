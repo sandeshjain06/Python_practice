{
 "cells": [
  {
   "cell_type": "markdown",
   "id": "a047c021",
   "metadata": {},
   "source": [
    "##  1.  Break "
   ]
  },
  {
   "cell_type": "code",
   "execution_count": 1,
   "id": "ffd0ae2c",
   "metadata": {},
   "outputs": [
    {
     "name": "stdout",
     "output_type": "stream",
     "text": [
      "1\n",
      "2\n",
      "3\n",
      "4\n"
     ]
    }
   ],
   "source": [
    "for i in range(1,11):\n",
    "    if i == 5:\n",
    "        break\n",
    "    print(i)"
   ]
  },
  {
   "cell_type": "markdown",
   "id": "0f039ddd",
   "metadata": {},
   "source": [
    "## 2. Continue "
   ]
  },
  {
   "cell_type": "code",
   "execution_count": 2,
   "id": "d6df6bec",
   "metadata": {},
   "outputs": [
    {
     "name": "stdout",
     "output_type": "stream",
     "text": [
      "1\n",
      "hello\n",
      "2\n",
      "hello\n",
      "3\n",
      "hello\n",
      "4\n",
      "hello\n",
      "6\n",
      "hello\n",
      "7\n",
      "hello\n",
      "8\n",
      "hello\n",
      "9\n",
      "hello\n"
     ]
    }
   ],
   "source": [
    "# Whenever the condition meets , skip that block code.\n",
    "# Skip when i =  5.\n",
    "\n",
    "for i in range(1,10):\n",
    "    if i ==5:\n",
    "        continue\n",
    "    print(i)\n",
    "    print(\"hello\")"
   ]
  },
  {
   "cell_type": "markdown",
   "id": "5829f8da",
   "metadata": {},
   "source": [
    "##  3.  Pass"
   ]
  },
  {
   "cell_type": "code",
   "execution_count": 3,
   "id": "61b496f8",
   "metadata": {},
   "outputs": [],
   "source": [
    "for i in range(0,10):\n",
    "    pass"
   ]
  },
  {
   "cell_type": "code",
   "execution_count": 4,
   "id": "e4f54ec2",
   "metadata": {},
   "outputs": [
    {
     "name": "stdout",
     "output_type": "stream",
     "text": [
      "1\n",
      "2\n",
      "3\n",
      "4\n",
      "1\n",
      "hello\n",
      "2\n",
      "hello\n",
      "3\n",
      "hello\n",
      "4\n",
      "hello\n",
      "6\n",
      "hello\n",
      "7\n",
      "hello\n",
      "8\n",
      "hello\n",
      "9\n",
      "hello\n"
     ]
    }
   ],
   "source": [
    "# Break and Continue \n",
    "\n",
    "for i in range(1,11):\n",
    "    if i == 5:\n",
    "        break\n",
    "    print(i)\n",
    "\n",
    "for i in range(1,10):\n",
    "    if i ==5:\n",
    "        continue\n",
    "    print(i)\n",
    "    print(\"hello\")\n",
    "\n",
    "# Pass\n",
    "\n",
    "for i in range(0,10):\n",
    "    pass"
   ]
  },
  {
   "cell_type": "code",
   "execution_count": null,
   "id": "80d8899e",
   "metadata": {},
   "outputs": [],
   "source": []
  },
  {
   "cell_type": "markdown",
   "id": "7561bf54",
   "metadata": {},
   "source": [
    "### THE END "
   ]
  }
 ],
 "metadata": {
  "kernelspec": {
   "display_name": "Python 3 (ipykernel)",
   "language": "python",
   "name": "python3"
  },
  "language_info": {
   "codemirror_mode": {
    "name": "ipython",
    "version": 3
   },
   "file_extension": ".py",
   "mimetype": "text/x-python",
   "name": "python",
   "nbconvert_exporter": "python",
   "pygments_lexer": "ipython3",
   "version": "3.9.7"
  }
 },
 "nbformat": 4,
 "nbformat_minor": 5
}
