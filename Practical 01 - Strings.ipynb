{
 "cells": [
  {
   "cell_type": "markdown",
   "id": "e21b6f07",
   "metadata": {},
   "source": [
    "### Strings are sequence of unicode characters\n",
    "\n",
    "**Strings are Immutable Data Types . Cannot be edited or deleted.**\n",
    "\n",
    "\n",
    "\n",
    "\n",
    "**1.  Creating strings**\n",
    "\n",
    "\n",
    "**2.  Accessing strings**  -  Positive / Negative Indexing \n",
    "\n",
    "\n",
    "**3.  Slicing** - To extract substring from string \n",
    "\n",
    "\n",
    "**4.  Editing string  /  Deleting strings**  - Not possible on strings as it is immutable \n",
    "\n",
    "\n",
    "\n",
    "**5.  Operations on strings**\n",
    "\n",
    "\n",
    "    Arithmetic Operations - Addition\n",
    "    Relational Operations - >,<.<=,>=,!=,==\n",
    "    Logical Operations\n",
    "    Loops on String\n",
    "    Membership Operations\n",
    "    \n",
    "    \n",
    "**6.  String functions**\n",
    "\n",
    "    Common Function - len,min,max,sorted\n",
    "    \n",
    "    Specific to string\n",
    "    1.Capitalize   - It will convert only the starting alphabet in capital letters.\n",
    "    2.title        - It will convert every word starting letter into alphabets.\n",
    "    3.Upper        - Entire letter will be in uppercase / Lower - entire word will be in lower case \n",
    "    4.Swapcase     - Starting letter of the word will be in lower case and remaining in upper case.\n",
    "    5.COUNT        - If alphabet is not available it will throw 0 else 1\n",
    "    6.FIND         - It alphabet is not avialable it will throw -1\n",
    "    7.INDEX        - It will throw error if particular alphabet is not available.\n",
    "    8.STARTS WITH / ENDS WITH - If condition satisfied will return boolean values.\n",
    "    9.FORMAT        - To pass any values at the last .\n",
    "    10.Isalnum / isalpha / IsDecimal / Isdigit / IsIdentifier\n",
    "    11.SPLIT      - Convert the string into list.\n",
    "    12.JOIN       -  join the sentence using any space / or any special characters.\n",
    "    13.REPLACE    - To replace any word from the sentence.\n",
    "    14.STRIP      - Removing the leading or trailing spaces.\n",
    "    "
   ]
  },
  {
   "cell_type": "markdown",
   "id": "df603389",
   "metadata": {},
   "source": [
    "## 1.  Creating strings\n"
   ]
  },
  {
   "cell_type": "code",
   "execution_count": 1,
   "id": "80fddae6",
   "metadata": {},
   "outputs": [
    {
     "name": "stdout",
     "output_type": "stream",
     "text": [
      "hello\n",
      "hello - part2\n",
      "it's raining inside\n",
      "Hello - part3\n",
      "Help- part4\n"
     ]
    },
    {
     "data": {
      "text/plain": [
       "'Good morning'"
      ]
     },
     "execution_count": 1,
     "metadata": {},
     "output_type": "execute_result"
    }
   ],
   "source": [
    "# creating strings\n",
    "print('hello')\n",
    "print(\"hello - part2\")\n",
    "print(\"it's raining inside\")\n",
    "print(\"\"\"Hello - part3\"\"\")\n",
    "print('''Help- part4''')\n",
    "c=str(\"Good morning\")\n",
    "c"
   ]
  },
  {
   "cell_type": "markdown",
   "id": "4abd0fd0",
   "metadata": {},
   "source": [
    "### 2.    INDEXING -  Accessing substring from strings.\n",
    "\n",
    "* Types of indexing\n",
    "* 1.positive indexing - from start to end (0,1,2...)\n",
    "* 2.Negative indexing - from end to start (-1 , -2 )\n"
   ]
  },
  {
   "cell_type": "code",
   "execution_count": 7,
   "id": "e64dc833",
   "metadata": {},
   "outputs": [
    {
     "name": "stdout",
     "output_type": "stream",
     "text": [
      "d\n"
     ]
    }
   ],
   "source": [
    "# positive indexing\n",
    "c=\"Indexing\"\n",
    "print(c[2])"
   ]
  },
  {
   "cell_type": "code",
   "execution_count": 6,
   "id": "92d7786d",
   "metadata": {},
   "outputs": [
    {
     "name": "stdout",
     "output_type": "stream",
     "text": [
      "g\n",
      "gnixednI\n"
     ]
    }
   ],
   "source": [
    "# negative indexing \n",
    "c=\"Indexing\"\n",
    "print(c[-1])\n",
    "print(c[::-1])\n"
   ]
  },
  {
   "cell_type": "markdown",
   "id": "f6f767dc",
   "metadata": {},
   "source": [
    "### 3.   Slicing - To extract substring from string "
   ]
  },
  {
   "cell_type": "code",
   "execution_count": 14,
   "id": "f00b4b56",
   "metadata": {},
   "outputs": [
    {
     "name": "stdout",
     "output_type": "stream",
     "text": [
      "Slici\n",
      "Slicing into Sl\n",
      "Slicing into Slice\n",
      "li tSc\n"
     ]
    }
   ],
   "source": [
    "c=\"Slicing into Slice\"\n",
    "print(c[0:5])\n",
    "print(c[:15])\n",
    "print(c[:])\n",
    "print(c[1:20:3]) # Last= 3 means leave 2 gaps after every word "
   ]
  },
  {
   "cell_type": "code",
   "execution_count": 9,
   "id": "f16aed49",
   "metadata": {},
   "outputs": [
    {
     "name": "stdout",
     "output_type": "stream",
     "text": [
      "Si\n"
     ]
    }
   ],
   "source": [
    "print(c[-5:-1:2])"
   ]
  },
  {
   "cell_type": "code",
   "execution_count": 10,
   "id": "7c4bd1a5",
   "metadata": {},
   "outputs": [
    {
     "name": "stdout",
     "output_type": "stream",
     "text": [
      "ecilS otni gnicilS\n"
     ]
    }
   ],
   "source": [
    "print(c[::-1])"
   ]
  },
  {
   "cell_type": "code",
   "execution_count": 11,
   "id": "fefb7603",
   "metadata": {},
   "outputs": [
    {
     "data": {
      "text/plain": [
       "'ecil'"
      ]
     },
     "execution_count": 11,
     "metadata": {},
     "output_type": "execute_result"
    }
   ],
   "source": [
    "c[-1:-5:-1]"
   ]
  },
  {
   "cell_type": "code",
   "execution_count": 12,
   "id": "954a6f44",
   "metadata": {},
   "outputs": [
    {
     "data": {
      "text/plain": [
       "'ecil'"
      ]
     },
     "execution_count": 12,
     "metadata": {},
     "output_type": "execute_result"
    }
   ],
   "source": [
    "c[-1:-5:-1]"
   ]
  },
  {
   "cell_type": "markdown",
   "id": "65016b4e",
   "metadata": {},
   "source": [
    "## 4.    Editing and Deleting Strings\n",
    "\n",
    "### Python String are immutable,we cannot change particular index values\n"
   ]
  },
  {
   "cell_type": "code",
   "execution_count": 13,
   "id": "0695a823",
   "metadata": {},
   "outputs": [],
   "source": [
    "# Insertion String \n",
    "# c=\"world\"\n",
    "# c[0]=\"X\"  - cannot edit the string.\n",
    "# c[5]=\"Y\"  - cannot edit the string.\n"
   ]
  },
  {
   "cell_type": "code",
   "execution_count": null,
   "id": "c2fa5426",
   "metadata": {},
   "outputs": [],
   "source": [
    "# Deletion\n",
    "# del c[0] -  we cannot delete any part of the string.\n"
   ]
  },
  {
   "cell_type": "markdown",
   "id": "221ffea8",
   "metadata": {},
   "source": [
    "## 5.   String Operations\n",
    "\n",
    "* Arithmetic Operations  - Addition\n",
    "* Relational Operations - >,<.<=,>=,!=,==\n",
    "* Logical Operations\n",
    "* Loops on String\n",
    "* Membership Operations"
   ]
  },
  {
   "cell_type": "code",
   "execution_count": 40,
   "id": "f8fab6a8",
   "metadata": {},
   "outputs": [
    {
     "data": {
      "text/plain": [
       "'Hello-World=Hello-World'"
      ]
     },
     "execution_count": 40,
     "metadata": {},
     "output_type": "execute_result"
    }
   ],
   "source": [
    "\"Hello\"+\"-\"+\"World\"+\"=\"+\"Hello-World\""
   ]
  },
  {
   "cell_type": "code",
   "execution_count": 41,
   "id": "4952c071",
   "metadata": {},
   "outputs": [
    {
     "name": "stdout",
     "output_type": "stream",
     "text": [
      "**************************************************\n"
     ]
    }
   ],
   "source": [
    "print(\"*\"*50)"
   ]
  },
  {
   "cell_type": "code",
   "execution_count": 42,
   "id": "0240b5e1",
   "metadata": {},
   "outputs": [
    {
     "data": {
      "text/plain": [
       "True"
      ]
     },
     "execution_count": 42,
     "metadata": {},
     "output_type": "execute_result"
    }
   ],
   "source": [
    "# relational operations\n",
    "\"Hello\"!=\"World\""
   ]
  },
  {
   "cell_type": "code",
   "execution_count": 43,
   "id": "4c1ba172",
   "metadata": {},
   "outputs": [
    {
     "data": {
      "text/plain": [
       "False"
      ]
     },
     "execution_count": 43,
     "metadata": {},
     "output_type": "execute_result"
    }
   ],
   "source": [
    "\"Mumbai\">\"Pune\" # based on dictionary the mumbai will\n",
    "                # come first so it is less than pune."
   ]
  },
  {
   "cell_type": "code",
   "execution_count": 8,
   "id": "b0dc4d19",
   "metadata": {},
   "outputs": [
    {
     "data": {
      "text/plain": [
       "False"
      ]
     },
     "execution_count": 8,
     "metadata": {},
     "output_type": "execute_result"
    }
   ],
   "source": [
    "\"kol\"<\"KOl\" # First capital then small letters."
   ]
  },
  {
   "cell_type": "code",
   "execution_count": 46,
   "id": "420450d7",
   "metadata": {},
   "outputs": [
    {
     "data": {
      "text/plain": [
       "'world'"
      ]
     },
     "execution_count": 46,
     "metadata": {},
     "output_type": "execute_result"
    }
   ],
   "source": [
    "# Logical operations\n",
    "\n",
    "# empty string =False, \"abc\"=True\n",
    "\n",
    "\"hello\" and \"world\""
   ]
  },
  {
   "cell_type": "code",
   "execution_count": 48,
   "id": "9045c53b",
   "metadata": {},
   "outputs": [
    {
     "data": {
      "text/plain": [
       "'hellp'"
      ]
     },
     "execution_count": 48,
     "metadata": {},
     "output_type": "execute_result"
    }
   ],
   "source": [
    "\"\"or\"hellp\""
   ]
  },
  {
   "cell_type": "code",
   "execution_count": 49,
   "id": "8746c820",
   "metadata": {},
   "outputs": [
    {
     "data": {
      "text/plain": [
       "''"
      ]
     },
     "execution_count": 49,
     "metadata": {},
     "output_type": "execute_result"
    }
   ],
   "source": [
    "\"\"and\"hellp\""
   ]
  },
  {
   "cell_type": "code",
   "execution_count": 50,
   "id": "c00f1d88",
   "metadata": {},
   "outputs": [
    {
     "data": {
      "text/plain": [
       "'good'"
      ]
     },
     "execution_count": 50,
     "metadata": {},
     "output_type": "execute_result"
    }
   ],
   "source": [
    "\"hellp\" and\"good\""
   ]
  },
  {
   "cell_type": "code",
   "execution_count": 51,
   "id": "47a67d54",
   "metadata": {},
   "outputs": [
    {
     "data": {
      "text/plain": [
       "'hellp'"
      ]
     },
     "execution_count": 51,
     "metadata": {},
     "output_type": "execute_result"
    }
   ],
   "source": [
    "\"hellp\" or \"good\""
   ]
  },
  {
   "cell_type": "code",
   "execution_count": 52,
   "id": "2ee315c6",
   "metadata": {},
   "outputs": [
    {
     "data": {
      "text/plain": [
       "False"
      ]
     },
     "execution_count": 52,
     "metadata": {},
     "output_type": "execute_result"
    }
   ],
   "source": [
    "not \"hello\""
   ]
  },
  {
   "cell_type": "code",
   "execution_count": 53,
   "id": "c5229b96",
   "metadata": {},
   "outputs": [
    {
     "data": {
      "text/plain": [
       "True"
      ]
     },
     "execution_count": 53,
     "metadata": {},
     "output_type": "execute_result"
    }
   ],
   "source": [
    "not \"\""
   ]
  },
  {
   "cell_type": "code",
   "execution_count": 56,
   "id": "722034d2",
   "metadata": {},
   "outputs": [
    {
     "name": "stdout",
     "output_type": "stream",
     "text": [
      "g\n",
      "o\n",
      "o\n",
      "g\n",
      "l\n",
      "e\n"
     ]
    }
   ],
   "source": [
    "# Loops\n",
    "\n",
    "c=\"google\"\n",
    "for i in c[:8]:\n",
    "    print(i)"
   ]
  },
  {
   "cell_type": "markdown",
   "id": "01a0c707",
   "metadata": {},
   "source": [
    "## 6.  String Function\n",
    "\n",
    "    1. Common Function - len,min,max,sorted\n",
    "\n",
    "    2. Specific to string\n",
    "\n",
    "    Capitalize    - It will convert only the starting alphabet in capital letters.\n",
    "    Title         - It will convert every word starting letter into alphabets.\n",
    "    Upper         - Entire letter will be in uppercase / Lower - entire word will be in lower case \n",
    "    SwapCase      - Starting letter of the word will be in lower case and remaining in upper case.\n",
    "    COUNT         - If alphabet is not available it will throw 0 else 1\n",
    "    FIND          - It alphabet is not avialable it will throw -1\n",
    "    INDEX         - It will throw error if particular alphabet is not available.\n",
    "    STARTS WITH / ENDS WITH - If condition satisfied will return boolean values.\n",
    "    FORMAT        - To pass any values at the last .\n",
    "    Isalnum / Isalpha / IsDecimal / Isdigit / IsIdentifier\n",
    "    SPLIT         - Convert the string into list.\n",
    "    JOIN          - Join the sentence using any space / or any special characters.\n",
    "    REPLACE       - Replace any word from the sentence.\n",
    "    STRIP         - Removing the leading or trailing spaces."
   ]
  },
  {
   "cell_type": "code",
   "execution_count": 10,
   "id": "87740cec",
   "metadata": {},
   "outputs": [
    {
     "name": "stdout",
     "output_type": "stream",
     "text": [
      "e\n"
     ]
    },
    {
     "data": {
      "text/plain": [
       "['e', 'g', 'g', 'l', 'o', 'o']"
      ]
     },
     "execution_count": 10,
     "metadata": {},
     "output_type": "execute_result"
    }
   ],
   "source": [
    "# len,min,max,sorted\n",
    "a=\"google\"\n",
    "print(min(a))  # based on ASCII values it is giving the minimum values.\n",
    "sorted(a) # based on ASCII values."
   ]
  },
  {
   "cell_type": "code",
   "execution_count": 66,
   "id": "17859524",
   "metadata": {},
   "outputs": [
    {
     "data": {
      "text/plain": [
       "'It is raining today'"
      ]
     },
     "execution_count": 66,
     "metadata": {},
     "output_type": "execute_result"
    }
   ],
   "source": [
    "#capitalize / title/Upper/Lower/Swapcase\n",
    "\n",
    "\"it is raining today\".capitalize()\n"
   ]
  },
  {
   "cell_type": "code",
   "execution_count": 9,
   "id": "f123ed1e",
   "metadata": {},
   "outputs": [
    {
     "data": {
      "text/plain": [
       "'It Is Raining Today'"
      ]
     },
     "execution_count": 9,
     "metadata": {},
     "output_type": "execute_result"
    }
   ],
   "source": [
    "\"it is raining today\".title()"
   ]
  },
  {
   "cell_type": "code",
   "execution_count": 61,
   "id": "872f3cd9",
   "metadata": {},
   "outputs": [
    {
     "data": {
      "text/plain": [
       "'mUMBAI'"
      ]
     },
     "execution_count": 61,
     "metadata": {},
     "output_type": "execute_result"
    }
   ],
   "source": [
    "\"Mumbai\".swapcase()"
   ]
  },
  {
   "cell_type": "code",
   "execution_count": 68,
   "id": "d7c6ec0e",
   "metadata": {},
   "outputs": [
    {
     "data": {
      "text/plain": [
       "'MUMBAI'"
      ]
     },
     "execution_count": 68,
     "metadata": {},
     "output_type": "execute_result"
    }
   ],
   "source": [
    "\"Mumbai\".upper()"
   ]
  },
  {
   "cell_type": "code",
   "execution_count": 11,
   "id": "1fead518",
   "metadata": {},
   "outputs": [
    {
     "data": {
      "text/plain": [
       "2"
      ]
     },
     "execution_count": 11,
     "metadata": {},
     "output_type": "execute_result"
    }
   ],
   "source": [
    "# count\n",
    "\n",
    "\"google me\".count(\"g\") # it alphabet is not avialable it will throw 0"
   ]
  },
  {
   "cell_type": "code",
   "execution_count": 23,
   "id": "d6cc3a89",
   "metadata": {},
   "outputs": [
    {
     "data": {
      "text/plain": [
       "0"
      ]
     },
     "execution_count": 23,
     "metadata": {},
     "output_type": "execute_result"
    }
   ],
   "source": [
    "# Find\n",
    "\"google me\".find(\"g\") # it alphabet is not avialable it will throw -1"
   ]
  },
  {
   "cell_type": "code",
   "execution_count": 26,
   "id": "14d8738f",
   "metadata": {},
   "outputs": [
    {
     "data": {
      "text/plain": [
       "5"
      ]
     },
     "execution_count": 26,
     "metadata": {},
     "output_type": "execute_result"
    }
   ],
   "source": [
    "# Index\n",
    "\"google me\".index(\"e\") # it alphabet is not avialable it will throw error."
   ]
  },
  {
   "cell_type": "code",
   "execution_count": 81,
   "id": "ede98278",
   "metadata": {},
   "outputs": [
    {
     "data": {
      "text/plain": [
       "False"
      ]
     },
     "execution_count": 81,
     "metadata": {},
     "output_type": "execute_result"
    }
   ],
   "source": [
    "# starts with and ends with \n",
    "\"i am the ceo of google\".startswith(\"a\")"
   ]
  },
  {
   "cell_type": "code",
   "execution_count": 85,
   "id": "b515c79a",
   "metadata": {},
   "outputs": [
    {
     "data": {
      "text/plain": [
       "'i am the google CEO - Sundar'"
      ]
     },
     "execution_count": 85,
     "metadata": {},
     "output_type": "execute_result"
    }
   ],
   "source": [
    "# Format \n",
    "\n",
    "\"i am the google CEO - {}\".format(\"Sundar\")"
   ]
  },
  {
   "cell_type": "code",
   "execution_count": 14,
   "id": "1dd0d4dc",
   "metadata": {},
   "outputs": [
    {
     "data": {
      "text/plain": [
       "'i am the google CEO - Sundar-Pichai'"
      ]
     },
     "execution_count": 14,
     "metadata": {},
     "output_type": "execute_result"
    }
   ],
   "source": [
    "\"i am the google CEO - {0}-{1}\".format(\"Sundar\",\"Pichai\")"
   ]
  },
  {
   "cell_type": "code",
   "execution_count": 88,
   "id": "17614385",
   "metadata": {},
   "outputs": [
    {
     "data": {
      "text/plain": [
       "'i am the google CEO - Pichai'"
      ]
     },
     "execution_count": 88,
     "metadata": {},
     "output_type": "execute_result"
    }
   ],
   "source": [
    "\"i am the google CEO - {name}\".format(\"Sundar\",name=\"Pichai\")"
   ]
  },
  {
   "cell_type": "code",
   "execution_count": 89,
   "id": "136edc8a",
   "metadata": {},
   "outputs": [
    {
     "data": {
      "text/plain": [
       "'i am the google CEO - Pichai'"
      ]
     },
     "execution_count": 89,
     "metadata": {},
     "output_type": "execute_result"
    }
   ],
   "source": [
    "\"i am the google CEO - {age}\".format(name=\"Sundar\",age=\"Pichai\")"
   ]
  },
  {
   "cell_type": "code",
   "execution_count": null,
   "id": "47c0a3fb",
   "metadata": {},
   "outputs": [],
   "source": [
    "# Isalnum - string should contain alphabet and string.\n",
    "\n",
    "# is alpha - string should contain alphabets.\n",
    "\n",
    "# isdecimal  - string should contains decimal values.\n",
    "\n",
    "# isdigit - string should contains numerical values.\n",
    "\n",
    "# isidentifier - string should not contain space\n"
   ]
  },
  {
   "cell_type": "code",
   "execution_count": 94,
   "id": "e3bc7ec4",
   "metadata": {},
   "outputs": [
    {
     "data": {
      "text/plain": [
       "False"
      ]
     },
     "execution_count": 94,
     "metadata": {},
     "output_type": "execute_result"
    }
   ],
   "source": [
    "\"Hellp56_df123123 23\".isidentifier()"
   ]
  },
  {
   "cell_type": "code",
   "execution_count": 95,
   "id": "7707f6ec",
   "metadata": {},
   "outputs": [
    {
     "data": {
      "text/plain": [
       "['who', 'is', 'the', 'ceo', 'of', 'google']"
      ]
     },
     "execution_count": 95,
     "metadata": {},
     "output_type": "execute_result"
    }
   ],
   "source": [
    "# Split - it will convert the strings into List.\n",
    "\n",
    "\"who is the ceo of google\".split()\n"
   ]
  },
  {
   "cell_type": "code",
   "execution_count": 96,
   "id": "de64c80c",
   "metadata": {},
   "outputs": [
    {
     "data": {
      "text/plain": [
       "['who is the ', ' of google']"
      ]
     },
     "execution_count": 96,
     "metadata": {},
     "output_type": "execute_result"
    }
   ],
   "source": [
    "\"who is the ceo of google\".split(\"ceo\")\n"
   ]
  },
  {
   "cell_type": "code",
   "execution_count": 103,
   "id": "6d561d72",
   "metadata": {},
   "outputs": [
    {
     "data": {
      "text/plain": [
       "'who/ is/ the/ ceo/ of/ google'"
      ]
     },
     "execution_count": 103,
     "metadata": {},
     "output_type": "execute_result"
    }
   ],
   "source": [
    "# Join - List can be converted into Strings.\n",
    "\n",
    "\"/ \".join(['who', 'is', 'the', 'ceo', 'of', 'google'])"
   ]
  },
  {
   "cell_type": "code",
   "execution_count": 106,
   "id": "a0225825",
   "metadata": {},
   "outputs": [
    {
     "data": {
      "text/plain": [
       "'who$  is$  the$  ceo$  of$  google'"
      ]
     },
     "execution_count": 106,
     "metadata": {},
     "output_type": "execute_result"
    }
   ],
   "source": [
    "\"$  \".join(['who', 'is', 'the', 'ceo', 'of', 'google'])"
   ]
  },
  {
   "cell_type": "code",
   "execution_count": 107,
   "id": "6eaf43ec",
   "metadata": {},
   "outputs": [
    {
     "data": {
      "text/plain": [
       "'I am the CEO of amazon '"
      ]
     },
     "execution_count": 107,
     "metadata": {},
     "output_type": "execute_result"
    }
   ],
   "source": [
    "# Replace\n",
    "\n",
    "\"I am the CEO of google \".replace(\"google\",\"amazon\")"
   ]
  },
  {
   "cell_type": "code",
   "execution_count": 111,
   "id": "83e29bec",
   "metadata": {},
   "outputs": [
    {
     "data": {
      "text/plain": [
       "'Sandesh'"
      ]
     },
     "execution_count": 111,
     "metadata": {},
     "output_type": "execute_result"
    }
   ],
   "source": [
    "# Strip - removes the spaces between the starting and ending of string\n",
    "name= \"       Sandesh         \".strip()\n",
    "name"
   ]
  },
  {
   "cell_type": "code",
   "execution_count": 20,
   "id": "6a515902",
   "metadata": {},
   "outputs": [
    {
     "data": {
      "text/plain": [
       "'1 2 3 23 23 22'"
      ]
     },
     "execution_count": 20,
     "metadata": {},
     "output_type": "execute_result"
    }
   ],
   "source": [
    "\n",
    "z=['1','2','3','23','23','22']\n",
    "\" \".join(z)"
   ]
  },
  {
   "cell_type": "markdown",
   "id": "9af0ac07",
   "metadata": {},
   "source": [
    "# THE END"
   ]
  }
 ],
 "metadata": {
  "kernelspec": {
   "display_name": "Python 3 (ipykernel)",
   "language": "python",
   "name": "python3"
  },
  "language_info": {
   "codemirror_mode": {
    "name": "ipython",
    "version": 3
   },
   "file_extension": ".py",
   "mimetype": "text/x-python",
   "name": "python",
   "nbconvert_exporter": "python",
   "pygments_lexer": "ipython3",
   "version": "3.9.7"
  }
 },
 "nbformat": 4,
 "nbformat_minor": 5
}
