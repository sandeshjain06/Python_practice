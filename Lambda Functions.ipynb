{
 "cells": [
  {
   "cell_type": "markdown",
   "id": "b44b93a5",
   "metadata": {},
   "source": [
    "## Lambda Functions \n",
    "\n",
    "    Lambda input : expressions \n",
    "\n",
    "\n",
    "## Difference between lambda and Functions\n",
    "\n",
    "    1.Lambda has no return values\n",
    "    2.It will be one line only.\n",
    "    3.Not used for code reusability\n",
    "    4.No Name.\n",
    "    \n",
    "    \n",
    "## High Order Functions \n",
    "\n",
    "    Map , Reduce , Filter \n",
    "    \n",
    "## List Comprehension and Dictionary Comprehension\n",
    "    \n",
    "    - List\n"
   ]
  },
  {
   "cell_type": "markdown",
   "id": "ef65a020",
   "metadata": {},
   "source": [
    "## 1 . Lambda Functions"
   ]
  },
  {
   "cell_type": "code",
   "execution_count": 4,
   "id": "e1e2cee6",
   "metadata": {},
   "outputs": [
    {
     "name": "stdout",
     "output_type": "stream",
     "text": [
      "81\n",
      "11\n"
     ]
    }
   ],
   "source": [
    "# lambda input : expression\n",
    "\n",
    "x=lambda x : x**2\n",
    "print(x(9))\n",
    "\n",
    "a=lambda x,y:x+y\n",
    "print(a(5,6))"
   ]
  },
  {
   "cell_type": "code",
   "execution_count": 6,
   "id": "d9cdda8b",
   "metadata": {},
   "outputs": [
    {
     "data": {
      "text/plain": [
       "True"
      ]
     },
     "execution_count": 6,
     "metadata": {},
     "output_type": "execute_result"
    }
   ],
   "source": [
    "# check whether starting alphabet is A or not.\n",
    "b=lambda x:x[0]=='a'\n",
    "b('apple')"
   ]
  },
  {
   "cell_type": "code",
   "execution_count": 7,
   "id": "1c60c97a",
   "metadata": {},
   "outputs": [
    {
     "data": {
      "text/plain": [
       "False"
      ]
     },
     "execution_count": 7,
     "metadata": {},
     "output_type": "execute_result"
    }
   ],
   "source": [
    "b('banana')"
   ]
  },
  {
   "cell_type": "code",
   "execution_count": 10,
   "id": "6cd1ddf3",
   "metadata": {},
   "outputs": [
    {
     "data": {
      "text/plain": [
       "'Even'"
      ]
     },
     "execution_count": 10,
     "metadata": {},
     "output_type": "execute_result"
    }
   ],
   "source": [
    "b2=lambda x: \"Even\" if x%2==0 else \"odd\"\n",
    "b2(0)"
   ]
  },
  {
   "cell_type": "code",
   "execution_count": 31,
   "id": "6e663342",
   "metadata": {},
   "outputs": [],
   "source": [
    "# Higher order functions\n",
    "\n",
    "def return_sum(l1):\n",
    "    odd_no=0\n",
    "    even_no=0\n",
    "    divis=0\n",
    "    for i in l1:\n",
    "        if i%2==0:\n",
    "            even_no=even_no+i\n",
    "        if i%3==0:\n",
    "            divis=divis+i\n",
    "        if i%2!=0:\n",
    "            odd_no=odd_no+i\n",
    "        else:\n",
    "            pass\n",
    "        \n",
    "    return(odd_no,even_no,divis)"
   ]
  },
  {
   "cell_type": "code",
   "execution_count": 30,
   "id": "c97fdde8",
   "metadata": {},
   "outputs": [
    {
     "data": {
      "text/plain": [
       "(9, 12, 9)"
      ]
     },
     "execution_count": 30,
     "metadata": {},
     "output_type": "execute_result"
    }
   ],
   "source": [
    "l1=[1,2,3,4,5,6]\n",
    "\n",
    "return_sum(l1)"
   ]
  },
  {
   "cell_type": "code",
   "execution_count": 32,
   "id": "1a157d90",
   "metadata": {},
   "outputs": [],
   "source": [
    "def return_sum(func,L):\n",
    "    result=0\n",
    "    for i in L:\n",
    "        if func(i):\n",
    "            result=result+i\n",
    "    return result\n"
   ]
  },
  {
   "cell_type": "code",
   "execution_count": 36,
   "id": "a8b19cf5",
   "metadata": {},
   "outputs": [
    {
     "name": "stdout",
     "output_type": "stream",
     "text": [
      "12\n"
     ]
    },
    {
     "data": {
      "text/plain": [
       "9"
      ]
     },
     "execution_count": 36,
     "metadata": {},
     "output_type": "execute_result"
    }
   ],
   "source": [
    "L=[1,2,3,4,5,6]\n",
    "x=lambda x : x%2 ==0\n",
    "y=lambda x : x%2 !=0\n",
    "z=lambda x : x%3 ==0\n",
    "\n",
    "print(return_sum(x,L))\n",
    "return_sum(y,L)\n"
   ]
  },
  {
   "cell_type": "markdown",
   "id": "6572c034",
   "metadata": {},
   "source": [
    "## 2. High Order Functions\n",
    "  \n",
    "    Map , Filter , Reduce\n"
   ]
  },
  {
   "cell_type": "markdown",
   "id": "97fcb32d",
   "metadata": {},
   "source": [
    "### 1. Map"
   ]
  },
  {
   "cell_type": "code",
   "execution_count": 1,
   "id": "e9a0bea7",
   "metadata": {},
   "outputs": [
    {
     "name": "stdout",
     "output_type": "stream",
     "text": [
      "<map object at 0x000001C609C95D30>\n",
      "[2, 4, 6, 8, 10, 12]\n"
     ]
    }
   ],
   "source": [
    "L=[1,2,3,4,5,6]\n",
    "print(map(lambda x:x*2,L))\n",
    "print(list(map(lambda x:x*2,L)))\n"
   ]
  },
  {
   "cell_type": "code",
   "execution_count": 40,
   "id": "2bab7b07",
   "metadata": {},
   "outputs": [
    {
     "data": {
      "text/plain": [
       "[False, True, False, True, False, True]"
      ]
     },
     "execution_count": 40,
     "metadata": {},
     "output_type": "execute_result"
    }
   ],
   "source": [
    "list(map(lambda x:x%2==0,L))\n"
   ]
  },
  {
   "cell_type": "markdown",
   "id": "d93d6eb0",
   "metadata": {},
   "source": [
    "### 2. Filter"
   ]
  },
  {
   "cell_type": "code",
   "execution_count": 41,
   "id": "0c4b4922",
   "metadata": {},
   "outputs": [
    {
     "data": {
      "text/plain": [
       "[6, 8, 9]"
      ]
     },
     "execution_count": 41,
     "metadata": {},
     "output_type": "execute_result"
    }
   ],
   "source": [
    "# Filter\n",
    "\n",
    "L=[1,2,4,6,8,9]\n",
    "list(filter(lambda x:x>4,L))\n"
   ]
  },
  {
   "cell_type": "code",
   "execution_count": 45,
   "id": "c3afc47f",
   "metadata": {},
   "outputs": [
    {
     "data": {
      "text/plain": [
       "['apple', 'pineapple']"
      ]
     },
     "execution_count": 45,
     "metadata": {},
     "output_type": "execute_result"
    }
   ],
   "source": [
    "fruits=['apple','orange','banana','pineapple','mango']\n",
    "\n",
    "list(filter(lambda fruits: 'p' in fruits,fruits))\n"
   ]
  },
  {
   "cell_type": "markdown",
   "id": "13b34b7a",
   "metadata": {},
   "source": [
    "### 3. Reduce "
   ]
  },
  {
   "cell_type": "code",
   "execution_count": 52,
   "id": "0763921f",
   "metadata": {},
   "outputs": [
    {
     "data": {
      "text/plain": [
       "28"
      ]
     },
     "execution_count": 52,
     "metadata": {},
     "output_type": "execute_result"
    }
   ],
   "source": [
    "# Reduce - It will add all the no from the list and return the addition.\n",
    "\n",
    "L4=[7,2,3,4,5,6,1]\n",
    "\n",
    "import functools\n",
    "functools.reduce(lambda x,y:x+y,L4)"
   ]
  },
  {
   "cell_type": "code",
   "execution_count": 53,
   "id": "ca843363",
   "metadata": {},
   "outputs": [
    {
     "data": {
      "text/plain": [
       "7"
      ]
     },
     "execution_count": 53,
     "metadata": {},
     "output_type": "execute_result"
    }
   ],
   "source": [
    "# Largest number\n",
    "functools.reduce(lambda x,y: x if x>y else y ,L4) "
   ]
  },
  {
   "cell_type": "code",
   "execution_count": 50,
   "id": "3455bfe7",
   "metadata": {},
   "outputs": [
    {
     "data": {
      "text/plain": [
       "1"
      ]
     },
     "execution_count": 50,
     "metadata": {},
     "output_type": "execute_result"
    }
   ],
   "source": [
    "# smallest number\n",
    "functools.reduce(lambda x,y: x if x<y else y ,L4)"
   ]
  },
  {
   "cell_type": "markdown",
   "id": "1a0d5db6",
   "metadata": {},
   "source": [
    "##  3.  List Comprehension\n",
    "\n",
    "    - Technique of creating list from another list"
   ]
  },
  {
   "cell_type": "code",
   "execution_count": 54,
   "id": "a26a9dad",
   "metadata": {},
   "outputs": [
    {
     "data": {
      "text/plain": [
       "[12, 14, 16, 18, 20]"
      ]
     },
     "execution_count": 54,
     "metadata": {},
     "output_type": "execute_result"
    }
   ],
   "source": [
    "l0=[6,7,8,9,10]\n",
    "\n",
    "l10=[item*2 for item in l0]\n",
    "l10"
   ]
  },
  {
   "cell_type": "code",
   "execution_count": 55,
   "id": "241ecc9d",
   "metadata": {},
   "outputs": [
    {
     "data": {
      "text/plain": [
       "[0, 1, 4, 9, 16, 25, 36, 49, 64, 81]"
      ]
     },
     "execution_count": 55,
     "metadata": {},
     "output_type": "execute_result"
    }
   ],
   "source": [
    "k2=[i **2 for i in range(10)]\n",
    "k2"
   ]
  },
  {
   "cell_type": "code",
   "execution_count": 56,
   "id": "f9d604c1",
   "metadata": {},
   "outputs": [
    {
     "data": {
      "text/plain": [
       "[1, 9, 25, 49, 81]"
      ]
     },
     "execution_count": 56,
     "metadata": {},
     "output_type": "execute_result"
    }
   ],
   "source": [
    "k3=[i **2 for i in range(10) if i%2!=0]\n",
    "k3"
   ]
  },
  {
   "cell_type": "code",
   "execution_count": 62,
   "id": "a135c717",
   "metadata": {},
   "outputs": [
    {
     "data": {
      "text/plain": [
       "['apple', 'orange', 'banana', 'pineapple', 'mango']"
      ]
     },
     "execution_count": 62,
     "metadata": {},
     "output_type": "execute_result"
    }
   ],
   "source": [
    "g0=[fruits for fruits in fruits if fruits[0]!='O']\n",
    "g0"
   ]
  },
  {
   "cell_type": "markdown",
   "id": "41a5c4e7",
   "metadata": {},
   "source": [
    "## 4.   Dictionary Comprehension"
   ]
  },
  {
   "cell_type": "code",
   "execution_count": 72,
   "id": "aa0ac4ca",
   "metadata": {},
   "outputs": [
    {
     "data": {
      "text/plain": [
       "{'name': 'sundar', 'gender': 'male'}"
      ]
     },
     "execution_count": 72,
     "metadata": {},
     "output_type": "execute_result"
    }
   ],
   "source": [
    "d={\"name\":\"sundar\",\"gender\":\"male\",\"age\":30}\n",
    "\n",
    "d1={key:value for key,value in d.items() if len(key)>3}\n",
    "d1"
   ]
  },
  {
   "cell_type": "code",
   "execution_count": 75,
   "id": "47922f22",
   "metadata": {},
   "outputs": [
    {
     "data": {
      "text/plain": [
       "{1: 1, 2: 4, 3: 9, 4: 16, 5: 25, 6: 36, 7: 49}"
      ]
     },
     "execution_count": 75,
     "metadata": {},
     "output_type": "execute_result"
    }
   ],
   "source": [
    "d45=[1,2,3,4,5,6,7]\n",
    "\n",
    "d45={a:a**2 for a in d45}\n",
    "d45\n"
   ]
  },
  {
   "cell_type": "code",
   "execution_count": null,
   "id": "bd31ba29",
   "metadata": {},
   "outputs": [],
   "source": []
  },
  {
   "cell_type": "markdown",
   "id": "0da6f78e",
   "metadata": {},
   "source": [
    "### THE END"
   ]
  }
 ],
 "metadata": {
  "kernelspec": {
   "display_name": "Python 3 (ipykernel)",
   "language": "python",
   "name": "python3"
  },
  "language_info": {
   "codemirror_mode": {
    "name": "ipython",
    "version": 3
   },
   "file_extension": ".py",
   "mimetype": "text/x-python",
   "name": "python",
   "nbconvert_exporter": "python",
   "pygments_lexer": "ipython3",
   "version": "3.9.7"
  }
 },
 "nbformat": 4,
 "nbformat_minor": 5
}
