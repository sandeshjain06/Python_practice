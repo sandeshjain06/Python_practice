{
 "cells": [
  {
   "cell_type": "markdown",
   "id": "4fb13758",
   "metadata": {},
   "source": [
    "## 1.  How to Take Input from user \n"
   ]
  },
  {
   "cell_type": "code",
   "execution_count": 11,
   "id": "7e844b36",
   "metadata": {},
   "outputs": [
    {
     "name": "stdout",
     "output_type": "stream",
     "text": [
      "Enter Nameghj\n"
     ]
    },
    {
     "data": {
      "text/plain": [
       "'ghj'"
      ]
     },
     "execution_count": 11,
     "metadata": {},
     "output_type": "execute_result"
    }
   ],
   "source": [
    "input(prompt='Enter Name')"
   ]
  },
  {
   "cell_type": "code",
   "execution_count": 17,
   "id": "26350f41",
   "metadata": {},
   "outputs": [
    {
     "name": "stdout",
     "output_type": "stream",
     "text": [
      "Enter first name50\n",
      "Enter second name100\n",
      "result 150\n"
     ]
    }
   ],
   "source": [
    "\n",
    "# As the input data always take the string datatype we need to convert it into \n",
    "# integer data type\n",
    "# it is doing string concatenation\n",
    "\n",
    "# o/p of input Function is in form of string\n",
    "\n",
    "first_num=int(input(\"Enter first name\"))\n",
    "type(first_num)\n",
    "second_num=int(input(\"Enter second name\"))\n",
    "result = first_num+second_num\n",
    "print('result',result)\n"
   ]
  },
  {
   "cell_type": "code",
   "execution_count": 13,
   "id": "495d2d15",
   "metadata": {},
   "outputs": [
    {
     "data": {
      "text/plain": [
       "str"
      ]
     },
     "execution_count": 13,
     "metadata": {},
     "output_type": "execute_result"
    }
   ],
   "source": [
    "type(first_num)"
   ]
  },
  {
   "cell_type": "markdown",
   "id": "37e39bb8",
   "metadata": {},
   "source": [
    "##  2.  Type Conversion - To Convert value to another Data type\n",
    "\n",
    "    1. Implicit Type Conversion - Python will automatically do that we dont have to do.\n",
    "    \n",
    "    - eg : 4 + 4.5 / 5+6+7j /  4.5+5+5j\n",
    "\n",
    "    2. Explicit Type Conversion - We have to explicitly mention it.\n"
   ]
  },
  {
   "cell_type": "code",
   "execution_count": 7,
   "id": "a443378b",
   "metadata": {},
   "outputs": [
    {
     "data": {
      "text/plain": [
       "9.6"
      ]
     },
     "execution_count": 7,
     "metadata": {},
     "output_type": "execute_result"
    }
   ],
   "source": [
    "4+5.6"
   ]
  },
  {
   "cell_type": "code",
   "execution_count": 46,
   "id": "be33d578",
   "metadata": {},
   "outputs": [
    {
     "name": "stdout",
     "output_type": "stream",
     "text": [
      "5\n",
      "10\n"
     ]
    }
   ],
   "source": [
    "# it will convert float into integer\n",
    "# string into integer\n",
    "\n",
    "print(int('5')) # string to integer\n",
    "print(int(10.98))  # float to integer"
   ]
  },
  {
   "cell_type": "code",
   "execution_count": 47,
   "id": "ef2e8824",
   "metadata": {},
   "outputs": [
    {
     "data": {
      "text/plain": [
       "['H', 'e', 'l', 'l', 'o']"
      ]
     },
     "execution_count": 47,
     "metadata": {},
     "output_type": "execute_result"
    }
   ],
   "source": [
    "list('Hello') # string is converted to list "
   ]
  },
  {
   "cell_type": "markdown",
   "id": "986998ac",
   "metadata": {},
   "source": [
    "### Type Conversion is not a permanent operation\n",
    "\n",
    "* a   =  4.5\n",
    "* int(a)   -   it will convert it into 4\n",
    "\n",
    "* print(a)  -  again printing the value it will give 4.5\n"
   ]
  },
  {
   "cell_type": "code",
   "execution_count": 49,
   "id": "c0737216",
   "metadata": {},
   "outputs": [
    {
     "name": "stdout",
     "output_type": "stream",
     "text": [
      "Enter first name123\n",
      "Enter second name123\n",
      "result 246\n"
     ]
    }
   ],
   "source": [
    "first_num=int(input(\"Enter first no \"))\n",
    "second_num=int(input(\"Enter second no\"))\n",
    "result = first_num+second_num\n",
    "print('result',result)\n"
   ]
  },
  {
   "cell_type": "markdown",
   "id": "d92b5b58",
   "metadata": {},
   "source": [
    "## 3 . Literals \n",
    "\n",
    "    - Literal means giving raw data to variable\n",
    "\n",
    "    Types of Literals in python are \n",
    "    1. Numeric Literals \n",
    "    2. String Literals\n",
    "    3. Boolean Literals\n",
    "    4. Special literals\n",
    "\n",
    "\n"
   ]
  },
  {
   "cell_type": "markdown",
   "id": "60abbc8c",
   "metadata": {},
   "source": [
    "### 1.Numeric Literals"
   ]
  },
  {
   "cell_type": "code",
   "execution_count": null,
   "id": "7bd9cc9d",
   "metadata": {},
   "outputs": [],
   "source": []
  },
  {
   "cell_type": "markdown",
   "id": "300a31c0",
   "metadata": {},
   "source": [
    "### 2.String Literals"
   ]
  },
  {
   "cell_type": "code",
   "execution_count": null,
   "id": "55610614",
   "metadata": {},
   "outputs": [],
   "source": []
  },
  {
   "cell_type": "code",
   "execution_count": null,
   "id": "6dc10194",
   "metadata": {},
   "outputs": [],
   "source": []
  },
  {
   "cell_type": "code",
   "execution_count": null,
   "id": "368ed597",
   "metadata": {},
   "outputs": [],
   "source": []
  },
  {
   "cell_type": "markdown",
   "id": "93433217",
   "metadata": {},
   "source": [
    "### 3.Boolean Literals"
   ]
  },
  {
   "cell_type": "code",
   "execution_count": null,
   "id": "55237b0f",
   "metadata": {},
   "outputs": [],
   "source": []
  },
  {
   "cell_type": "code",
   "execution_count": null,
   "id": "d10b269a",
   "metadata": {},
   "outputs": [],
   "source": []
  },
  {
   "cell_type": "code",
   "execution_count": null,
   "id": "56be2abd",
   "metadata": {},
   "outputs": [],
   "source": []
  },
  {
   "cell_type": "markdown",
   "id": "29336589",
   "metadata": {},
   "source": [
    "### 4.Special Literals"
   ]
  },
  {
   "cell_type": "code",
   "execution_count": null,
   "id": "43000792",
   "metadata": {},
   "outputs": [],
   "source": []
  },
  {
   "cell_type": "code",
   "execution_count": null,
   "id": "7f955cc2",
   "metadata": {},
   "outputs": [],
   "source": []
  },
  {
   "cell_type": "markdown",
   "id": "989add7d",
   "metadata": {},
   "source": [
    "### THE END "
   ]
  }
 ],
 "metadata": {
  "kernelspec": {
   "display_name": "Python 3 (ipykernel)",
   "language": "python",
   "name": "python3"
  },
  "language_info": {
   "codemirror_mode": {
    "name": "ipython",
    "version": 3
   },
   "file_extension": ".py",
   "mimetype": "text/x-python",
   "name": "python",
   "nbconvert_exporter": "python",
   "pygments_lexer": "ipython3",
   "version": "3.9.7"
  }
 },
 "nbformat": 4,
 "nbformat_minor": 5
}
