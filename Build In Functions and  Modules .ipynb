{
 "cells": [
  {
   "cell_type": "markdown",
   "id": "a85333f5",
   "metadata": {},
   "source": [
    "##  1.  Built - In Functions\n",
    "\n",
    "* print - Display the o/p\n",
    "* input - To take user input\n",
    "* type -  Gives type of particular given variable.\n",
    "* int -   Type conversion function \n",
    "* abs -   Gives the absolute values .\n",
    "* power  -> 2 power 3\n",
    "* min / max  - returns the min and max values.\n",
    "* round - round off the values\n",
    "* divmod - (15,2) - gives o/p as (7,1)\n",
    "* bin / oct / hex - to find binary/oct/hex  values of any numeric values\n",
    "* id - gives the memory address for that particular variabbles.\n",
    "* ord - To get the ASCII values\n",
    "* len - find length of the string.\n",
    "* sum - display sum of list values\n",
    "* help - to get information about any particular function\n"
   ]
  },
  {
   "cell_type": "code",
   "execution_count": 3,
   "id": "f126a53a",
   "metadata": {},
   "outputs": [
    {
     "name": "stdout",
     "output_type": "stream",
     "text": [
      "Hello words\n"
     ]
    }
   ],
   "source": [
    "# print\n",
    "print(\"Hello words\")"
   ]
  },
  {
   "cell_type": "code",
   "execution_count": null,
   "id": "ed7c7e68",
   "metadata": {},
   "outputs": [],
   "source": [
    "# Input\n",
    "input(\"Enter your name\")"
   ]
  },
  {
   "cell_type": "code",
   "execution_count": 4,
   "id": "f0e56fbd",
   "metadata": {},
   "outputs": [
    {
     "data": {
      "text/plain": [
       "bool"
      ]
     },
     "execution_count": 4,
     "metadata": {},
     "output_type": "execute_result"
    }
   ],
   "source": [
    "# type\n",
    "a=True\n",
    "type(a)"
   ]
  },
  {
   "cell_type": "code",
   "execution_count": 5,
   "id": "ce47c2dc",
   "metadata": {},
   "outputs": [
    {
     "data": {
      "text/plain": [
       "5"
      ]
     },
     "execution_count": 5,
     "metadata": {},
     "output_type": "execute_result"
    }
   ],
   "source": [
    "int(5.6)"
   ]
  },
  {
   "cell_type": "code",
   "execution_count": 7,
   "id": "344c1611",
   "metadata": {},
   "outputs": [
    {
     "data": {
      "text/plain": [
       "8"
      ]
     },
     "execution_count": 7,
     "metadata": {},
     "output_type": "execute_result"
    }
   ],
   "source": [
    "abs(-8)"
   ]
  },
  {
   "cell_type": "code",
   "execution_count": 5,
   "id": "691b2cae",
   "metadata": {},
   "outputs": [
    {
     "data": {
      "text/plain": [
       "1024"
      ]
     },
     "execution_count": 5,
     "metadata": {},
     "output_type": "execute_result"
    }
   ],
   "source": [
    "pow(2,10)"
   ]
  },
  {
   "cell_type": "code",
   "execution_count": 10,
   "id": "38e23bec",
   "metadata": {},
   "outputs": [
    {
     "data": {
      "text/plain": [
       "(7, 1)"
      ]
     },
     "execution_count": 10,
     "metadata": {},
     "output_type": "execute_result"
    }
   ],
   "source": [
    "divmod(15,2)"
   ]
  },
  {
   "cell_type": "code",
   "execution_count": 12,
   "id": "88b0056c",
   "metadata": {},
   "outputs": [
    {
     "data": {
      "text/plain": [
       "'0b1000'"
      ]
     },
     "execution_count": 12,
     "metadata": {},
     "output_type": "execute_result"
    }
   ],
   "source": [
    "bin(8)"
   ]
  },
  {
   "cell_type": "code",
   "execution_count": 14,
   "id": "b0913743",
   "metadata": {},
   "outputs": [
    {
     "data": {
      "text/plain": [
       "2811513230800"
      ]
     },
     "execution_count": 14,
     "metadata": {},
     "output_type": "execute_result"
    }
   ],
   "source": [
    "b2=100\n",
    "id(b2) # returns the memory address location of b2 in computers."
   ]
  },
  {
   "cell_type": "code",
   "execution_count": 16,
   "id": "5d951ac7",
   "metadata": {},
   "outputs": [
    {
     "data": {
      "text/plain": [
       "65"
      ]
     },
     "execution_count": 16,
     "metadata": {},
     "output_type": "execute_result"
    }
   ],
   "source": [
    "ord('A')  # to get the ASCII values"
   ]
  },
  {
   "cell_type": "code",
   "execution_count": 18,
   "id": "74161fda",
   "metadata": {},
   "outputs": [
    {
     "data": {
      "text/plain": [
       "8"
      ]
     },
     "execution_count": 18,
     "metadata": {},
     "output_type": "execute_result"
    }
   ],
   "source": [
    "len('bangalre')"
   ]
  },
  {
   "cell_type": "code",
   "execution_count": 25,
   "id": "1d053619",
   "metadata": {},
   "outputs": [
    {
     "data": {
      "text/plain": [
       "37"
      ]
     },
     "execution_count": 25,
     "metadata": {},
     "output_type": "execute_result"
    }
   ],
   "source": [
    "a= sum({1,2,34})\n",
    "type(a)\n",
    "a"
   ]
  },
  {
   "cell_type": "code",
   "execution_count": 22,
   "id": "e9c12026",
   "metadata": {},
   "outputs": [
    {
     "name": "stdout",
     "output_type": "stream",
     "text": [
      "Help on built-in function sum in module builtins:\n",
      "\n",
      "sum(iterable, /, start=0)\n",
      "    Return the sum of a 'start' value (default: 0) plus an iterable of numbers\n",
      "    \n",
      "    When the iterable is empty, return the start value.\n",
      "    This function is intended specifically for use with numeric values and may\n",
      "    reject non-numeric types.\n",
      "\n"
     ]
    }
   ],
   "source": [
    "help (sum)"
   ]
  },
  {
   "cell_type": "markdown",
   "id": "a112b39a",
   "metadata": {},
   "source": [
    "## 2 . Built - In Modules\n",
    "\n",
    "    A file containing set of functions u want to include in your application\n",
    "\n",
    "    Examples of python modules\n",
    "    1.Math\n",
    "    2.Random\n",
    "    3.OS\n",
    "    4.Time\n"
   ]
  },
  {
   "cell_type": "markdown",
   "id": "69fe5a63",
   "metadata": {},
   "source": [
    "### 1. Math "
   ]
  },
  {
   "cell_type": "code",
   "execution_count": 33,
   "id": "3a7a25cc",
   "metadata": {},
   "outputs": [
    {
     "name": "stdout",
     "output_type": "stream",
     "text": [
      "3.141592653589793\n",
      "720\n"
     ]
    },
    {
     "data": {
      "text/plain": [
       "4.0"
      ]
     },
     "execution_count": 33,
     "metadata": {},
     "output_type": "execute_result"
    }
   ],
   "source": [
    "import math\n",
    "print(math.pi)\n",
    "print(math.factorial(6))\n",
    "math.sqrt(16)\n"
   ]
  },
  {
   "cell_type": "markdown",
   "id": "0a5fe828",
   "metadata": {},
   "source": [
    "### 2. Random "
   ]
  },
  {
   "cell_type": "code",
   "execution_count": 12,
   "id": "1229e088",
   "metadata": {},
   "outputs": [
    {
     "data": {
      "text/plain": [
       "39"
      ]
     },
     "execution_count": 12,
     "metadata": {},
     "output_type": "execute_result"
    }
   ],
   "source": [
    "import random\n",
    "random.randint(0,200)"
   ]
  },
  {
   "cell_type": "code",
   "execution_count": 14,
   "id": "cda01b37",
   "metadata": {},
   "outputs": [
    {
     "name": "stdout",
     "output_type": "stream",
     "text": [
      "[2, 5, 1, 4, 3]\n"
     ]
    }
   ],
   "source": [
    "a=[1,2,3,4,5]\n",
    "random.shuffle(a)\n",
    "print(a)    # it will keep shuffling the values every time u run the code."
   ]
  },
  {
   "cell_type": "markdown",
   "id": "46e14aa4",
   "metadata": {},
   "source": [
    "### 3.Time "
   ]
  },
  {
   "cell_type": "code",
   "execution_count": 15,
   "id": "e9532138",
   "metadata": {},
   "outputs": [
    {
     "data": {
      "text/plain": [
       "1651437038.9522693"
      ]
     },
     "execution_count": 15,
     "metadata": {},
     "output_type": "execute_result"
    }
   ],
   "source": [
    "import time \n",
    "\n",
    "time.time()"
   ]
  },
  {
   "cell_type": "code",
   "execution_count": 16,
   "id": "efba947a",
   "metadata": {},
   "outputs": [
    {
     "data": {
      "text/plain": [
       "'Mon May  2 02:00:39 2022'"
      ]
     },
     "execution_count": 16,
     "metadata": {},
     "output_type": "execute_result"
    }
   ],
   "source": [
    "time.ctime()"
   ]
  },
  {
   "cell_type": "code",
   "execution_count": 17,
   "id": "2eb967a6",
   "metadata": {},
   "outputs": [
    {
     "name": "stdout",
     "output_type": "stream",
     "text": [
      "Hello\n",
      "Good morning\n"
     ]
    }
   ],
   "source": [
    "print(\"Hello\")\n",
    "time.sleep(1)\n",
    "print(\"Good morning\")"
   ]
  },
  {
   "cell_type": "markdown",
   "id": "e395b779",
   "metadata": {},
   "source": [
    "### 4. OS"
   ]
  },
  {
   "cell_type": "code",
   "execution_count": 18,
   "id": "feb6a7e2",
   "metadata": {},
   "outputs": [
    {
     "data": {
      "text/plain": [
       "'C:\\\\Users\\\\Dell\\\\Data Science\\\\Python Pratice'"
      ]
     },
     "execution_count": 18,
     "metadata": {},
     "output_type": "execute_result"
    }
   ],
   "source": [
    "import os \n",
    "os.getcwd() # get current working directory"
   ]
  },
  {
   "cell_type": "code",
   "execution_count": 7,
   "id": "3220a6f0",
   "metadata": {},
   "outputs": [
    {
     "data": {
      "text/plain": [
       "['.ipynb_checkpoints',\n",
       " 'Practical -01- Datatypes,Variables,Identifiers,Keywords,Operators,TypeConversion,Loops.ipynb',\n",
       " 'Practical -02 - Build In Functions and  Modules .ipynb',\n",
       " 'Practical -03 - STRINGS.ipynb',\n",
       " 'Practical -04 - LIST - SQAURE BRACKETS.ipynb',\n",
       " 'Practical -05 - Tuples , Sets .ipynb',\n",
       " 'Practical -06 -  Dictionary .ipynb',\n",
       " 'Practical -07 -  Variables and Memory References.ipynb',\n",
       " 'Practical -08 -  Functions.ipynb',\n",
       " 'Practical -10-  Lambda Functions.ipynb',\n",
       " 'Practical -11-  Recursion.ipynb',\n",
       " 'Practical -12-  Iterators.ipynb',\n",
       " 'Pratical - 13 - OOPS Concepts.ipynb',\n",
       " 'Python Praticals  - Krish Naik.ipynb']"
      ]
     },
     "execution_count": 7,
     "metadata": {},
     "output_type": "execute_result"
    }
   ],
   "source": [
    "os.listdir() # list the no of files in current directory where u are working."
   ]
  }
 ],
 "metadata": {
  "kernelspec": {
   "display_name": "Python 3 (ipykernel)",
   "language": "python",
   "name": "python3"
  },
  "language_info": {
   "codemirror_mode": {
    "name": "ipython",
    "version": 3
   },
   "file_extension": ".py",
   "mimetype": "text/x-python",
   "name": "python",
   "nbconvert_exporter": "python",
   "pygments_lexer": "ipython3",
   "version": "3.9.7"
  }
 },
 "nbformat": 4,
 "nbformat_minor": 5
}
