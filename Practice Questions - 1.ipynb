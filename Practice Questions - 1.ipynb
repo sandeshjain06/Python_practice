{
 "cells": [
  {
   "cell_type": "markdown",
   "id": "cd488379",
   "metadata": {},
   "source": [
    "### 1.User will input (3ages).Find the oldest one\n"
   ]
  },
  {
   "cell_type": "code",
   "execution_count": 20,
   "id": "907b1e10",
   "metadata": {
    "scrolled": true
   },
   "outputs": [
    {
     "name": "stdout",
     "output_type": "stream",
     "text": [
      "enter the 3 digit no56\n",
      "enter the 3 digit no25\n",
      "enter the 3 digit no35\n",
      "Greater No 56\n"
     ]
    }
   ],
   "source": [
    "a=int(input(\"enter the 3 digit no\"))\n",
    "b=int(input(\"enter the 3 digit no\"))\n",
    "c=int(input(\"enter the 3 digit no\"))\n",
    "\n",
    "if a>b and a>c :\n",
    "    print(\"Greater No\",a)\n",
    "elif b>a and b>c :\n",
    "    print(\"Greater No\",b)\n",
    "else:\n",
    "    print(\"Greater No\",c)"
   ]
  },
  {
   "cell_type": "markdown",
   "id": "8bf1bfae",
   "metadata": {},
   "source": [
    "### 2  - Write a program that will convert celsius value to fahrenheit"
   ]
  },
  {
   "cell_type": "code",
   "execution_count": 45,
   "id": "a9351333",
   "metadata": {
    "scrolled": true
   },
   "outputs": [
    {
     "name": "stdout",
     "output_type": "stream",
     "text": [
      "Enter the celsius256\n",
      "Fahrenheit 492.8\n"
     ]
    }
   ],
   "source": [
    "a=int(input(\"Enter the celsius\"))\n",
    "b = a * 9/5 + 32\n",
    "print(\"Fahrenheit\",b)"
   ]
  },
  {
   "cell_type": "markdown",
   "id": "0b731f89",
   "metadata": {},
   "source": [
    "### 3 - User will input (2numbers).Write a program to swap the numbers\n"
   ]
  },
  {
   "cell_type": "code",
   "execution_count": 47,
   "id": "07e7d7a3",
   "metadata": {},
   "outputs": [
    {
     "name": "stdout",
     "output_type": "stream",
     "text": [
      "enter the 3 digit no58\n",
      "enter the 3 digit no65\n",
      "New A 65\n",
      "New B 58\n"
     ]
    }
   ],
   "source": [
    "a=int(input(\"enter the 3 digit no\"))\n",
    "b=int(input(\"enter the 3 digit no\"))\n",
    "temp = a\n",
    "a=b\n",
    "b=temp\n",
    "print(\"New A\",a)\n",
    "print(\"New B\",b)"
   ]
  },
  {
   "cell_type": "markdown",
   "id": "758586b8",
   "metadata": {},
   "source": [
    "### 4. Write a program that will give you the sum of 3 digits\n",
    "\n"
   ]
  },
  {
   "cell_type": "code",
   "execution_count": 54,
   "id": "aa2519eb",
   "metadata": {},
   "outputs": [
    {
     "name": "stdout",
     "output_type": "stream",
     "text": [
      "enter the digit25\n",
      "enter the digit25\n",
      "enter the digit30\n",
      "Sum 80\n"
     ]
    }
   ],
   "source": [
    "a=int(input(\"enter the digit\"))\n",
    "b=int(input(\"enter the digit\"))\n",
    "c=int(input(\"enter the digit\"))\n",
    "z= a+b+c\n",
    "print(\"Sum\",z)"
   ]
  },
  {
   "cell_type": "markdown",
   "id": "6dd9bf2a",
   "metadata": {},
   "source": [
    "###  5. Write a program that will reverse a four digit number.Also it checks whether the reverse is true.\n"
   ]
  },
  {
   "cell_type": "code",
   "execution_count": 42,
   "id": "afff075f",
   "metadata": {},
   "outputs": [
    {
     "name": "stdout",
     "output_type": "stream",
     "text": [
      "enter the 4 digit no562333\n",
      "Reversed no 333265\n"
     ]
    }
   ],
   "source": [
    "# 5 - Write a program that will reverse a four digit number.Also it checks whether the reverse is true.\n",
    "\n",
    "#  1- Modulo : rem ,  2-Division : a  , 3-rev =(rev*0)+rem\n",
    "\n",
    "a=int(input(\"enter the 4 digit no\"))\n",
    "rev=0\n",
    "\n",
    "while a > 0:\n",
    "    rem = a%10;\n",
    "    a = a // 10;\n",
    "    rev=(rev*10) + rem \n",
    "print(\"Reversed no\",rev)"
   ]
  },
  {
   "cell_type": "markdown",
   "id": "95897c3c",
   "metadata": {},
   "source": [
    "###  6. Write a program that will tell whether the number entered by the user is odd or even.\n"
   ]
  },
  {
   "cell_type": "code",
   "execution_count": 53,
   "id": "7f5b9e69",
   "metadata": {},
   "outputs": [
    {
     "name": "stdout",
     "output_type": "stream",
     "text": [
      "enter the 4 digit no25\n",
      "Odd No\n"
     ]
    }
   ],
   "source": [
    "\n",
    "a=int(input(\"enter the 4 digit no\"))\n",
    "if a%2 == 0:\n",
    "    print(\"Even No\")\n",
    "else:\n",
    "    print(\"Odd No\")"
   ]
  },
  {
   "cell_type": "markdown",
   "id": "4c0944ac",
   "metadata": {},
   "source": [
    "### 7 .Write a program that will tell whether the given year is a leap year or not.\n"
   ]
  },
  {
   "cell_type": "code",
   "execution_count": 3,
   "id": "93249fa1",
   "metadata": {},
   "outputs": [
    {
     "name": "stdout",
     "output_type": "stream",
     "text": [
      "Enter a year: 2020\n",
      "Given Year is a leap Year\n"
     ]
    }
   ],
   "source": [
    "# Check the condition if year is exactly divisible by 4 and 100, or the year is exactly divisible by 400.\n",
    "\n",
    "Year = int(input(\"Enter a year: \"))\n",
    "\n",
    "if((Year % 400 == 0) or (Year % 100 != 0) and  (Year % 4 == 0)):   \n",
    "    print(\"Given Year is a leap Year\");  \n",
    "else:  \n",
    "    print (\"Given Year is not a leap Year\")  \n"
   ]
  },
  {
   "cell_type": "markdown",
   "id": "321d8f43",
   "metadata": {},
   "source": [
    "### 8 .Write a program to find the euclidean distance between two coordinates.\n"
   ]
  },
  {
   "cell_type": "code",
   "execution_count": 7,
   "id": "00d714b5",
   "metadata": {},
   "outputs": [
    {
     "name": "stdout",
     "output_type": "stream",
     "text": [
      "Enter Co-ordinates : x1 2\n",
      "Enter Co-ordinates : y1 3\n",
      "Enter Co-ordinates : x2 4\n",
      "Enter Co-ordinates : y2 5\n",
      "Distance between 2 co-ordinates 2.8284271247461903\n"
     ]
    }
   ],
   "source": [
    "\n",
    "#  d = √[(x2 – x1)2 + (y2 – y1)2].\n",
    "\n",
    "import math\n",
    "\n",
    "a = int(input(\"Enter Co-ordinates : x1 \"))\n",
    "b = int(input(\"Enter Co-ordinates : y1 \"))\n",
    "c = int(input(\"Enter Co-ordinates : x2 \"))\n",
    "d = int(input(\"Enter Co-ordinates : y2 \"))\n",
    "\n",
    "dist = math.sqrt((c-a)**2 + (d-b)**2)\n",
    "\n",
    "print(\"Distance between 2 co-ordinates\",dist)"
   ]
  },
  {
   "cell_type": "markdown",
   "id": "2276394b",
   "metadata": {},
   "source": [
    "### 9 . Write a program that take a user input of three angles and will find out whether it can form a triangle or not."
   ]
  },
  {
   "cell_type": "code",
   "execution_count": 62,
   "id": "1b298d45",
   "metadata": {},
   "outputs": [
    {
     "name": "stdout",
     "output_type": "stream",
     "text": [
      "Enter your first angle:90\n",
      "Enter your second angle:45\n",
      "Enter your third angle:45\n",
      "It is right angle triangle\n"
     ]
    }
   ],
   "source": [
    "\n",
    "# Any triangle to be valid, the sum of the lengths of any two sides must be greater than or equal to the \n",
    "# length of the remaining side.\n",
    "\n",
    "a = int(input(\"Enter your first angle:\"))\n",
    "b = int(input(\"Enter your second angle:\"))\n",
    "c = int(input(\"Enter your third angle:\"))\n",
    "\n",
    "if (a+b+c==180) and a!=0 and b!=0 and c!=0:\n",
    "    print(\"It is right angle triangle\")\n",
    "else:\n",
    "    print(\"Not right angle triangle\")\n"
   ]
  },
  {
   "cell_type": "markdown",
   "id": "ff96cb1e",
   "metadata": {},
   "source": [
    "### 10. Write a program that will take user input of cost price and selling price and determines whether its a loss or a profit\n"
   ]
  },
  {
   "cell_type": "code",
   "execution_count": 66,
   "id": "9a3cbbe7",
   "metadata": {},
   "outputs": [
    {
     "name": "stdout",
     "output_type": "stream",
     "text": [
      "Enter your Cost price:100\n",
      "Enter your selling price:500\n",
      "Profit :  400\n"
     ]
    }
   ],
   "source": [
    "\n",
    "cp = int(input(\"Enter your Cost price:\"))\n",
    "sp = int(input(\"Enter your selling price:\"))\n",
    "\n",
    "if cp > sp :\n",
    "    amount = cp-sp\n",
    "    print(\"loss : \",amount)\n",
    "else:\n",
    "    amount = sp-cp\n",
    "    print(\"Profit : \",amount)\n"
   ]
  },
  {
   "cell_type": "code",
   "execution_count": 68,
   "id": "52100b61",
   "metadata": {},
   "outputs": [
    {
     "name": "stdout",
     "output_type": "stream",
     "text": [
      "Enter principal :1000\n",
      "Enter rate of interest :2\n",
      "Enter time period :3\n",
      "Simple Interest 60.0\n",
      "Amount 1060.0\n"
     ]
    }
   ],
   "source": [
    "# 11. Write a program to find the simple interest when the value of principle,rate of interest and time period is given.\n",
    "\n",
    "# SI = PNR/100 \n",
    "\n",
    "p = int(input(\"Enter principal :\"))\n",
    "r = int(input(\"Enter rate of interest :\"))\n",
    "n = int(input(\"Enter time period :\"))\n",
    "\n",
    "si=(p*r*n)/100\n",
    "print(\"Simple Interest\", si)\n",
    "a = p+si\n",
    "print(\"Amount\", a)"
   ]
  },
  {
   "cell_type": "code",
   "execution_count": 71,
   "id": "92079648",
   "metadata": {},
   "outputs": [
    {
     "name": "stdout",
     "output_type": "stream",
     "text": [
      "Enter the radius :4\n",
      "Enter the height :7\n",
      "Volume : 351.68\n",
      "Cost : 14.0672\n"
     ]
    }
   ],
   "source": [
    "#12. Write a program to find the volume of the cylinder. Also find the cost when ,when the cost of 1litre milk is 40Rs.\n",
    "\n",
    "# Volume = PI * radius * radius * height  = pi r2 h\n",
    "\n",
    "r = float(input(\"Enter the radius :\"))\n",
    "h = float(input(\"Enter the height :\"))\n",
    "\n",
    "v = 3.14 * (r**2) * h\n",
    "Cost = v/1000 * 40 \n",
    "\n",
    "print(\"Volume :\",v)\n",
    "print(\"Cost :\",Cost)"
   ]
  },
  {
   "cell_type": "code",
   "execution_count": 70,
   "id": "9061c131",
   "metadata": {},
   "outputs": [
    {
     "name": "stdout",
     "output_type": "stream",
     "text": [
      "Enter the number :27\n",
      "No is not divisible\n"
     ]
    }
   ],
   "source": [
    "#13. Write  a program that will tell whether the given number is divisible by 3 & 6.\n",
    "\n",
    "\n",
    "num = int(input(\"Enter the number :\"))\n",
    "\n",
    "if num% 3 == 0 and num % 6==0 :\n",
    "    print(\"No is divisible\")\n",
    "else:\n",
    "    print(\"No is not divisible\")"
   ]
  },
  {
   "cell_type": "code",
   "execution_count": 72,
   "id": "98d036ab",
   "metadata": {},
   "outputs": [
    {
     "name": "stdout",
     "output_type": "stream",
     "text": [
      "Enter the temperature in celcius :90\n",
      "Enter the humidity in percentage :10\n",
      "Hot\n"
     ]
    }
   ],
   "source": [
    "# 14. Write a program that will determine weather when the value of temperature and humidity is provided by the user.\n",
    "#            TEMPERATURE(C)      HUMIDITY(%)      WEATHER\n",
    "#      >= 30                             >=90                Hot and Humid\n",
    "#      >= 30                             < 90                 Hot\n",
    "#      <30                                >= 90               Cool and Humid\n",
    "#     <30                                 <90                 Cool\n",
    "\n",
    "\n",
    "\n",
    "temp = int(input(\"Enter the temperature in celcius :\"))\n",
    "humid = int(input(\"Enter the humidity in percentage :\"))\n",
    "\n",
    "\n",
    "if temp >=30 and humid >=90 :\n",
    "    print(\"Hot and Humid\")\n",
    "elif temp >=30 and humid <90 :\n",
    "    print(\"Hot\")\n",
    "elif temp <30 and humid >=90 :\n",
    "    print(\"Cool and Humid\")\n",
    "else:\n",
    "    print(\"Cool\")\n"
   ]
  },
  {
   "cell_type": "code",
   "execution_count": 63,
   "id": "bfbe4b67",
   "metadata": {},
   "outputs": [
    {
     "name": "stdout",
     "output_type": "stream",
     "text": [
      "enter the digit15000002\n",
      "Square of all no 30\n"
     ]
    }
   ],
   "source": [
    "# 15. Write a program that will take three digits from the user and add the square of each digit.\n",
    "\n",
    "a=(input(\"enter the digit\"))\n",
    "sq= 0\n",
    "for (i) in a:\n",
    "    sq=sq+int(i)*int(i)\n",
    "print(\"Square of all no\",sq)"
   ]
  },
  {
   "cell_type": "code",
   "execution_count": 83,
   "id": "b6de6a81",
   "metadata": {},
   "outputs": [
    {
     "name": "stdout",
     "output_type": "stream",
     "text": [
      "Enter the digit : 50\n",
      "Not a Armstrong No :  50\n"
     ]
    }
   ],
   "source": [
    "# 16. Write a program that will check whether the number is armstrong number or not.\n",
    "\n",
    "# Armstrong number of 3 digits, the sum of cubes of each digit is equal to the number itself\n",
    "\n",
    "a=(input(\"Enter the digit : \"))\n",
    "armst= 0\n",
    "for (i) in a:\n",
    "    armst=armst+int(i)*int(i)*int(i)\n",
    "    \n",
    "if(int(a)==armst):\n",
    "    print(\"Armstrong No : \",a)\n",
    "else:\n",
    "    print(\"Not a Armstrong No : \",a)"
   ]
  },
  {
   "cell_type": "code",
   "execution_count": 104,
   "id": "af0cc014",
   "metadata": {},
   "outputs": [
    {
     "name": "stdout",
     "output_type": "stream",
     "text": [
      "Enter the digit : 153\n",
      "Narcissist number No :  153\n"
     ]
    }
   ],
   "source": [
    "# 17. Write a program that will take user input of (4 digits number) and check whether the number is narcissist number or not.\n",
    "\n",
    "# Narcissistic Number is a number that is the sum of its own digits each raised to the power of the number of digits\n",
    "\n",
    "a=(input(\"Enter the digit : \"))\n",
    "armst= 0\n",
    "for (i) in a:\n",
    "    armst=armst + int(i)**len(a)\n",
    "    \n",
    "if(int(a)==armst):\n",
    "    print(\"Narcissist number No : \",a)\n",
    "else:\n",
    "    print(\"Not a Narcissist number No : \",a)\n"
   ]
  },
  {
   "cell_type": "code",
   "execution_count": 75,
   "id": "27bb7ece",
   "metadata": {},
   "outputs": [
    {
     "name": "stdout",
     "output_type": "stream",
     "text": [
      "Enter your annual salary600000000\n",
      "After salary deduction 420000000.0\n",
      "In hand salary 28700000.0\n",
      "2.87 Cr\n"
     ]
    }
   ],
   "source": [
    "# 18. Write a program that will give you the in hand salary after deduction of HRA(10%),DA(5%),PF(3%), \n",
    "# and tax(if salary is between 5-10 lakh–10%),\n",
    "# (11-20lakh–20%),(20< _   – 30%)(0-1lakh print k).\n",
    "\n",
    "user_input = float(input(\"Enter your annual salary\"))\n",
    "\n",
    "if user_input > 500000 and user_input < 1000000 :\n",
    "    tax = (10/100)*user_input\n",
    "    temp_salary = user_input - tax\n",
    "elif user_input > 1000000 and user_input < 2000000 :\n",
    "    tax = (20/100)*user_input\n",
    "    temp_salary = user_input - tax\n",
    "else:\n",
    "    tax = (30/100)*user_input\n",
    "    temp_salary = user_input - tax\n",
    "\n",
    "print(\"After salary deduction\",temp_salary)\n",
    "\n",
    "hra = (10/100)* temp_salary\n",
    "da = (5/100)* temp_salary\n",
    "pf = (3/100)* temp_salary\n",
    "\n",
    "in_handsalary = (temp_salary - hra - da - pf)/12    \n",
    "print(\"In hand salary\",in_handsalary)\n",
    "    \n",
    "if in_handsalary <=999:\n",
    "    print(in_handsalary)\n",
    "elif in_handsalary >= 1000 and in_handsalary <=9999 :\n",
    "    print(in_handsalary/1000,'k')    \n",
    "elif in_handsalary >= 100000 and in_handsalary <=9999999:\n",
    "    print(in_handsalary/1000000,'l')\n",
    "else:\n",
    "    print(in_handsalary/10000000,'Cr')\n",
    "    "
   ]
  },
  {
   "cell_type": "code",
   "execution_count": 79,
   "id": "a01931fa",
   "metadata": {},
   "outputs": [
    {
     "name": "stdout",
     "output_type": "stream",
     "text": [
      "\n",
      "Hi, welcome to my page , what would you like to do?    \n",
      "1.Convert cm to inches\n",
      "2.Convert km to miles\n",
      "3.Convert usd to inr\n",
      "4.Exit \n",
      "4\n",
      "Have a good day\n"
     ]
    }
   ],
   "source": [
    "# 19. Write a menu driven program - 1.cm to ft  2.kl to miles  3.usd to inr  4.exit\n",
    "\n",
    "user_input = input(\"\"\"\n",
    "Hi, welcome to my page , what would you like to do?    \n",
    "1.Convert cm to inches\n",
    "2.Convert km to miles\n",
    "3.Convert usd to inr\n",
    "4.Exit \\n\"\"\")\n",
    "\n",
    "if user_input == \"1\":\n",
    "    cm = float(input(\"Enter value in cm\"))\n",
    "    inch = cm*0.394\n",
    "    print(\"Your value in inchs is\",inch)\n",
    "elif user_input == \"2\":\n",
    "    km = float(input(\"Enter value in km\"))\n",
    "    mile = km*0.621\n",
    "    print(\"Your value in miles is\",mile)\n",
    "elif user_input == \"3\":\n",
    "    usd = float(input(\"Enter value in usd\"))\n",
    "    inr = usd*76.63\n",
    "    print(\"Your value in inr is\",inr)\n",
    "else:\n",
    "    print(\"Have a good day\")"
   ]
  },
  {
   "cell_type": "code",
   "execution_count": null,
   "id": "ecaa1c92",
   "metadata": {},
   "outputs": [],
   "source": [
    "# 20. Write a program that will tell the number of dogs and chicken are there when the user will provide the value of \n",
    "# total heads and legs.\n",
    "\n",
    "\n",
    "\n",
    "\n"
   ]
  },
  {
   "cell_type": "code",
   "execution_count": 318,
   "id": "43c03228",
   "metadata": {},
   "outputs": [
    {
     "name": "stdout",
     "output_type": "stream",
     "text": [
      "enter the 3 digit no56\n",
      "enter the 3 digit no255\n",
      "New A 255\n",
      "New B 56\n"
     ]
    }
   ],
   "source": [
    "# 21. Write a program that will swap numbers\n",
    "\n",
    "a=int(input(\"enter the 3 digit no\"))\n",
    "b=int(input(\"enter the 3 digit no\"))\n",
    "temp = a\n",
    "a=b\n",
    "b=temp\n",
    "print(\"New A\",a)\n",
    "print(\"New B\",b)"
   ]
  },
  {
   "cell_type": "code",
   "execution_count": 112,
   "id": "504f434f",
   "metadata": {},
   "outputs": [
    {
     "name": "stdout",
     "output_type": "stream",
     "text": [
      "Enter the digit : 4\n",
      "10\n"
     ]
    }
   ],
   "source": [
    "# 22. Write a program to find the sum of first n numbers, where n will be provided by the user. \n",
    "# Eg if the user provides n=10 the output should be 55.\n",
    "\n",
    "a=int(input(\"Enter the digit : \"))\n",
    "b=0\n",
    "for i in range(1,a+1):\n",
    "    b=b+i\n",
    "    \n",
    "print(b)"
   ]
  },
  {
   "cell_type": "code",
   "execution_count": 83,
   "id": "385738f7",
   "metadata": {},
   "outputs": [
    {
     "name": "stdout",
     "output_type": "stream",
     "text": [
      "Enter your first number5\n",
      "Enter your second number5\n",
      "Result is 25\n"
     ]
    }
   ],
   "source": [
    "# 23. Write a program that can multiply 2 numbers provided by the user without using the * operator\n",
    "\n",
    "first_num = int(input(\"Enter your first number\"))\n",
    "second_num = int(input(\"Enter your second number\"))\n",
    "sum = 0 \n",
    "\n",
    "for i in range(0,first_num):\n",
    "    sum = sum+second_num\n",
    "print(\"Result is\",sum)"
   ]
  },
  {
   "cell_type": "code",
   "execution_count": 329,
   "id": "fc3ca87c",
   "metadata": {},
   "outputs": [
    {
     "name": "stdout",
     "output_type": "stream",
     "text": [
      "Enter the digit : 4\n",
      "Factorial 24\n"
     ]
    }
   ],
   "source": [
    "# 24. Write a program that can find the factorial of a given number provided by the user.\n",
    "\n",
    "number =int(input(\"Enter the digit : \"))\n",
    "fact = 1\n",
    "\n",
    "while(number > 0):\n",
    "    fact = fact * number\n",
    "    number = number - 1\n",
    "    \n",
    "print(\"Factorial\",fact)"
   ]
  },
  {
   "cell_type": "code",
   "execution_count": 84,
   "id": "6d371907",
   "metadata": {},
   "outputs": [
    {
     "name": "stdout",
     "output_type": "stream",
     "text": [
      "1\n",
      "3\n",
      "5\n",
      "7\n",
      "9\n",
      "11\n",
      "13\n",
      "15\n",
      "17\n",
      "19\n",
      "21\n",
      "23\n",
      "25\n",
      "27\n",
      "29\n",
      "31\n",
      "33\n",
      "35\n",
      "37\n",
      "39\n",
      "41\n",
      "43\n",
      "45\n",
      "47\n",
      "49\n"
     ]
    }
   ],
   "source": [
    "# 25. Write a program to print the first 25 odd numbers\n",
    "# 1 , 3, 5, 7, 9, 11, 13, 15, 17, 19, 21, 23, 25, 27, 29, 31, 33, 35, 37, 39, 41, 43, \n",
    "# 45, 47, 49, 51, 53, 55, 57, 59, 61, 63, 65, 67, 69, 71, 73, 75, 77, 79, 81, 83, 85, 87, 89, 91, 93, 95, 97, 99.\n",
    "\n",
    "flag = 0 \n",
    "i = 1\n",
    "\n",
    "while True:\n",
    "    if i%2 !=0 :\n",
    "        print(i)\n",
    "        flag= flag+1\n",
    "    if flag == 25:\n",
    "        break\n",
    "    i =i+1\n"
   ]
  },
  {
   "cell_type": "code",
   "execution_count": 95,
   "id": "02c0c165",
   "metadata": {},
   "outputs": [
    {
     "name": "stdout",
     "output_type": "stream",
     "text": [
      "Enter your number :9\n",
      "It is prime number \n"
     ]
    }
   ],
   "source": [
    "# 26. Write a program to print whether a given number is prime number or not\n",
    "# Divisible by Single no which is itself only - 2,3,5,7,11,13,17,19,23,29,31,37,41,43,47,53,59,61,67,71,73,79,83,89,97,\n",
    "\n",
    "num = int(input(\"Enter your number :\"))\n",
    "if num == 2:\n",
    "    print(\"Prime number\")\n",
    "elif num >1 :\n",
    "    for i in range(2,num):\n",
    "        if (num%i) ==0:\n",
    "            print(\"Not  prime number \")\n",
    "            break\n",
    "        else:\n",
    "            print(\"It is prime number \")\n",
    "            break\n",
    "    else:\n",
    "        print(\"Not a prime number \")\n"
   ]
  },
  {
   "cell_type": "code",
   "execution_count": 317,
   "id": "38465465",
   "metadata": {},
   "outputs": [
    {
     "name": "stdout",
     "output_type": "stream",
     "text": [
      "Armstrong No :  153\n",
      "Armstrong No :  370\n",
      "Armstrong No :  370\n",
      "Armstrong No :  371\n",
      "Armstrong No :  407\n"
     ]
    }
   ],
   "source": [
    "# 27. Print all the armstrong numbers in the range of 100 to 1000\n",
    "\n",
    "# Armstrong number of 3 digits, the sum of cubes of each digit is equal to the number itself\n",
    "\n",
    "\n",
    "for i in range(100,1000):\n",
    "    number=i\n",
    "    armst= 0\n",
    "    for j in str(number):\n",
    "        \n",
    "        armst=armst+int(j)*int(j)*int(j)\n",
    "        \n",
    "        if(int(number)==armst):\n",
    "            print(\"Armstrong No : \",number)\n",
    "        else:\n",
    "            pass\n",
    "   # print(\"Not a Armstrong No : \",a)\n"
   ]
  },
  {
   "cell_type": "code",
   "execution_count": 342,
   "id": "1003e724",
   "metadata": {},
   "outputs": [
    {
     "name": "stdout",
     "output_type": "stream",
     "text": [
      "Enter the population10000\n",
      "Population for 10 year = 10000\n",
      "Population for 9 year = 9000.0\n",
      "Population for 8 year = 8100.0\n",
      "Population for 7 year = 7290.0\n",
      "Population for 6 year = 6561.0\n",
      "Population for 5 year = 5904.9\n",
      "Population for 4 year = 5314.41\n",
      "Population for 3 year = 4782.969\n",
      "Population for 2 year = 4304.6721\n",
      "Population for 1 year = 3874.20489\n"
     ]
    }
   ],
   "source": [
    "# 28 .The current population of a town is 10000. The population of the town is increasing at the rate of 10% per year. \n",
    "# You have to write a program to find out the population at the end of each of the last 10 years. \n",
    "# For eg current population is 10000 so the output should be like this: 10th year - 10000  ,9th year - 9000  , 8th year - 8100 and so on\n",
    "\n",
    "population=int(input(\"Enter the population\"))\n",
    "\n",
    "for i in range(10,0,-1):\n",
    "    if (i ==10):\n",
    "        print(\"Population for {} year = {}\".format(i , population))\n",
    "    else:\n",
    "        population = population-(population*0.1)\n",
    "        print(\"Population for {} year = {}\".format(i , population))\n"
   ]
  },
  {
   "cell_type": "code",
   "execution_count": 40,
   "id": "44197855",
   "metadata": {},
   "outputs": [
    {
     "name": "stdout",
     "output_type": "stream",
     "text": [
      "1 10 11\n",
      "1 11 10\n",
      "10 1 11\n",
      "10 11 1\n",
      "11 1 10\n",
      "11 10 1\n"
     ]
    }
   ],
   "source": [
    "# 29. Write a program to print all the unique combinations of 1,2,3 and 4\n",
    "\n",
    "def comb(L,n):\n",
    "    for i in range(n):\n",
    "        for j in range(n):\n",
    "            for k in range(n):\n",
    "                if (i!=j and j!=k and i!=k):\n",
    "                    print(L[i], L[j], L[k])\n",
    "                    \n",
    "# Driver Code\n",
    "comb([1,10,11],3) \n",
    "# combination of 3 = 3*2 = 6"
   ]
  },
  {
   "cell_type": "code",
   "execution_count": 112,
   "id": "dd29e326",
   "metadata": {},
   "outputs": [
    {
     "name": "stdout",
     "output_type": "stream",
     "text": [
      "Enter the First no 19\n",
      "Enter the Second no 38\n",
      "HCF of numbers  19\n"
     ]
    }
   ],
   "source": [
    "# 30. User will provide 2 numbers you have to find the HCF of those 2 numbers\n",
    "# H.C.F of 15 and 25 is 5.\n",
    "\n",
    "first_no=int(input(\"Enter the First no \"))\n",
    "second_no=int(input(\"Enter the Second no \"))\n",
    "\n",
    "for i in range(2,100):\n",
    "    if((first_no%i)== 0 and (second_no%i)== 0):\n",
    "        no=i\n",
    "        break\n",
    "    else:\n",
    "        pass\n",
    "    \n",
    "print(\"HCF of numbers \",no)\n"
   ]
  },
  {
   "cell_type": "code",
   "execution_count": 121,
   "id": "bd041231",
   "metadata": {},
   "outputs": [
    {
     "name": "stdout",
     "output_type": "stream",
     "text": [
      "Enter the First no : 15\n",
      "Enter the Second no : 25\n",
      "LCM of 2 number :  75\n"
     ]
    }
   ],
   "source": [
    "# 31. User will provide 2 numbers you have to find the by LCM of those 2 numbers\n",
    "# LCM of 15 and 25 ? The LCM of 15 and 25 is 75.\n",
    "\n",
    "\n",
    "num1=int(input(\"Enter the First no : \"))\n",
    "num2=int(input(\"Enter the Second no : \"))\n",
    "if(num1 > num2 ):   # Use If condition to find the greatest number among these two.\n",
    "    max= num1\n",
    "else:\n",
    "    max= num2\n",
    "while(True):\n",
    "    if(max % num1 == 0 and max % num2 == 0):   \n",
    "        break;\n",
    "    max= max+ 1\n",
    "    \n",
    "print(\"LCM of 2 number : \",max)"
   ]
  },
  {
   "cell_type": "code",
   "execution_count": 391,
   "id": "bb13c66f",
   "metadata": {},
   "outputs": [
    {
     "name": "stdout",
     "output_type": "stream",
     "text": [
      "Enter No of prime no to be displayed  5\n",
      "[1, 3, 5, 7, 9]\n"
     ]
    }
   ],
   "source": [
    "# 32.  Print first 25 prime numbers\n",
    "\n",
    "# Prime numbers from 1 to 100 are 2, 3, 5, 7, 11, 13, 17, 19, 23, 29, 31, 37, 41, 43, 47, 53, 59, \n",
    "                    # 61, 67, 71, 73, 79, 83, 89,97.\n",
    "\n",
    "prime_no=int(input(\"Enter No of prime no to be displayed  \"))\n",
    "count = 0   \n",
    "a= []\n",
    "for no in range(1,100):\n",
    "    if(count == prime_no):\n",
    "        break\n",
    "    if (no%2 != 0):\n",
    "        a.append(no)\n",
    "        count = count + 1 \n",
    "    else:\n",
    "        pass\n",
    "\n",
    "print(a)    "
   ]
  },
  {
   "cell_type": "code",
   "execution_count": 197,
   "id": "f3c36518",
   "metadata": {},
   "outputs": [
    {
     "name": "stdout",
     "output_type": "stream",
     "text": [
      "Enter no of digit to be displayed : 5\n",
      "0\n",
      "1\n",
      "1\n",
      "2\n",
      "3\n"
     ]
    }
   ],
   "source": [
    "# 33 Print the first 20 numbers of a Fibonacci series\n",
    "\n",
    "# Fibonacci series of numbers is a series of numbers formed by the addition of the preceding two numbers\n",
    "\n",
    "num=int(input(\"Enter no of digit to be displayed : \"))\n",
    "a=0\n",
    "b=1\n",
    "if (num==0):\n",
    "    print(a)\n",
    "else:\n",
    "    print(a)\n",
    "    print(b)\n",
    "    for i in range(2,num):\n",
    "        c=a+b\n",
    "        print(c)\n",
    "        a=b\n",
    "        b=c    "
   ]
  },
  {
   "cell_type": "code",
   "execution_count": 106,
   "id": "ff347877",
   "metadata": {},
   "outputs": [
    {
     "name": "stdout",
     "output_type": "stream",
     "text": [
      "Enter principal :1000\n",
      "Enter rate of interest :2\n",
      "Enter time period :2\n",
      "Amount 1040.4\n",
      "Compund Interest 40.40000000000009\n"
     ]
    }
   ],
   "source": [
    "# 34 Write a program to find the compound interest \n",
    "\n",
    "# A = P(1 + R/100)^t , Compound Interest = A – P \n",
    "\n",
    "p = int(input(\"Enter principal :\"))\n",
    "r = int(input(\"Enter rate of interest :\"))\n",
    "t = int(input(\"Enter time period :\"))\n",
    "\n",
    "a = p*(1+r/100)**t\n",
    "print(\"Amount\", a)\n",
    "ci = a-p\n",
    "print(\"Compund Interest\", ci)\n"
   ]
  },
  {
   "cell_type": "code",
   "execution_count": 18,
   "id": "7f808804",
   "metadata": {},
   "outputs": [
    {
     "name": "stdout",
     "output_type": "stream",
     "text": [
      "Enter your number3\n",
      "n is 3\n",
      "nn is 33\n",
      "nnn is 333\n",
      "369\n"
     ]
    }
   ],
   "source": [
    "# 35 Write a Python program that accepts an integer (n) and computes the value of n+nn+nnn.\n",
    "\n",
    "# (2+22+222)\n",
    "\n",
    "n= input(\"Enter your number\")\n",
    "print('n is',n)\n",
    "nn = n+n\n",
    "print('nn is',nn)\n",
    "nnn = n+n+n\n",
    "print('nnn is',nnn)\n",
    "c=int(n)+int(nn)+int(nnn)\n",
    "print(c)"
   ]
  },
  {
   "cell_type": "code",
   "execution_count": 108,
   "id": "d1801b4d",
   "metadata": {},
   "outputs": [
    {
     "name": "stdout",
     "output_type": "stream",
     "text": [
      "Enter your number : 1596325\n",
      "No of digits :  7\n"
     ]
    }
   ],
   "source": [
    "# 36 Take a number from the user and find the number of digits in it. \n",
    "\n",
    "a = int(input(\"Enter your number : \"))\n",
    "count = 0 \n",
    "\n",
    "while(a>0):\n",
    "    a = a//10\n",
    "    count = count + 1\n",
    "print(\"No of digits : \",count)    "
   ]
  },
  {
   "cell_type": "code",
   "execution_count": 112,
   "id": "acfbd134",
   "metadata": {},
   "outputs": [
    {
     "name": "stdout",
     "output_type": "stream",
     "text": [
      "Enter the number : 9\n",
      "Factors are :  1\n",
      "Factors are :  3\n",
      "Factors are :  9\n"
     ]
    }
   ],
   "source": [
    "# 37 Print all factors of a given number provided by the user.\n",
    "\n",
    "num = int(input(\"Enter the number : \"))\n",
    "\n",
    "for i in range(1,num+1):\n",
    "    if num % i == 0 :\n",
    "        print(\"Factors are : \",i)"
   ]
  },
  {
   "cell_type": "raw",
   "id": "253b521f",
   "metadata": {},
   "source": [
    "### 38 Find the reverse of a number provided by the user(any number of digit) \n",
    "\n",
    "*\n",
    "**\n",
    "***\n",
    "****\n",
    "*****"
   ]
  },
  {
   "cell_type": "code",
   "execution_count": 151,
   "id": "b61bac3b",
   "metadata": {},
   "outputs": [
    {
     "name": "stdout",
     "output_type": "stream",
     "text": [
      "Enter no of cross stars to be displayed : 6\n",
      "\n",
      "*\n",
      "**\n",
      "***\n",
      "****\n",
      "*****\n",
      "******\n"
     ]
    }
   ],
   "source": [
    "num=int(input(\"Enter no of cross stars to be displayed : \"))\n",
    "for i in range(0,num+1):\n",
    "    print(\"*\"*i)"
   ]
  },
  {
   "cell_type": "code",
   "execution_count": 190,
   "id": "27da9496",
   "metadata": {},
   "outputs": [
    {
     "name": "stdout",
     "output_type": "stream",
     "text": [
      "aaaa* \n",
      "aaa* * \n",
      "aa* * * \n",
      "a* * * * \n",
      "* * * * * \n"
     ]
    }
   ],
   "source": [
    "def triangle(n):\n",
    "    k = n - 1\n",
    " \n",
    "    # outer loop to handle number of rows\n",
    "    for i in range(0, n):\n",
    "     \n",
    "        # inner loop to handle number spaces\n",
    "        # values changing acc. to requirement\n",
    "        for j in range(0, k):\n",
    "            print(end=\"a\")\n",
    "     \n",
    "        k = k - 1\n",
    "        # inner loop to handle number of columns\n",
    "        # values changing acc. to outer loop\n",
    "        for j in range(0, i+1):\n",
    "         \n",
    "            print(\"* \", end = \"\")\n",
    "     \n",
    "        # ending line after each row\n",
    "        print(\"\")\n",
    "        \n",
    "triangle(5)"
   ]
  },
  {
   "cell_type": "code",
   "execution_count": 172,
   "id": "5cc7bf7f",
   "metadata": {},
   "outputs": [
    {
     "name": "stdout",
     "output_type": "stream",
     "text": [
      "Enter the number of rows: 5\n",
      "        *  \n",
      "       *  *  \n",
      "      *  *  *  \n",
      "     *  *  *  *  \n",
      "    *  *  *  *  *  \n"
     ]
    }
   ],
   "source": [
    "n = int(input(\"Enter the number of rows: \"))  \n",
    "m = (2 * n) - 2  \n",
    "for i in range(0, n):  \n",
    "    for j in range(0, m):  \n",
    "        print(end=\" \")  \n",
    "    m =m-1 \n",
    "    for j in range(0, i + 1):  \n",
    "        # printing full Triangle pyramid using stars  \n",
    "        print(\"* \", end=' ')  \n",
    "    print(\" \")      "
   ]
  },
  {
   "cell_type": "code",
   "execution_count": 207,
   "id": "d7d7e18d",
   "metadata": {},
   "outputs": [
    {
     "name": "stdout",
     "output_type": "stream",
     "text": [
      "Enter the number of rows: 4\n",
      "1  \n",
      "2 3 4  \n",
      "5 6 7 8 9  \n"
     ]
    }
   ],
   "source": [
    "n = int(input(\"Enter the number of rows: \"))  \n",
    "current_no= 1\n",
    "stops = 2\n",
    "\n",
    "for i in range(1,n):\n",
    "    for j in range(1,stops):\n",
    "        print(current_no , end = \" \")\n",
    "        current_no = current_no +1\n",
    "    \n",
    "    print(\" \")\n",
    "    stops = stops + 2\n",
    "    "
   ]
  },
  {
   "cell_type": "code",
   "execution_count": 223,
   "id": "e653fd0e",
   "metadata": {},
   "outputs": [
    {
     "name": "stdout",
     "output_type": "stream",
     "text": [
      "Enter the number of rows: 8\n",
      "1  \n",
      "1 2  \n",
      "1 2 3  \n",
      "1 2 3 4  \n",
      "1 2 3 4 5  \n",
      "1 2 3 4 5 6  \n",
      "1 2 3 4 5 6 7  \n"
     ]
    }
   ],
   "source": [
    "n = int(input(\"Enter the number of rows: \"))  \n",
    "for i in range(1,n):\n",
    "    count= 1\n",
    "    for j in range(1,i+1):\n",
    "        print(count, end = \" \")\n",
    "        count = count + 1\n",
    "    print(\" \")"
   ]
  },
  {
   "cell_type": "code",
   "execution_count": 248,
   "id": "06643502",
   "metadata": {},
   "outputs": [
    {
     "name": "stdout",
     "output_type": "stream",
     "text": [
      "Enter the number of rows: 6\n",
      "1 1 1 1 1 1  \n",
      "2 2 2 2 2  \n",
      "3 3 3 3  \n",
      "4 4 4  \n",
      "5 5  \n",
      "6  \n"
     ]
    }
   ],
   "source": [
    "n = int(input(\"Enter the number of rows: \"))  \n",
    "count= 1\n",
    "j=n\n",
    "for i in range(1,n+1):\n",
    "    for j in range(1,j+1):\n",
    "        print(count, end = \" \")\n",
    "    \n",
    "    print(\" \")\n",
    "    j= j - 1\n",
    "    count = count + 1"
   ]
  },
  {
   "cell_type": "code",
   "execution_count": 259,
   "id": "105bddeb",
   "metadata": {},
   "outputs": [
    {
     "name": "stdout",
     "output_type": "stream",
     "text": [
      "Enter the number of rows: 6\n",
      "6 6 6 6 6 6  \n",
      "5 5 5 5 5  \n",
      "4 4 4 4  \n",
      "3 3 3  \n",
      "2 2  \n",
      "1  \n"
     ]
    }
   ],
   "source": [
    "n = int(input(\"Enter the number of rows: \"))  \n",
    "count= n\n",
    "j=n\n",
    "for i in range(1,n+1):\n",
    "    for j in range(1,j+1):\n",
    "        print(count, end = \" \")\n",
    "    \n",
    "    print(\" \")\n",
    "    j= j - 1\n",
    "    count = count - 1"
   ]
  },
  {
   "cell_type": "code",
   "execution_count": 254,
   "id": "3b70a28e",
   "metadata": {},
   "outputs": [
    {
     "name": "stdout",
     "output_type": "stream",
     "text": [
      "Enter the number of rows: 6\n",
      "1  \n",
      "2 2  \n",
      "3 3 3  \n",
      "4 4 4 4  \n",
      "5 5 5 5 5  \n",
      "6 6 6 6 6 6  \n"
     ]
    }
   ],
   "source": [
    "n = int(input(\"Enter the number of rows: \"))  \n",
    "count= 1\n",
    "for i in range(1,n+1):\n",
    "    for j in range(1,i+1):\n",
    "        print(count, end = \" \")\n",
    "        \n",
    "    count = count + 1\n",
    "    print(\" \")"
   ]
  },
  {
   "cell_type": "code",
   "execution_count": 270,
   "id": "1edf949b",
   "metadata": {},
   "outputs": [
    {
     "name": "stdout",
     "output_type": "stream",
     "text": [
      "Enter the number of rows: 6\n",
      "6 5 4 3 2 1  \n",
      "5 4 3 2 1  \n",
      "4 3 2 1  \n",
      "3 2 1  \n",
      "2 1  \n",
      "1  \n"
     ]
    }
   ],
   "source": [
    "n = int(input(\"Enter the number of rows: \"))  \n",
    "j=n\n",
    "count = n \n",
    "for i in range(1,n+1):\n",
    "    for j in range(1,j+1):\n",
    "        print(count, end = \" \")\n",
    "        count = count - 1\n",
    "    print(\" \")\n",
    "    count = j-1\n",
    "    j= j - 1    "
   ]
  },
  {
   "cell_type": "code",
   "execution_count": null,
   "id": "7a3dc651",
   "metadata": {},
   "outputs": [],
   "source": [
    "6 5 4 3 2 1 \n",
    "5 4 3 2 1 \n",
    "4 3 2 1 \n",
    "3 2 1 \n",
    "2 1 \n",
    "1"
   ]
  },
  {
   "cell_type": "code",
   "execution_count": 280,
   "id": "b04fd54e",
   "metadata": {},
   "outputs": [
    {
     "name": "stdout",
     "output_type": "stream",
     "text": [
      "Enter the number of rows: 6\n",
      "1  \n",
      "3 3  \n",
      "5 5 5  \n",
      "7 7 7 7  \n",
      "9 9 9 9 9  \n",
      "11 11 11 11 11 11  \n"
     ]
    }
   ],
   "source": [
    "n = int(input(\"Enter the number of rows: \"))  \n",
    "count= 1\n",
    "for i in range(1,n+1):\n",
    "    for j in range(1,i+1):\n",
    "        print(count, end = \" \")\n",
    "        \n",
    "    count = count + 2\n",
    "    print(\" \")"
   ]
  },
  {
   "cell_type": "code",
   "execution_count": 289,
   "id": "04d45e96",
   "metadata": {},
   "outputs": [
    {
     "name": "stdout",
     "output_type": "stream",
     "text": [
      "Enter the number of rows: 5\n",
      "1  \n",
      "1 2  \n",
      "1 2 3  \n",
      "1 2 3 4  \n",
      "1 2 3 4 5  \n"
     ]
    }
   ],
   "source": [
    "n = int(input(\"Enter the number of rows: \"))  \n",
    "for i in range(1,n+1):\n",
    "    count= 1\n",
    "    for j in range(1,i+1):\n",
    "        print(count, end = \" \")\n",
    "        count = count + 1\n",
    "    \n",
    "    print(\" \")"
   ]
  },
  {
   "cell_type": "code",
   "execution_count": 353,
   "id": "16a788ef",
   "metadata": {},
   "outputs": [
    {
     "name": "stdout",
     "output_type": "stream",
     "text": [
      "Enter the no : 20\n",
      "Sum = 20 , Average = 20.0 \n",
      "Enter the no : 30\n",
      "Sum = 50 , Average = 25.0 \n",
      "Enter the no : 100\n",
      "Sum = 150 , Average = 50.0 \n",
      "Enter the no : 10\n",
      "Sum = 160 , Average = 40.0 \n",
      "Enter the no : 10\n",
      "Sum = 170 , Average = 34.0 \n",
      "Enter the no : 0\n",
      "Final Sum = 170 , Average = 34.0 \n"
     ]
    }
   ],
   "source": [
    "# 47 .Write a program that keeps on accepting a number from the user until the user enters Zero. \n",
    "# Display the sum and average of all the numbers.\n",
    "\n",
    "no = int(input(\"Enter the no : \"))  \n",
    "sum = 0 \n",
    "avg = 0\n",
    "count = 1\n",
    "while (no > 0):\n",
    "    sum = sum + no\n",
    "    avg = sum / count \n",
    "    print(\"Sum = {} , Average = {} \".format(sum,round(avg,0)))\n",
    "    no = int(input(\"Enter the no : \"))  \n",
    "    count = count + 1\n",
    "    \n",
    "print(\"Final Sum = {} , Average = {} \".format(sum,round(avg,0)))    "
   ]
  },
  {
   "cell_type": "code",
   "execution_count": null,
   "id": "bac91437",
   "metadata": {},
   "outputs": [],
   "source": [
    "# 48 Write a program that accepts 2 numbers from the user a numerator and a denominator and then simplifies it\n",
    "# 49 Eg if the num = 5, den = 15 the answer should be ⅓\n",
    "# 50 . Eg if the num = 6, den = 9 the answer should be ⅔\n",
    "\n",
    "\n"
   ]
  },
  {
   "cell_type": "code",
   "execution_count": 96,
   "id": "bbc889d9",
   "metadata": {},
   "outputs": [
    {
     "name": "stdout",
     "output_type": "stream",
     "text": [
      "Enter the stringsandesh jain mrs \n",
      "Length of string 17\n"
     ]
    }
   ],
   "source": [
    "# 51 .  Find the length of a given string without using the len() function. \n",
    "\n",
    "a = input(\"Enter the string\")\n",
    "count = 0 \n",
    "\n",
    "for i in a:\n",
    "    count = count + 1\n",
    "    \n",
    "print(\"Length of string\",count)"
   ]
  },
  {
   "cell_type": "code",
   "execution_count": 407,
   "id": "90ec2da9",
   "metadata": {},
   "outputs": [
    {
     "name": "stdout",
     "output_type": "stream",
     "text": [
      "Enter the email id - horseride@xbox.in\n",
      "Enter which position of character to find - d\n",
      "username -  horseride\n",
      "No of vowels in the particular string 6\n",
      "Position 8\n"
     ]
    }
   ],
   "source": [
    "# 52 .  Extract username from a given email. \n",
    "# Eg if the email is nitish24singh@gmail.com then the username should be nitish24singh\n",
    "# Count the frequency of a particular character in a provided string. Eg 'hello how are you' is the string, the frequency of h in this string is 2.\n",
    "# Find the index position of a particular character in another string. \n",
    "# Count the number of vowels in a string provided by the user.\n",
    "\n",
    "str = input(\"Enter the email id - \")\n",
    "index_pos = input(\"Enter which position of character to find - \")\n",
    "\n",
    "user_name = str.split('@')\n",
    "print(\"username - \",user_name[0])\n",
    "\n",
    "vowels=['a','e','i','o','u']\n",
    "vow_count = 0\n",
    "for i in str:\n",
    "    if i in vowels:\n",
    "        vow_count = vow_count + 1\n",
    "    else:\n",
    "        pass\n",
    "print(\"No of vowels in the particular string -\",vow_count)\n",
    "\n",
    "count = 1\n",
    "a=0\n",
    "for i in str:\n",
    "    if(i!=index_pos):\n",
    "        count = count +1\n",
    "    else:\n",
    "        a=1\n",
    "        print(\"Position - \",count)\n",
    "\n",
    "if a==0:\n",
    "    print(\"Entered No does not exists\")\n",
    "    "
   ]
  },
  {
   "cell_type": "code",
   "execution_count": 250,
   "id": "645ad0d4",
   "metadata": {},
   "outputs": [
    {
     "name": "stdout",
     "output_type": "stream",
     "text": [
      "Enter the string : george is great \n",
      "Enter the character to be removed : g\n",
      "New String  :  eore is reat \n"
     ]
    }
   ],
   "source": [
    "# 53  . Write a program which can remove a particular character from a string. \n",
    "\n",
    "input_str = (input(\"Enter the string : \"))\n",
    "remove = (input(\"Enter the character to be removed : \"))\n",
    "\n",
    "new_str= []\n",
    "for i in input_str:\n",
    "    if i!=remove:\n",
    "        new_str.append(i)\n",
    "    else:\n",
    "        pass\n",
    "    \n",
    "print(\"New String  : \",\"\".join(new_str))"
   ]
  },
  {
   "cell_type": "code",
   "execution_count": 243,
   "id": "31a8e5f7",
   "metadata": {},
   "outputs": [
    {
     "name": "stdout",
     "output_type": "stream",
     "text": [
      "Enter the string : agarsathasraga \n",
      "Not a Palindrome No\n"
     ]
    }
   ],
   "source": [
    "# 54 . Write a program that can check whether a given string is palindrome or not.\n",
    "\n",
    "# if the reverse of the string is the same as string - 151\n",
    "\n",
    "input_str = (input(\"Enter the string : \"))\n",
    "count = 0\n",
    "for i in input_str:\n",
    "    count = count +1\n",
    "#print(count)\n",
    "\n",
    "str2 = []\n",
    "i = count - 1\n",
    "for a in range(count,0,-1):\n",
    "    str2.append(input_str[i])\n",
    "    i  = i - 1\n",
    "    \n",
    "#print(\"\".join(str2))\n",
    "\n",
    "if (input_str == \"\".join(str2)):\n",
    "    print(\"Palindrome No\")\n",
    "else:\n",
    "    print(\"Not a Palindrome No\")\n",
    "    "
   ]
  },
  {
   "cell_type": "code",
   "execution_count": 260,
   "id": "250942c8",
   "metadata": {},
   "outputs": [
    {
     "name": "stdout",
     "output_type": "stream",
     "text": [
      "Enter the no of values to be added in list :\n",
      "6\n",
      "Enter the elements\n",
      "10\n",
      "10\n",
      "10\n",
      "10\n",
      "20\n",
      "25\n",
      "New List [10, 10, 10, 10, 20, 25]\n",
      "List after removing duplicates [10, 20, 25]\n"
     ]
    }
   ],
   "source": [
    "# 56 . Write a python program to remove all the duplicates from a list\n",
    "\n",
    "\n",
    "input_string = int(input(\"Enter the no of values to be added in list :\\n\"))\n",
    "print(\"Enter the elements\")\n",
    "a=[]\n",
    "for i in range(0,input_string):\n",
    "    no = int(input())\n",
    "    a.append(no)\n",
    "print(\"New List\",a)\n",
    "\n",
    "str2 = []\n",
    "for i in a:\n",
    "    if i not in str2:\n",
    "        str2.append(i)\n",
    "    else:\n",
    "        pass\n",
    "    \n",
    "print(\"List after removing duplicates\",str2)"
   ]
  },
  {
   "cell_type": "code",
   "execution_count": 103,
   "id": "18aee512",
   "metadata": {},
   "outputs": [
    {
     "name": "stdout",
     "output_type": "stream",
     "text": [
      "Enter the String :\n",
      "enter your name and gf name \n",
      "['enter', 'your', 'name', 'and', 'gf', 'name']\n",
      "Enter Your Name And Gf Name \n"
     ]
    }
   ],
   "source": [
    "# 57 .Write a python program to convert a string to title case without using the title()\n",
    "\n",
    "input_string = (input(\"Enter the String :\\n\"))\n",
    "y = input_string.split()\n",
    "print(y)\n",
    "\n",
    "r = ''\n",
    "for i in y:\n",
    "    r = r + i[0].upper() + i[1:].lower() + ' '\n",
    "print(r)"
   ]
  },
  {
   "cell_type": "code",
   "execution_count": 474,
   "id": "d5fbe9e7",
   "metadata": {},
   "outputs": [
    {
     "name": "stdout",
     "output_type": "stream",
     "text": [
      "Enter the no of values to be added in list :\n",
      "4\n",
      "Enter the elements\n",
      "25\n",
      "26\n",
      "89\n",
      "66\n",
      "[25, 26, 89, 66]\n",
      "Largest no 89\n"
     ]
    }
   ],
   "source": [
    "# 58 .Write a python program to find the max item from a list without using the max function\n",
    "\n",
    "input_string = int(input(\"Enter the no of values to be added in list :\\n\"))\n",
    "print(\"Enter the elements\")\n",
    "a=[]\n",
    "for i in range(0,input_string):\n",
    "    no = int(input())\n",
    "    a.append(no)\n",
    "print(a)\n",
    "max = 0 \n",
    "for i in a:\n",
    "    if (i > max):\n",
    "        max = i\n",
    "    else:\n",
    "        pass\n",
    "\n",
    "print(\"Largest no\",max)"
   ]
  },
  {
   "cell_type": "code",
   "execution_count": 409,
   "id": "2d91dc51",
   "metadata": {},
   "outputs": [
    {
     "name": "stdout",
     "output_type": "stream",
     "text": [
      "[4, 3, 2, 1]\n"
     ]
    }
   ],
   "source": [
    "# 59 .Write a python program to reverse a list\n",
    "\n",
    "l=[1,2,3,4]\n",
    "l.reverse()\n",
    "\n",
    "print(l)"
   ]
  },
  {
   "cell_type": "code",
   "execution_count": 447,
   "id": "87cecb3a",
   "metadata": {},
   "outputs": [
    {
     "name": "stdout",
     "output_type": "stream",
     "text": [
      "Enter the no of values to be added in list :\n",
      "5\n",
      "Enter the elements\n",
      "121\n",
      "131\n",
      "151\n",
      "6\n",
      "164\n",
      "List = [121, 131, 151, 6, 164]\n",
      "Enter the value to be searched :165\n",
      "Value Does Not Exists in the list\n"
     ]
    }
   ],
   "source": [
    "# 60 .Write a python program to search a given number from a list\n",
    "\n",
    "no_of_elements = int(input(\"Enter the no of values to be added in list :\\n\"))\n",
    "print(\"Enter the elements\")\n",
    "a = []\n",
    "for i in range(0,no_of_elements):\n",
    "    no = int(input())\n",
    "    a.append(no)\n",
    "print(\"List =\",a)\n",
    "search_value=int(input(\"Enter the value to be searched :\"))\n",
    "for i in a:\n",
    "    if (i==search_value):\n",
    "        count = 1\n",
    "        break\n",
    "    else:\n",
    "        count = 0 \n",
    "    \n",
    "if count == 1:\n",
    "    print(\"Value Exists in the list\")\n",
    "else:\n",
    "    print(\"Value Does Not Exists in the list\")\n"
   ]
  },
  {
   "cell_type": "code",
   "execution_count": 455,
   "id": "f1d9de0b",
   "metadata": {},
   "outputs": [
    {
     "name": "stdout",
     "output_type": "stream",
     "text": [
      "Enter the no of values to be added in list :\n",
      "5\n",
      "Enter the elements\n",
      "12\n",
      "15\n",
      "6\n",
      "8\n",
      "9\n",
      "List = [12, 15, 6, 8, 9]\n",
      "New list after squaring all the items\n",
      "[144, 225, 36, 64, 81]\n"
     ]
    }
   ],
   "source": [
    "# 61 .Write a program that can create a new list from a given list where each item in the new list is \n",
    "# square of the item of the old list\n",
    "\n",
    "no_of_elements = int(input(\"Enter the no of values to be added in list :\\n\"))\n",
    "print(\"Enter the elements\")\n",
    "a = []\n",
    "for i in range(0,no_of_elements):\n",
    "    no = int(input())\n",
    "    a.append(no)\n",
    "print(\"List =\",a)\n",
    "print(\"New list after squaring all the items\")\n",
    "b=[]\n",
    "for i in range(0,len(a)):\n",
    "    b.append(a[i]*a[i])\n",
    "print(b)"
   ]
  },
  {
   "cell_type": "code",
   "execution_count": 423,
   "id": "39931116",
   "metadata": {},
   "outputs": [
    {
     "name": "stdout",
     "output_type": "stream",
     "text": [
      "Enter the String :hello how are you \n",
      "['hello', 'how', 'are', 'you']\n",
      "['you', 'are', 'how', 'hello']\n",
      "Reverse String : you are how hello\n"
     ]
    }
   ],
   "source": [
    "# 62 .Write a program that can reverse words of a given string.\n",
    "#  Eg if the input is Hello how are you\n",
    "#  Output should be you are how Hello\n",
    "\n",
    "input_str = input(\"Enter the String :\")\n",
    "\n",
    "# String is converted to list \n",
    "a = input_str.split()\n",
    "\n",
    "# List is reversed\n",
    "a.reverse()\n",
    "\n",
    "print(\"Reverse String :\",end=\" \")\n",
    "# List is converted to string \n",
    "print(\" \".join(a))\n"
   ]
  },
  {
   "cell_type": "code",
   "execution_count": 462,
   "id": "ac2fc56d",
   "metadata": {},
   "outputs": [
    {
     "name": "stdout",
     "output_type": "stream",
     "text": [
      "Enter the string : hi good morning wanna have a coffee\n",
      "No of words in the string : 7\n"
     ]
    }
   ],
   "source": [
    "# 63 .Write a program that can count the number of words in a given string\n",
    "\n",
    "input_string = (input(\"Enter the string : \"))\n",
    "count=0\n",
    "for i in input_string.split():\n",
    "    count=count+1\n",
    "\n",
    "print(\"No of words in the string :\",count)"
   ]
  },
  {
   "cell_type": "code",
   "execution_count": 53,
   "id": "fea3edff",
   "metadata": {},
   "outputs": [
    {
     "name": "stdout",
     "output_type": "stream",
     "text": [
      "Enter the No of elements : 5\n",
      "Enter the list :\n",
      "23\n",
      "24\n",
      "1555\n",
      "20563\n",
      "8755\n",
      "List : [23, 24, 1555, 20563, 8755]\n"
     ]
    }
   ],
   "source": [
    "# 64 .Write a program to check if a list is in ascending order or not\n",
    "\n",
    "input_string = int(input(\"Enter the No of elements : \"))\n",
    "print(\"Enter the list :\")\n",
    "\n",
    "a=[]\n",
    "for i in range(0,input_string):\n",
    "    b=int(input())\n",
    "    a.append(b)\n",
    "\n",
    "print(\"List :\",a)"
   ]
  },
  {
   "cell_type": "code",
   "execution_count": 94,
   "id": "7575f3d9",
   "metadata": {},
   "outputs": [
    {
     "name": "stdout",
     "output_type": "stream",
     "text": [
      "Enter the No of elements : 6\n",
      "Enter the list :\n",
      "2\n",
      "56\n",
      "35\n",
      "15\n",
      "48\n",
      "99\n",
      "List : [2, 56, 35, 15, 48, 99]\n",
      "Even list [2, 56, 48]\n",
      "Odd list [35, 15, 99]\n"
     ]
    }
   ],
   "source": [
    "# 65 .Create 2 lists from a given list where 1st list will contain all the odd numbers from the original list \n",
    "# and the 2nd one will contain all the even numbers \n",
    "\n",
    "input_string = int(input(\"Enter the No of elements : \"))\n",
    "print(\"Enter the list :\")\n",
    "a=[]\n",
    "for i in range(0,input_string):\n",
    "    b=int(input())\n",
    "    a.append(b)\n",
    "print(\"List :\",a)\n",
    "odd= []\n",
    "even=[]\n",
    "for i in a:\n",
    "    if (i%2)== 0 : \n",
    "        even.append(i)\n",
    "    else:\n",
    "        odd.append(i)\n",
    "    \n",
    "print(\"Even list\",even)\n",
    "print(\"Odd list\",odd)"
   ]
  },
  {
   "cell_type": "code",
   "execution_count": 98,
   "id": "d01a7a5d",
   "metadata": {},
   "outputs": [
    {
     "name": "stdout",
     "output_type": "stream",
     "text": [
      "[1, 2, 3, 4, 5, 6, 7, 8]\n"
     ]
    }
   ],
   "source": [
    "# 66 .Write a program to merge 2 list without using the + operator\n",
    "\n",
    "L1 = [1,2,3,4]\n",
    "L2 = [5,6,7,8]\n",
    "L= []\n",
    "\n",
    "for i in L1:\n",
    "    L.append(i)\n",
    "for j in L2:\n",
    "    L.append(j)\n",
    "print(L)"
   ]
  },
  {
   "cell_type": "code",
   "execution_count": null,
   "id": "e947b441",
   "metadata": {},
   "outputs": [],
   "source": [
    "# 67 .Write a program to replace an item with a different item if found in the list \n",
    "\n"
   ]
  },
  {
   "cell_type": "code",
   "execution_count": 165,
   "id": "3c885b44",
   "metadata": {},
   "outputs": [
    {
     "name": "stdout",
     "output_type": "stream",
     "text": [
      "list  [[1, 2, 3], [4, 6, 7], [10, 5, 4]]\n",
      "final_result [1, 2, 3, 4, 6, 7, 10, 5, 4]\n"
     ]
    }
   ],
   "source": [
    "# 68 .Write a program that can convert a 2D list to 1D list\n",
    "\n",
    "ini_list = [[1, 2, 3],\n",
    "            [4, 6, 7],\n",
    "            [10, 5, 4]]\n",
    " \n",
    "print (\"list \", ini_list)\n",
    " \n",
    "# converting 2d list into 1d\n",
    "flatten_list = sum(ini_list, [])\n",
    " \n",
    "print (\"final_result\", flatten_list)\n"
   ]
  },
  {
   "cell_type": "code",
   "execution_count": 173,
   "id": "d1b6396f",
   "metadata": {},
   "outputs": [
    {
     "name": "stdout",
     "output_type": "stream",
     "text": [
      "Union of 2 List [11, 12, 13, 21, 222, 2119, 190]\n",
      "Intersection of the lists is: [21, 222, 2119, 190]\n"
     ]
    }
   ],
   "source": [
    "# 69 .Write a program that can perform union and intersection on 2 given list. \n",
    "\n",
    "# Union of a list means, we must take all the elements from list A and list B (there can be more than two lists) \n",
    "# and put them inside a single new list.\n",
    "\n",
    "# Intersection of two list means we need to take all those elements which are common to both of the initial lists \n",
    "# and store them into another list.\n",
    "\n",
    "list1 = [11,12,13]\n",
    "list2 = [21,222,2119,190]\n",
    "for i in list2:\n",
    "    list1.append(i)\n",
    "print (\"Union of 2 List\", list1)\n",
    "\n",
    "newList = []\n",
    "for element in list1:\n",
    "    if element in list2:\n",
    "        newList.append(element)\n",
    "\n",
    "print(\"Intersection of the lists is:\", newList)"
   ]
  },
  {
   "cell_type": "code",
   "execution_count": 39,
   "id": "5b8cb3d9",
   "metadata": {},
   "outputs": [
    {
     "name": "stdout",
     "output_type": "stream",
     "text": [
      "3\n",
      "9\n",
      "76\n"
     ]
    }
   ],
   "source": [
    "# 70 .Write a program that can print the max item of each row of a matrix. \n",
    "\n",
    "matrix =  [[1, 2, 3],\n",
    "        [1, 4, 9],\n",
    "        [76, 34, 21]]\n",
    "           \n",
    "for i in matrix:\n",
    "        max= i[0]\n",
    "        for j in i:\n",
    "            if j > max:\n",
    "                max=j\n",
    "        print(max)\n",
    "        "
   ]
  },
  {
   "cell_type": "code",
   "execution_count": 8,
   "id": "c3d56869",
   "metadata": {},
   "outputs": [
    {
     "name": "stdout",
     "output_type": "stream",
     "text": [
      "<class 'str'>\n"
     ]
    }
   ],
   "source": [
    "# 71 .Write a program that can convert an integer to string. \n",
    "\n",
    "def convert(number):\n",
    "    digits = '0123456789'\n",
    "    result = ''\n",
    "    while (number!=0) :\n",
    "        current_num = number % 10\n",
    "        result = digits[current_num] + result\n",
    "        number = number // 10\n",
    "    return result\n",
    "print(type(convert(23)))\n"
   ]
  },
  {
   "cell_type": "code",
   "execution_count": 27,
   "id": "496d78ff",
   "metadata": {},
   "outputs": [
    {
     "name": "stdout",
     "output_type": "stream",
     "text": [
      "[1, 2, 3, 4]\n",
      "[4, 5, 6, 3]\n",
      "[7, 8, 9, 8]\n",
      "Shape of matrix 3 * 4\n"
     ]
    }
   ],
   "source": [
    "# 72 .Write a program to print the shape of a matrix. \n",
    "\n",
    "matrix = [[1,2,3,4],\n",
    "          [4,5,6,3],\n",
    "          [7,8,9,8]]\n",
    "\n",
    "row = 0\n",
    "for i in matrix:\n",
    "    row = row + 1\n",
    "    print(i)\n",
    "    \n",
    "print(\"Shape of matrix\",row,'*',len(i))\n"
   ]
  },
  {
   "cell_type": "code",
   "execution_count": 182,
   "id": "ce8fcebe",
   "metadata": {},
   "outputs": [
    {
     "ename": "TypeError",
     "evalue": "'int' object is not callable",
     "output_type": "error",
     "traceback": [
      "\u001b[1;31m---------------------------------------------------------------------------\u001b[0m",
      "\u001b[1;31mTypeError\u001b[0m                                 Traceback (most recent call last)",
      "\u001b[1;32m~\\AppData\\Local\\Temp/ipykernel_19732/2725506321.py\u001b[0m in \u001b[0;36m<module>\u001b[1;34m\u001b[0m\n\u001b[0;32m     15\u001b[0m \u001b[1;33m\u001b[0m\u001b[0m\n\u001b[0;32m     16\u001b[0m \u001b[1;31m# iterate through rows of X\u001b[0m\u001b[1;33m\u001b[0m\u001b[1;33m\u001b[0m\u001b[0m\n\u001b[1;32m---> 17\u001b[1;33m \u001b[1;32mfor\u001b[0m \u001b[0mi\u001b[0m \u001b[1;32min\u001b[0m \u001b[0mrange\u001b[0m\u001b[1;33m(\u001b[0m\u001b[0mlen\u001b[0m\u001b[1;33m(\u001b[0m\u001b[0mX\u001b[0m\u001b[1;33m)\u001b[0m\u001b[1;33m)\u001b[0m\u001b[1;33m:\u001b[0m\u001b[1;33m\u001b[0m\u001b[1;33m\u001b[0m\u001b[0m\n\u001b[0m\u001b[0;32m     18\u001b[0m    \u001b[1;31m# iterate through columns of Y\u001b[0m\u001b[1;33m\u001b[0m\u001b[1;33m\u001b[0m\u001b[0m\n\u001b[0;32m     19\u001b[0m    \u001b[1;32mfor\u001b[0m \u001b[0mj\u001b[0m \u001b[1;32min\u001b[0m \u001b[0mrange\u001b[0m\u001b[1;33m(\u001b[0m\u001b[0mlen\u001b[0m\u001b[1;33m(\u001b[0m\u001b[0mY\u001b[0m\u001b[1;33m[\u001b[0m\u001b[1;36m0\u001b[0m\u001b[1;33m]\u001b[0m\u001b[1;33m)\u001b[0m\u001b[1;33m)\u001b[0m\u001b[1;33m:\u001b[0m\u001b[1;33m\u001b[0m\u001b[1;33m\u001b[0m\u001b[0m\n",
      "\u001b[1;31mTypeError\u001b[0m: 'int' object is not callable"
     ]
    }
   ],
   "source": [
    "# 74 .Write a program to perform matrix multiplication on 2 matrices\n",
    "\n",
    "A = [[12, 7, 3],\n",
    "    [4, 5, 6],\n",
    "    [7, 8, 9]]\n",
    " \n",
    "B = [[5, 8, 1, 2],\n",
    "    [6, 7, 3, 0],\n",
    "    [4, 5, 9, 1]]\n",
    "     \n",
    "result = [[0, 0, 0, 0],\n",
    "        [0, 0, 0, 0],\n",
    "        [0, 0, 0, 0]]\n",
    "\n",
    "\n",
    "for i in range(len(A)):\n",
    "    for j in range(len(B[0])):\n",
    "        for k in range(len(B)):\n",
    "            result[i][j] += A[i][k] * B[k][j]\n",
    " \n",
    "    for r in result:\n",
    "        print(r)\n"
   ]
  },
  {
   "cell_type": "code",
   "execution_count": 87,
   "id": "4d231b3c",
   "metadata": {},
   "outputs": [
    {
     "name": "stdout",
     "output_type": "stream",
     "text": [
      "Enter the no of Elements : 3\n",
      "Enter the elements\n",
      "500\n",
      "120\n",
      "420\n",
      "List [500, 120, 420]\n",
      "[120, 420, 500]\n"
     ]
    }
   ],
   "source": [
    "# 75.  Write a program that can sort a given unsorted list. Dont use any built in function for sorting.\n",
    "\n",
    "no = int(input(\"Enter the no of Elements : \"))\n",
    "print(\"Enter the elements\")\n",
    "lst = []\n",
    "for i in range(0,no):\n",
    "    a=int(input())\n",
    "    lst.append(a)\n",
    "print(\"List\",lst)\n",
    "min = 0\n",
    "sort = []\n",
    "\n",
    "for i in range(len(lst)):\n",
    "    for j in range(i+1,len(lst)):\n",
    "        if lst[i] > lst[j]:\n",
    "            lst[i], lst[j] = lst[j], lst[i]\n",
    "print(lst)\n"
   ]
  },
  {
   "cell_type": "code",
   "execution_count": null,
   "id": "24b1c9e2",
   "metadata": {},
   "outputs": [],
   "source": [
    "# 76. Write a program that can find the most used word in a bollywood song\n",
    "# Assume a list with numbers from 1 to 10 and then convert it into a dictionary \n",
    "# where the key would be the numbers of the list and the values would be the square of those numbers.\n",
    "\n",
    "\n",
    "\n",
    "\n"
   ]
  },
  {
   "cell_type": "code",
   "execution_count": 127,
   "id": "e925c3c4",
   "metadata": {},
   "outputs": [
    {
     "name": "stdout",
     "output_type": "stream",
     "text": [
      "{1: 'good', 2: 'morning', 3: 'fast', 4: 'evening'}\n"
     ]
    }
   ],
   "source": [
    "# 77.  Write a program to merge two given dictionary\n",
    "\n",
    "a = {1:'good',2:'morning'}\n",
    "b= {3:'fast',4:'evening'}\n",
    "\n",
    "res = {**a,**b}  # To merge 2 dictionary\n",
    "\n",
    "print(res)"
   ]
  },
  {
   "cell_type": "code",
   "execution_count": 42,
   "id": "3ee95e91",
   "metadata": {},
   "outputs": [
    {
     "name": "stdout",
     "output_type": "stream",
     "text": [
      "Enter size of dictionary : 3\n",
      "Enter employee's name: a\n",
      "Enter employee's salary: 12\n",
      "Enter employee's name: b\n",
      "Enter employee's salary: 233\n",
      "Enter employee's name: f\n",
      "Enter employee's salary: 233242\n",
      "<class 'dict'>\n",
      "{'a': '12', 'b': '233', 'f': '233242'}\n",
      "Swap the max and min values\n"
     ]
    },
    {
     "ename": "TypeError",
     "evalue": "'int' object is not callable",
     "output_type": "error",
     "traceback": [
      "\u001b[1;31m---------------------------------------------------------------------------\u001b[0m",
      "\u001b[1;31mTypeError\u001b[0m                                 Traceback (most recent call last)",
      "\u001b[1;32m~\\AppData\\Local\\Temp/ipykernel_1784/342643216.py\u001b[0m in \u001b[0;36m<module>\u001b[1;34m\u001b[0m\n\u001b[0;32m     13\u001b[0m \u001b[0mprint\u001b[0m\u001b[1;33m(\u001b[0m\u001b[1;33m(\u001b[0m\u001b[0memployees\u001b[0m\u001b[1;33m)\u001b[0m\u001b[1;33m)\u001b[0m\u001b[1;33m\u001b[0m\u001b[1;33m\u001b[0m\u001b[0m\n\u001b[0;32m     14\u001b[0m \u001b[0mprint\u001b[0m\u001b[1;33m(\u001b[0m\u001b[1;34m\"Swap the max and min values\"\u001b[0m\u001b[1;33m)\u001b[0m\u001b[1;33m\u001b[0m\u001b[1;33m\u001b[0m\u001b[0m\n\u001b[1;32m---> 15\u001b[1;33m \u001b[0mmax_values\u001b[0m \u001b[1;33m=\u001b[0m \u001b[0mmax\u001b[0m\u001b[1;33m(\u001b[0m\u001b[0memployees\u001b[0m\u001b[1;33m.\u001b[0m\u001b[0mvalues\u001b[0m\u001b[1;33m(\u001b[0m\u001b[1;33m)\u001b[0m\u001b[1;33m)\u001b[0m\u001b[1;33m\u001b[0m\u001b[1;33m\u001b[0m\u001b[0m\n\u001b[0m\u001b[0;32m     16\u001b[0m \u001b[0mmin_values\u001b[0m \u001b[1;33m=\u001b[0m \u001b[0mmin\u001b[0m\u001b[1;33m(\u001b[0m\u001b[0memployees\u001b[0m\u001b[1;33m.\u001b[0m\u001b[0mvalues\u001b[0m\u001b[1;33m(\u001b[0m\u001b[1;33m)\u001b[0m\u001b[1;33m)\u001b[0m\u001b[1;33m\u001b[0m\u001b[1;33m\u001b[0m\u001b[0m\n\u001b[0;32m     17\u001b[0m \u001b[1;33m\u001b[0m\u001b[0m\n",
      "\u001b[1;31mTypeError\u001b[0m: 'int' object is not callable"
     ]
    }
   ],
   "source": [
    "# 78. Write a program to swap the key value pair for max and min values\n",
    "# Eg if the dict is like this {‘a’:1,’b’:2,’c’:3}\n",
    "# Output should be {a:3,b:2,c:1}\n",
    "\n",
    "size_dict = int(input(\"Enter size of dictionary : \"))\n",
    "employees = {}\n",
    "for i in range(0,size_dict):\n",
    "    name = input(\"Enter employee's name: \")\n",
    "    salary = input(\"Enter employee's salary: \")\n",
    "    employees[name] = salary\n",
    "\n",
    "print(type(employees))\n",
    "print((employees))\n",
    "print(\"Swap the max and min values\")\n",
    "max_values = max(employees.values())\n",
    "min_values = min(employees.values())\n",
    "\n",
    "for i in employees:\n",
    "        if employees[i] == max_values:\n",
    "            print(employees[i])\n",
    "            break\n",
    "        \n",
    "for j in employees:\n",
    "        if employees[j] == min_values:\n",
    "            print(employees[j])\n",
    "            break\n",
    "\n",
    "            \n",
    "            \n",
    "            \n"
   ]
  },
  {
   "cell_type": "code",
   "execution_count": 145,
   "id": "c4b4f583",
   "metadata": {},
   "outputs": [
    {
     "data": {
      "text/plain": [
       "{'a': '20', 'b': '50', 'c': '300'}"
      ]
     },
     "execution_count": 145,
     "metadata": {},
     "output_type": "execute_result"
    }
   ],
   "source": [
    "array = {'a': '20', 'b': '50', 'c': '300'}\n",
    "array"
   ]
  },
  {
   "cell_type": "code",
   "execution_count": 147,
   "id": "e4da5c7e",
   "metadata": {},
   "outputs": [
    {
     "data": {
      "text/plain": [
       "'20'"
      ]
     },
     "execution_count": 147,
     "metadata": {},
     "output_type": "execute_result"
    }
   ],
   "source": [
    "array['a']"
   ]
  },
  {
   "cell_type": "code",
   "execution_count": null,
   "id": "d97e188e",
   "metadata": {},
   "outputs": [],
   "source": [
    "# 79.  Write a program to find histogram of a given set of numbers. \n",
    "# Take bin size from user. Print the result in the form of a dictionary.\n",
    "\n",
    "\n",
    "\n"
   ]
  },
  {
   "cell_type": "code",
   "execution_count": 174,
   "id": "d6a4d0c8",
   "metadata": {},
   "outputs": [
    {
     "name": "stdout",
     "output_type": "stream",
     "text": [
      "Original String :  The quick Brown Fox\n",
      "No. of Upper case characters :  3\n",
      "No. of Lower case Characters :  13\n"
     ]
    }
   ],
   "source": [
    "# 80.  Write a function that accepts a string and returns the number of upper case chars and lower case chars as a dictionary\n",
    "\n",
    "\n",
    "def string_test(s):\n",
    "    \n",
    "    d={\"UPPER_CASE\":0, \"LOWER_CASE\":0}\n",
    "    \n",
    "    for c in s:\n",
    "        if c.isupper():\n",
    "            d[\"UPPER_CASE\"]+=1\n",
    "        elif c.islower():\n",
    "            d[\"LOWER_CASE\"]+=1\n",
    "        else:\n",
    "            pass\n",
    "    print(\"Original String : \", s)\n",
    "    print(\"No. of Upper case characters : \", d[\"UPPER_CASE\"])\n",
    "    print(\"No. of Lower case Characters : \", d[\"LOWER_CASE\"])\n",
    "\n",
    "string_test('The quick Brown Fox')\n"
   ]
  },
  {
   "cell_type": "code",
   "execution_count": 20,
   "id": "515738ab",
   "metadata": {},
   "outputs": [
    {
     "data": {
      "text/plain": [
       "[[1, 1, 0, 1, 1, 0, 0, 0, 0],\n",
       " [1, 1, 0, 1, 1, 1, 0, 0, 0],\n",
       " [0, 0, 1, 0, 3, 0, 1, 1, 1]]"
      ]
     },
     "execution_count": 20,
     "metadata": {},
     "output_type": "execute_result"
    }
   ],
   "source": [
    "# 81.  Write a function that accepts a list of strings and performs Bag of words and convert it to numerical vectors.\n",
    "# https://en.wikipedia.org/wiki/Bag-of-words_model\n",
    "\n",
    "def bow(sentences):\n",
    "    vocab= []\n",
    "    \n",
    "    for i in sentences:\n",
    "        vocab.extend(i.split())\n",
    "        \n",
    "    vocab = list(set(vocab))\n",
    "    vector2d= []\n",
    "    \n",
    "    for sentence in sentences:\n",
    "        vector = []\n",
    "        \n",
    "        for word in vocab:\n",
    "            vector.append(sentence.count(word))\n",
    "        vector2d.append(vector)\n",
    "    return vector2d\n",
    "\n",
    "sentences = [\n",
    "    'How are you',\n",
    "    'How are you doing',\n",
    "    'Have a great evening tonight'\n",
    "]\n",
    "\n",
    "bow(sentences)\n"
   ]
  },
  {
   "cell_type": "code",
   "execution_count": 56,
   "id": "1f2202d9",
   "metadata": {},
   "outputs": [
    {
     "name": "stdout",
     "output_type": "stream",
     "text": [
      "\n",
      "    1.Enter 1 to Register\n",
      "    2.Enter 2 to Login \n",
      "    3.Enter 3 to Exit :\n",
      "3\n",
      "Thankyou for your time\n"
     ]
    }
   ],
   "source": [
    "# 82.  Write a dummy program that can perform login and registration using a menu driven program\n",
    "\n",
    "database = {}\n",
    "\n",
    "def user_menu():\n",
    "    user_input = input(\"\"\"\n",
    "    1.Enter 1 to Register\n",
    "    2.Enter 2 to Login \n",
    "    3.Enter 3 to Exit :\\n\"\"\")\n",
    "    \n",
    "    if user_input == '1':\n",
    "        Register()\n",
    "    elif user_input == '2':\n",
    "        Login()\n",
    "    else:\n",
    "        print(\"Thankyou for your time\")\n",
    "    \n",
    "def Register():\n",
    "    name = input(\"Enter your name:\")\n",
    "    email = input(\"Enter your email id:\")\n",
    "    pwd = input(\"Enter your password:\")\n",
    "    \n",
    "    database[email]=[name,pwd]\n",
    "    print(\"Registration successful\")\n",
    "    user_menu()\n",
    "    \n",
    "def Login():\n",
    "    email = input(\"Enter your email id\")\n",
    "    pwd = input(\"Enter your password\")\n",
    "    flag= 0\n",
    "    for i in database:\n",
    "        if email == i :\n",
    "            flag= 1\n",
    "            if pwd == database[i][1]:\n",
    "                print(\"welcome\")\n",
    "            else:\n",
    "                print(\"Incorrect credentials\")\n",
    "                user_menu()\n",
    "\n",
    "    if flag == 0:\n",
    "        print(\"Email Id not found\")\n",
    "        user_menu()\n",
    "\n",
    "        \n",
    "user_menu()        \n"
   ]
  },
  {
   "cell_type": "code",
   "execution_count": 17,
   "id": "41029349",
   "metadata": {},
   "outputs": [
    {
     "name": "stdout",
     "output_type": "stream",
     "text": [
      "Nearest Neighbour is 1 at the distance of 35.0\n"
     ]
    }
   ],
   "source": [
    "# 83. Write a program that accepts neighbors(set of 2D co-ordinates) and a point(single 2D co-ordinate) \n",
    "#    and tells nearest neighbor(in terms of euclidean distance)\n",
    "\n",
    "def nearest_neighbour(neighbours,you):\n",
    "        def calculate_distance(c1,c2):\n",
    "            return((c1[0]-c2[0])**2 + (c1[1]-c2[1])**2)**0.5\n",
    "        distances = []\n",
    "        \n",
    "        for i in neighbours:\n",
    "            distances.append(calculate_distance(you,i))\n",
    "        \n",
    "        neighbour_index,distance = sorted(list(enumerate(distances)),\n",
    "                                         key=lambda x:x[1])[0] \n",
    "        \n",
    "        print(\"Nearest Neighbour is\",neighbour_index,\n",
    "              'at the distance of',distance)\n",
    "\n",
    "neighbours = [\n",
    "    [89,34],\n",
    "    [12,35],\n",
    "    [10,89],\n",
    "    [90,90]]\n",
    "you = [-9,7]\n",
    "\n",
    "nearest_neighbour(neighbours,you)\n",
    "        "
   ]
  },
  {
   "cell_type": "code",
   "execution_count": 62,
   "id": "14168b8a",
   "metadata": {},
   "outputs": [
    {
     "name": "stdout",
     "output_type": "stream",
     "text": [
      "Enter the String : 6\n",
      "Factorial of no :  720\n"
     ]
    }
   ],
   "source": [
    "# 84. Write a function that accepts a number and returns it’s factorial. You can not use any loop\n",
    "\n",
    "no = int(input(\"Enter the String : \"))\n",
    "fact = 1\n",
    "while(no > 0):\n",
    "    fact = fact*no;\n",
    "    no = no - 1\n",
    "    \n",
    "print(\"Factorial of no : \",fact)"
   ]
  },
  {
   "cell_type": "code",
   "execution_count": null,
   "id": "df82f99d",
   "metadata": {},
   "outputs": [],
   "source": []
  },
  {
   "cell_type": "code",
   "execution_count": null,
   "id": "665aa650",
   "metadata": {},
   "outputs": [],
   "source": []
  },
  {
   "cell_type": "code",
   "execution_count": null,
   "id": "8ca7f6ba",
   "metadata": {},
   "outputs": [],
   "source": []
  },
  {
   "cell_type": "code",
   "execution_count": null,
   "id": "dbc4bf12",
   "metadata": {},
   "outputs": [],
   "source": []
  },
  {
   "cell_type": "code",
   "execution_count": null,
   "id": "58bc1655",
   "metadata": {},
   "outputs": [],
   "source": []
  },
  {
   "cell_type": "code",
   "execution_count": null,
   "id": "fd7d291b",
   "metadata": {},
   "outputs": [],
   "source": []
  },
  {
   "cell_type": "code",
   "execution_count": null,
   "id": "ddd4ffca",
   "metadata": {},
   "outputs": [],
   "source": []
  },
  {
   "cell_type": "code",
   "execution_count": null,
   "id": "dcecc97a",
   "metadata": {},
   "outputs": [],
   "source": []
  },
  {
   "cell_type": "code",
   "execution_count": null,
   "id": "6baa7f4f",
   "metadata": {},
   "outputs": [],
   "source": []
  },
  {
   "cell_type": "code",
   "execution_count": null,
   "id": "b145f13e",
   "metadata": {},
   "outputs": [],
   "source": []
  },
  {
   "cell_type": "code",
   "execution_count": null,
   "id": "12658d15",
   "metadata": {},
   "outputs": [],
   "source": []
  },
  {
   "cell_type": "code",
   "execution_count": null,
   "id": "2a1d16c2",
   "metadata": {},
   "outputs": [],
   "source": []
  },
  {
   "cell_type": "code",
   "execution_count": null,
   "id": "3a645967",
   "metadata": {},
   "outputs": [],
   "source": []
  },
  {
   "cell_type": "code",
   "execution_count": null,
   "id": "206f42bf",
   "metadata": {},
   "outputs": [],
   "source": []
  },
  {
   "cell_type": "code",
   "execution_count": null,
   "id": "d0cd4c78",
   "metadata": {},
   "outputs": [],
   "source": []
  },
  {
   "cell_type": "code",
   "execution_count": null,
   "id": "53d5c3d9",
   "metadata": {},
   "outputs": [],
   "source": []
  },
  {
   "cell_type": "code",
   "execution_count": null,
   "id": "1e351610",
   "metadata": {},
   "outputs": [],
   "source": []
  },
  {
   "cell_type": "code",
   "execution_count": null,
   "id": "52605f81",
   "metadata": {},
   "outputs": [],
   "source": []
  },
  {
   "cell_type": "code",
   "execution_count": null,
   "id": "aa0e1929",
   "metadata": {},
   "outputs": [],
   "source": []
  },
  {
   "cell_type": "code",
   "execution_count": null,
   "id": "48cb1403",
   "metadata": {},
   "outputs": [],
   "source": []
  },
  {
   "cell_type": "code",
   "execution_count": null,
   "id": "112e0e49",
   "metadata": {},
   "outputs": [],
   "source": []
  },
  {
   "cell_type": "code",
   "execution_count": null,
   "id": "758f2ec7",
   "metadata": {},
   "outputs": [],
   "source": []
  },
  {
   "cell_type": "code",
   "execution_count": null,
   "id": "60b7ca8e",
   "metadata": {},
   "outputs": [],
   "source": []
  },
  {
   "cell_type": "code",
   "execution_count": null,
   "id": "2a6c46e8",
   "metadata": {},
   "outputs": [],
   "source": []
  },
  {
   "cell_type": "code",
   "execution_count": null,
   "id": "3688352e",
   "metadata": {},
   "outputs": [],
   "source": []
  },
  {
   "cell_type": "code",
   "execution_count": null,
   "id": "d8a90080",
   "metadata": {},
   "outputs": [],
   "source": []
  },
  {
   "cell_type": "code",
   "execution_count": null,
   "id": "e9c56d01",
   "metadata": {},
   "outputs": [],
   "source": []
  },
  {
   "cell_type": "code",
   "execution_count": null,
   "id": "11d53054",
   "metadata": {},
   "outputs": [],
   "source": []
  },
  {
   "cell_type": "code",
   "execution_count": null,
   "id": "8ea41d33",
   "metadata": {},
   "outputs": [],
   "source": []
  },
  {
   "cell_type": "code",
   "execution_count": null,
   "id": "40d785b3",
   "metadata": {},
   "outputs": [],
   "source": []
  },
  {
   "cell_type": "code",
   "execution_count": null,
   "id": "325048c2",
   "metadata": {},
   "outputs": [],
   "source": []
  },
  {
   "cell_type": "code",
   "execution_count": null,
   "id": "c0667f22",
   "metadata": {},
   "outputs": [],
   "source": []
  },
  {
   "cell_type": "code",
   "execution_count": null,
   "id": "a376c36f",
   "metadata": {},
   "outputs": [],
   "source": []
  },
  {
   "cell_type": "code",
   "execution_count": null,
   "id": "ceb2191d",
   "metadata": {},
   "outputs": [],
   "source": []
  },
  {
   "cell_type": "code",
   "execution_count": null,
   "id": "c76a0c8d",
   "metadata": {},
   "outputs": [],
   "source": []
  },
  {
   "cell_type": "code",
   "execution_count": null,
   "id": "8714ee5d",
   "metadata": {},
   "outputs": [],
   "source": []
  },
  {
   "cell_type": "code",
   "execution_count": null,
   "id": "990b7dba",
   "metadata": {},
   "outputs": [],
   "source": []
  },
  {
   "cell_type": "code",
   "execution_count": null,
   "id": "127a4b01",
   "metadata": {},
   "outputs": [],
   "source": []
  },
  {
   "cell_type": "code",
   "execution_count": null,
   "id": "070ee321",
   "metadata": {},
   "outputs": [],
   "source": []
  },
  {
   "cell_type": "code",
   "execution_count": null,
   "id": "bee4b18b",
   "metadata": {},
   "outputs": [],
   "source": []
  },
  {
   "cell_type": "code",
   "execution_count": null,
   "id": "40aea425",
   "metadata": {},
   "outputs": [],
   "source": []
  }
 ],
 "metadata": {
  "kernelspec": {
   "display_name": "Python 3 (ipykernel)",
   "language": "python",
   "name": "python3"
  },
  "language_info": {
   "codemirror_mode": {
    "name": "ipython",
    "version": 3
   },
   "file_extension": ".py",
   "mimetype": "text/x-python",
   "name": "python",
   "nbconvert_exporter": "python",
   "pygments_lexer": "ipython3",
   "version": "3.9.7"
  }
 },
 "nbformat": 4,
 "nbformat_minor": 5
}
