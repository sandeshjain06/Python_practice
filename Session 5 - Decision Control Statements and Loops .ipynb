{
 "cells": [
  {
   "cell_type": "markdown",
   "id": "046639a7",
   "metadata": {},
   "source": [
    "##   Decision Control Statements \n",
    "\n",
    "    1. If-Else Statement\n",
    "    \n",
    "    2. If-elif Statement \n"
   ]
  },
  {
   "cell_type": "code",
   "execution_count": 110,
   "id": "2fbdb71c",
   "metadata": {},
   "outputs": [
    {
     "name": "stdout",
     "output_type": "stream",
     "text": [
      "Please enter emailsandesh\n",
      "Please enter password1234\n",
      "Welcome\n"
     ]
    }
   ],
   "source": [
    "\n",
    "email=input(\"Please enter email\")\n",
    "pwd= input(\"Please enter password\")\n",
    "if email == 'sandesh' and pwd == \"1234\" :\n",
    "    print(\"Welcome\")\n",
    "else:\n",
    "    print(\"invalid data\")"
   ]
  },
  {
   "cell_type": "code",
   "execution_count": 116,
   "id": "30a83de6",
   "metadata": {},
   "outputs": [
    {
     "name": "stdout",
     "output_type": "stream",
     "text": [
      "Please enter emailsandesh\n",
      "Please enter password12\n",
      "invalid password\n",
      "Please enter password again1234\n",
      "Welcome\n"
     ]
    }
   ],
   "source": [
    "email=input(\"Please enter email\")\n",
    "pwd= input(\"Please enter password\")\n",
    "if email == 'sandesh' and pwd == \"1234\" :\n",
    "    print(\"Welcome\")\n",
    "elif email =='sandesh' and pwd !='1234' :\n",
    "    print('invalid password')\n",
    "    pwd=input(\"Please enter password again\")        \n",
    "    if email == 'sandesh' and pwd == \"1234\" :\n",
    "        print(\"Welcome\")\n",
    "    else:\n",
    "        print(\"invalid data\")\n",
    "else:\n",
    "    print(\"invalid data\")\n"
   ]
  },
  {
   "cell_type": "code",
   "execution_count": 120,
   "id": "6a7799ad",
   "metadata": {},
   "outputs": [
    {
     "name": "stdout",
     "output_type": "stream",
     "text": [
      "Please enter emailsandesh@\n",
      "Please enter password1234213\n",
      "invalid password\n",
      "Please enter password again1234\n",
      "Welcome\n"
     ]
    }
   ],
   "source": [
    "email=input(\"Please enter email\")\n",
    "\n",
    "if '@' in email :\n",
    "    pwd= input(\"Please enter password\")\n",
    "    if email == 'sandesh@' and pwd == \"1234\" :\n",
    "        print(\"Welcome\")\n",
    "    elif email =='sandesh@' and pwd !='1234' :\n",
    "        print('invalid password')\n",
    "        pwd=input(\"Please enter password again\")        \n",
    "        if email == 'sandesh@' and pwd == \"1234\" :\n",
    "            print(\"Welcome\")\n",
    "        else:\n",
    "            print(\"invalid data\")\n",
    "    else:\n",
    "        print(\"invalid data\")\n",
    "else:\n",
    "    print('Invalid Emailid')"
   ]
  },
  {
   "cell_type": "code",
   "execution_count": 125,
   "id": "fac2393d",
   "metadata": {},
   "outputs": [
    {
     "name": "stdout",
     "output_type": "stream",
     "text": [
      "CompusY\n"
     ]
    }
   ],
   "source": [
    "# Indentation - it is used for the python to understand that if statement is \n",
    "# completed.\n",
    "\n",
    "name=\"ABC\"\n",
    "if name==\"CampusX\":\n",
    "    print(\"CampuX\")\n",
    "else:\n",
    "    print(\"CompusY\")"
   ]
  },
  {
   "cell_type": "code",
   "execution_count": null,
   "id": "49b91114",
   "metadata": {},
   "outputs": [],
   "source": []
  }
 ],
 "metadata": {
  "kernelspec": {
   "display_name": "Python 3 (ipykernel)",
   "language": "python",
   "name": "python3"
  },
  "language_info": {
   "codemirror_mode": {
    "name": "ipython",
    "version": 3
   },
   "file_extension": ".py",
   "mimetype": "text/x-python",
   "name": "python",
   "nbconvert_exporter": "python",
   "pygments_lexer": "ipython3",
   "version": "3.9.7"
  }
 },
 "nbformat": 4,
 "nbformat_minor": 5
}
