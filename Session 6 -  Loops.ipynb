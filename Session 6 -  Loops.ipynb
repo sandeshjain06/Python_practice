{
 "cells": [
  {
   "cell_type": "markdown",
   "id": "09d89a38",
   "metadata": {},
   "source": [
    "##  LOOPS :\n",
    "    \n",
    "    1. While Loops \n",
    "    2. For Loops   \n",
    "    3. Nested Loops"
   ]
  },
  {
   "cell_type": "markdown",
   "id": "4fe366e7",
   "metadata": {},
   "source": [
    "## 1. While Loops "
   ]
  },
  {
   "cell_type": "code",
   "execution_count": 140,
   "id": "8b6c2d98",
   "metadata": {},
   "outputs": [
    {
     "name": "stdout",
     "output_type": "stream",
     "text": [
      "Enter the no3\n",
      "3 * 1 = 3\n",
      "3 * 2 = 6\n",
      "3 * 3 = 9\n",
      "3 * 4 = 12\n",
      "3 * 5 = 15\n",
      "3 * 6 = 18\n",
      "3 * 7 = 21\n",
      "3 * 8 = 24\n",
      "3 * 9 = 27\n",
      "3 * 10 = 30\n"
     ]
    }
   ],
   "source": [
    "no = int(input(\"Enter the no\"))\n",
    "i=1\n",
    "while i < 11:\n",
    "    print(no,\"*\",i,\"=\",no*i)\n",
    "    i=i+1"
   ]
  },
  {
   "cell_type": "code",
   "execution_count": 157,
   "id": "d7c87ee1",
   "metadata": {},
   "outputs": [
    {
     "name": "stdout",
     "output_type": "stream",
     "text": [
      "Select a random no34\n",
      "go high\n",
      "Select a random no89\n",
      "go low\n",
      "Select a random no2\n",
      "go high\n",
      "Select a random no56\n",
      "go high\n",
      "Select a random no70\n",
      "go low\n",
      "Select a random no65\n",
      "go low\n",
      "Select a random no62\n",
      "Prediction is correct\n",
      "no of attempts 7\n"
     ]
    }
   ],
   "source": [
    "randomno = random.randint(1,100)\n",
    "userno =int(input(\"Select a random no\"))\n",
    "i=1\n",
    "\n",
    "while userno !=randomno :\n",
    "    if(userno > randomno):\n",
    "        print(\"go low\")\n",
    "    else:\n",
    "        print(\"go high\")\n",
    "        \n",
    "    userno=int(input(\"Select a random no\"))\n",
    "    i=i+1\n",
    "\n",
    "print(\"Prediction is correct\")\n",
    "print(\"no of attempts\",i)"
   ]
  },
  {
   "cell_type": "markdown",
   "id": "d4a423ef",
   "metadata": {},
   "source": [
    "## 2.  For Loops (Range/Sequence)\n",
    "        \n",
    "    - We can use for loops using range of no or sequence of values given in list , tuple or dictionary.\n",
    "    \n"
   ]
  },
  {
   "cell_type": "code",
   "execution_count": 158,
   "id": "108e0fc7",
   "metadata": {},
   "outputs": [
    {
     "data": {
      "text/plain": [
       "[0, 1, 2, 3, 4, 5, 6, 7, 8, 9, 10, 11, 12, 13, 14]"
      ]
     },
     "execution_count": 158,
     "metadata": {},
     "output_type": "execute_result"
    }
   ],
   "source": [
    "list(range(15))"
   ]
  },
  {
   "cell_type": "code",
   "execution_count": 159,
   "id": "1bd47221",
   "metadata": {},
   "outputs": [
    {
     "data": {
      "text/plain": [
       "[5, 8, 11, 14]"
      ]
     },
     "execution_count": 159,
     "metadata": {},
     "output_type": "execute_result"
    }
   ],
   "source": [
    "list(range(5,15,3))"
   ]
  },
  {
   "cell_type": "code",
   "execution_count": null,
   "id": "19b6750f",
   "metadata": {},
   "outputs": [],
   "source": [
    "list(range)"
   ]
  },
  {
   "cell_type": "code",
   "execution_count": 162,
   "id": "24ffede3",
   "metadata": {},
   "outputs": [
    {
     "name": "stdout",
     "output_type": "stream",
     "text": [
      "K\n",
      "o\n",
      "l\n",
      "k\n",
      "a\n",
      "t\n",
      "a\n"
     ]
    }
   ],
   "source": [
    "for i in \"Kolkata\":\n",
    "    print (i)"
   ]
  },
  {
   "cell_type": "code",
   "execution_count": 164,
   "id": "9b5f7c28",
   "metadata": {},
   "outputs": [
    {
     "name": "stdout",
     "output_type": "stream",
     "text": [
      "0\n",
      "1\n",
      "2\n",
      "3\n",
      "4\n"
     ]
    }
   ],
   "source": [
    "for i in range(0,5):\n",
    "    print (i)"
   ]
  },
  {
   "cell_type": "markdown",
   "id": "81411f56",
   "metadata": {},
   "source": [
    "## 3. Nested Loops "
   ]
  },
  {
   "cell_type": "code",
   "execution_count": 184,
   "id": "941aa9b1",
   "metadata": {},
   "outputs": [
    {
     "name": "stdout",
     "output_type": "stream",
     "text": [
      "Enter the no of rows5\n",
      "\n",
      "* \n",
      "* * \n",
      "* * * \n",
      "* * * * \n"
     ]
    }
   ],
   "source": [
    "\n",
    "# Nested loops\n",
    "\n",
    "rows= int(input(\"Enter the no of rows\"))\n",
    "\n",
    "for i in range(1,rows+1):\n",
    "    for j in range(1,i):\n",
    "        print(\"*\",end= \" \")\n",
    "    print(\"\")"
   ]
  },
  {
   "cell_type": "code",
   "execution_count": 180,
   "id": "7e312454",
   "metadata": {},
   "outputs": [
    {
     "name": "stdout",
     "output_type": "stream",
     "text": [
      "Enter the no5\n",
      "\n",
      "*\n",
      "**\n",
      "***\n",
      "****\n",
      "*****\n"
     ]
    }
   ],
   "source": [
    "no=int(input(\"Enter the no\"))\n",
    "i=0\n",
    "while no >= i:\n",
    "    print(i*\"*\")\n",
    "    i=i+1"
   ]
  }
 ],
 "metadata": {
  "kernelspec": {
   "display_name": "Python 3 (ipykernel)",
   "language": "python",
   "name": "python3"
  },
  "language_info": {
   "codemirror_mode": {
    "name": "ipython",
    "version": 3
   },
   "file_extension": ".py",
   "mimetype": "text/x-python",
   "name": "python",
   "nbconvert_exporter": "python",
   "pygments_lexer": "ipython3",
   "version": "3.9.7"
  }
 },
 "nbformat": 4,
 "nbformat_minor": 5
}
