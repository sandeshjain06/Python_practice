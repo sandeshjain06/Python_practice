{
 "cells": [
  {
   "cell_type": "markdown",
   "id": "e10bed99",
   "metadata": {},
   "source": [
    "# Tuples  - IMMUTABLE ( Cannot be Changed)\n",
    "\n",
    "  - Tuples can stores values of different data types , it is heterogeneous data type \n",
    " \n",
    "  \n",
    "\n",
    "## Tuples - ROUND BRACKETS\n",
    "  \n",
    "    Create \n",
    "    Access   \n",
    "    Edit        -  Cannot Edit Elements in the tuples as well\n",
    "    Add         -  Cannot Add Elements in the tuples as well\n",
    "    Delete      -  Cannot Delete Elements in the tuples as well\n",
    "    Operations\n",
    "    Functions\n"
   ]
  },
  {
   "cell_type": "markdown",
   "id": "2d3e33ed",
   "metadata": {},
   "source": [
    "## 1.  CREATE "
   ]
  },
  {
   "cell_type": "code",
   "execution_count": 1,
   "id": "5aa0839f",
   "metadata": {},
   "outputs": [
    {
     "data": {
      "text/plain": [
       "(1, 2, 4, [4, 5])"
      ]
     },
     "execution_count": 1,
     "metadata": {},
     "output_type": "execute_result"
    }
   ],
   "source": [
    "# create tuples \n",
    "\n",
    "tup1=(1,2,4,[4,5])\n",
    "tup1"
   ]
  },
  {
   "cell_type": "code",
   "execution_count": 3,
   "id": "90f46faf",
   "metadata": {},
   "outputs": [
    {
     "data": {
      "text/plain": [
       "('hello', 4, 5, (3+2j))"
      ]
     },
     "execution_count": 3,
     "metadata": {},
     "output_type": "execute_result"
    }
   ],
   "source": [
    "# heterogeneous - values are of different data types.\n",
    "tup2=(\"hello\",4,5,3+2j)\n",
    "tup2"
   ]
  },
  {
   "cell_type": "code",
   "execution_count": 2,
   "id": "615cbfe3",
   "metadata": {},
   "outputs": [
    {
     "name": "stdout",
     "output_type": "stream",
     "text": [
      "<class 'str'>\n",
      "<class 'tuple'>\n"
     ]
    }
   ],
   "source": [
    "# how to create single value item tuples - put comma at the end.\n",
    "\n",
    "t4=(\"hello\")\n",
    "print(type(t4))\n",
    "t5=(\"hello\",)\n",
    "print(type(t5))"
   ]
  },
  {
   "cell_type": "code",
   "execution_count": 9,
   "id": "e27742ff",
   "metadata": {},
   "outputs": [
    {
     "data": {
      "text/plain": [
       "('G', 'o', 'a')"
      ]
     },
     "execution_count": 9,
     "metadata": {},
     "output_type": "execute_result"
    }
   ],
   "source": [
    "# use type conversion to create tuple.\n",
    "t6=tuple(\"Goa\")\n",
    "t6"
   ]
  },
  {
   "cell_type": "code",
   "execution_count": 12,
   "id": "aa6ef931",
   "metadata": {},
   "outputs": [
    {
     "data": {
      "text/plain": [
       "(1, 2, 3, 4, 5)"
      ]
     },
     "execution_count": 12,
     "metadata": {},
     "output_type": "execute_result"
    }
   ],
   "source": [
    "# using list to create tuple.\n",
    "\n",
    "t7=tuple([1,2,3,4,5])\n",
    "t7"
   ]
  },
  {
   "cell_type": "markdown",
   "id": "df485cfe",
   "metadata": {},
   "source": [
    "## 2.  ACCESS"
   ]
  },
  {
   "cell_type": "code",
   "execution_count": 13,
   "id": "57d39d0a",
   "metadata": {},
   "outputs": [
    {
     "data": {
      "text/plain": [
       "5"
      ]
     },
     "execution_count": 13,
     "metadata": {},
     "output_type": "execute_result"
    }
   ],
   "source": [
    "t7[-1]"
   ]
  },
  {
   "cell_type": "code",
   "execution_count": 14,
   "id": "b6e08787",
   "metadata": {},
   "outputs": [
    {
     "data": {
      "text/plain": [
       "(3, 4, 5)"
      ]
     },
     "execution_count": 14,
     "metadata": {},
     "output_type": "execute_result"
    }
   ],
   "source": [
    "t7[-3:]"
   ]
  },
  {
   "cell_type": "code",
   "execution_count": 15,
   "id": "eaca2908",
   "metadata": {},
   "outputs": [
    {
     "data": {
      "text/plain": [
       "(1, 2, 3, 4)"
      ]
     },
     "execution_count": 15,
     "metadata": {},
     "output_type": "execute_result"
    }
   ],
   "source": [
    "t7[:4]"
   ]
  },
  {
   "cell_type": "markdown",
   "id": "3d23f1ae",
   "metadata": {},
   "source": [
    "## 3.   EDIT - Tuples are immutable , cannot be edited once it is created."
   ]
  },
  {
   "cell_type": "code",
   "execution_count": 17,
   "id": "7c7b8c30",
   "metadata": {},
   "outputs": [],
   "source": [
    "# t7[2]=100 - cannot be edited."
   ]
  },
  {
   "cell_type": "markdown",
   "id": "12989f25",
   "metadata": {},
   "source": [
    "## 4.  Add - Cannot add Elements in the tuples as well\n"
   ]
  },
  {
   "cell_type": "code",
   "execution_count": 20,
   "id": "184362be",
   "metadata": {},
   "outputs": [],
   "source": [
    "# t7[5]=100  - will give error "
   ]
  },
  {
   "cell_type": "markdown",
   "id": "7b7140ca",
   "metadata": {},
   "source": [
    "## 5.  Delete - Cannot delete elements from tuples as well"
   ]
  },
  {
   "cell_type": "code",
   "execution_count": 22,
   "id": "6883c2c4",
   "metadata": {},
   "outputs": [],
   "source": [
    "# del t7[5]"
   ]
  },
  {
   "cell_type": "markdown",
   "id": "d7e117de",
   "metadata": {},
   "source": [
    "## 6.  Operations\n",
    "    * Concat \n",
    "    * Multiply\n",
    "    * Loops \n",
    "    "
   ]
  },
  {
   "cell_type": "code",
   "execution_count": 25,
   "id": "d50bd5e9",
   "metadata": {},
   "outputs": [
    {
     "data": {
      "text/plain": [
       "(1, 2, 3, 4, 5, 4, 5, 6)"
      ]
     },
     "execution_count": 25,
     "metadata": {},
     "output_type": "execute_result"
    }
   ],
   "source": [
    "# concatenate two tuples\n",
    "t2=(1,2,3,4,5) ; t4=(4,5,6)\n",
    "t2+t4"
   ]
  },
  {
   "cell_type": "code",
   "execution_count": 28,
   "id": "feeac14c",
   "metadata": {},
   "outputs": [
    {
     "data": {
      "text/plain": [
       "(1, 2, 3, 4, 5, 1, 2, 3, 4, 5, 1, 2, 3, 4, 5)"
      ]
     },
     "execution_count": 28,
     "metadata": {},
     "output_type": "execute_result"
    }
   ],
   "source": [
    "# multiply two tuples\n",
    "t2=(1,2,3,4,5) \n",
    "t2*3"
   ]
  },
  {
   "cell_type": "code",
   "execution_count": 30,
   "id": "a2cf03f1",
   "metadata": {},
   "outputs": [
    {
     "name": "stdout",
     "output_type": "stream",
     "text": [
      "1\n",
      "2\n",
      "3\n",
      "4\n",
      "5\n"
     ]
    }
   ],
   "source": [
    "# loops\n",
    "\n",
    "for i in t2:\n",
    "    print(i)"
   ]
  },
  {
   "cell_type": "markdown",
   "id": "9434f1ff",
   "metadata": {},
   "source": [
    "## 7.   Functions\n",
    "\n",
    "    *  Length\n",
    "    *  Min / max\n",
    "    *  Sum\n",
    "    *  Sorted\n"
   ]
  },
  {
   "cell_type": "code",
   "execution_count": 31,
   "id": "e5c8f853",
   "metadata": {},
   "outputs": [
    {
     "data": {
      "text/plain": [
       "15"
      ]
     },
     "execution_count": 31,
     "metadata": {},
     "output_type": "execute_result"
    }
   ],
   "source": [
    "sum(t2)"
   ]
  },
  {
   "cell_type": "code",
   "execution_count": 32,
   "id": "740530e7",
   "metadata": {},
   "outputs": [
    {
     "data": {
      "text/plain": [
       "1"
      ]
     },
     "execution_count": 32,
     "metadata": {},
     "output_type": "execute_result"
    }
   ],
   "source": [
    "min(t2)"
   ]
  },
  {
   "cell_type": "code",
   "execution_count": 33,
   "id": "9b6709da",
   "metadata": {},
   "outputs": [
    {
     "data": {
      "text/plain": [
       "[1, 2, 3, 4, 5]"
      ]
     },
     "execution_count": 33,
     "metadata": {},
     "output_type": "execute_result"
    }
   ],
   "source": [
    "sorted(t2)"
   ]
  },
  {
   "cell_type": "markdown",
   "id": "10030348",
   "metadata": {},
   "source": [
    "# Tuples are READ Only Data types "
   ]
  },
  {
   "cell_type": "markdown",
   "id": "039e4e11",
   "metadata": {},
   "source": [
    "###########################################################################################################################"
   ]
  },
  {
   "cell_type": "markdown",
   "id": "915e6a3e",
   "metadata": {},
   "source": [
    "# SETS can have heterogenous and homogeneous values \n",
    "\n",
    "    \n",
    "    Access Items - It does not supports indexing / Slicing\n",
    "    Edit Items - Cannot edit values in Sets but we can add items in sets\n",
    "    Delete Items from Sets\n",
    "    Set Operations\n",
    "    Set Functions \n",
    "    \n",
    "    * Sets do not allow duplicates\n",
    "    * Sets have no indexing / Slicing\n",
    "    * Sets dont allow mutuable data types\n",
    "    * Sets itself is a mutuable data types.\n"
   ]
  },
  {
   "cell_type": "code",
   "execution_count": 34,
   "id": "7edcce74",
   "metadata": {},
   "outputs": [
    {
     "data": {
      "text/plain": [
       "dict"
      ]
     },
     "execution_count": 34,
     "metadata": {},
     "output_type": "execute_result"
    }
   ],
   "source": [
    "# Create - how to create empty set\n",
    "# this will create empty dictionary \n",
    "# Dictionary and sets both used currly brackets - {}\n",
    "\n",
    "s1={}\n",
    "type(s1)"
   ]
  },
  {
   "cell_type": "code",
   "execution_count": 36,
   "id": "a2ca17a9",
   "metadata": {},
   "outputs": [
    {
     "data": {
      "text/plain": [
       "set"
      ]
     },
     "execution_count": 36,
     "metadata": {},
     "output_type": "execute_result"
    }
   ],
   "source": [
    "# Create empty set in Sets\n",
    "s1=set()\n",
    "type(s1)"
   ]
  },
  {
   "cell_type": "code",
   "execution_count": 38,
   "id": "bd5cadf3",
   "metadata": {},
   "outputs": [
    {
     "data": {
      "text/plain": [
       "{(2+3j), 1, 2, 3, 4, 'hello'}"
      ]
     },
     "execution_count": 38,
     "metadata": {},
     "output_type": "execute_result"
    }
   ],
   "source": [
    "# Homogeneou Sets\n",
    "\n",
    "s23={1,2,3,4}\n",
    "s23\n",
    "# Heterogeneou Sets\n",
    "s24={1,2,3,4,\"hello\",2+3j}\n",
    "s24"
   ]
  },
  {
   "cell_type": "code",
   "execution_count": 39,
   "id": "48e1ad24",
   "metadata": {},
   "outputs": [
    {
     "data": {
      "text/plain": [
       "{1, 2, 3, 4}"
      ]
     },
     "execution_count": 39,
     "metadata": {},
     "output_type": "execute_result"
    }
   ],
   "source": [
    "# Does not Duplicates\n",
    "\n",
    "s48= {1,2,2,3,3,3,4,4,4}\n",
    "s48"
   ]
  },
  {
   "cell_type": "code",
   "execution_count": 5,
   "id": "f0eaf3b4",
   "metadata": {},
   "outputs": [],
   "source": [
    "# List is mutuable data type , hence it will give error \n",
    "\n",
    "#s09={[1,2,3],\"hellp\"}\n",
    "#s09"
   ]
  },
  {
   "cell_type": "code",
   "execution_count": 48,
   "id": "ef77a9a9",
   "metadata": {},
   "outputs": [
    {
     "data": {
      "text/plain": [
       "{(1, 2, 3), 'Hello'}"
      ]
     },
     "execution_count": 48,
     "metadata": {},
     "output_type": "execute_result"
    }
   ],
   "source": [
    "\n",
    "s09 = {(1,2,3),'Hello'}\n",
    "s09"
   ]
  },
  {
   "cell_type": "code",
   "execution_count": 50,
   "id": "c43b2dc6",
   "metadata": {},
   "outputs": [],
   "source": [
    "# 2D Sets are not possible\n",
    "\n",
    "# set2d={{1},{2}} - it will give error \n",
    "# set2d"
   ]
  },
  {
   "cell_type": "markdown",
   "id": "826eba7f",
   "metadata": {},
   "source": [
    "## Access Items - It does not supports indexing / Slicing\n"
   ]
  },
  {
   "cell_type": "code",
   "execution_count": 52,
   "id": "d3a394ae",
   "metadata": {},
   "outputs": [],
   "source": [
    "# Cannot access items in Sets\n",
    "\n",
    "#s1={1,2,2,2}\n",
    "# s1[0]"
   ]
  },
  {
   "cell_type": "markdown",
   "id": "3fe527e2",
   "metadata": {},
   "source": [
    "# Edit Items - Cannot edit values in Sets but we can add items in sets"
   ]
  },
  {
   "cell_type": "code",
   "execution_count": 55,
   "id": "9126bfab",
   "metadata": {},
   "outputs": [
    {
     "data": {
      "text/plain": [
       "{1, 2, 4, 10}"
      ]
     },
     "execution_count": 55,
     "metadata": {},
     "output_type": "execute_result"
    }
   ],
   "source": [
    "# Add items in Sets.\n",
    "\n",
    "s1={1,2,2,4}\n",
    "s1.add(10)\n",
    "s1"
   ]
  },
  {
   "cell_type": "markdown",
   "id": "51a643a7",
   "metadata": {},
   "source": [
    "## Delete Items from Sets\n",
    "\n",
    "    * del - will delete all values , particular values cannot be deleted.\n",
    "    * remove - Removes the particular values\n",
    "    * pop - Randomly removes the last element stored in memory.\n"
   ]
  },
  {
   "cell_type": "code",
   "execution_count": 66,
   "id": "3509ce47",
   "metadata": {},
   "outputs": [
    {
     "data": {
      "text/plain": [
       "{123, 13123, 22, 90, 'hello'}"
      ]
     },
     "execution_count": 66,
     "metadata": {},
     "output_type": "execute_result"
    }
   ],
   "source": [
    "sd ={90,123,123,13123,22,\"hello\"}\n",
    "sd"
   ]
  },
  {
   "cell_type": "code",
   "execution_count": 67,
   "id": "2750d1c5",
   "metadata": {},
   "outputs": [
    {
     "data": {
      "text/plain": [
       "{13123, 22, 90, 'hello'}"
      ]
     },
     "execution_count": 67,
     "metadata": {},
     "output_type": "execute_result"
    }
   ],
   "source": [
    "sd.remove(123)\n",
    "sd"
   ]
  },
  {
   "cell_type": "code",
   "execution_count": 68,
   "id": "3d5d1ab3",
   "metadata": {},
   "outputs": [
    {
     "data": {
      "text/plain": [
       "{22, 90, 13123}"
      ]
     },
     "execution_count": 68,
     "metadata": {},
     "output_type": "execute_result"
    }
   ],
   "source": [
    "# it will delete the last values in memory which internally it has stored by \n",
    "# hashing concept - we dont know what is the last value.\n",
    "\n",
    "sd.pop()\n",
    "sd"
   ]
  },
  {
   "cell_type": "code",
   "execution_count": null,
   "id": "9af1ce41",
   "metadata": {},
   "outputs": [],
   "source": []
  },
  {
   "cell_type": "markdown",
   "id": "a59ea9f4",
   "metadata": {},
   "source": [
    "# Sets Operation\n",
    "    \n",
    "    * No Concatenation / Multiply\n",
    "    * LOOPS\n",
    "    * Membership operations"
   ]
  },
  {
   "cell_type": "code",
   "execution_count": 70,
   "id": "05727dd4",
   "metadata": {},
   "outputs": [
    {
     "name": "stdout",
     "output_type": "stream",
     "text": [
      "12322\n",
      "7\n",
      "8\n",
      "9\n",
      "123\n"
     ]
    }
   ],
   "source": [
    "s1={7,8,9,123,12322}\n",
    "s2={3,4,4,5,5}\n",
    "\n",
    "# s1+s2  - Sets does not have concatenation\n",
    "# s1*3   - Sets does not have option to mutliply\n",
    "\n",
    "# Looping\n",
    "for i in s1:\n",
    "    print(i)"
   ]
  },
  {
   "cell_type": "code",
   "execution_count": 71,
   "id": "545654b7",
   "metadata": {},
   "outputs": [
    {
     "data": {
      "text/plain": [
       "True"
      ]
     },
     "execution_count": 71,
     "metadata": {},
     "output_type": "execute_result"
    }
   ],
   "source": [
    "7 in s1"
   ]
  },
  {
   "cell_type": "markdown",
   "id": "e9d29394",
   "metadata": {},
   "source": [
    "# Functions in Sets \n",
    "\n",
    "    * Length\n",
    "    * Min / Max\n",
    "    * Sum \n",
    "    * Sorted"
   ]
  },
  {
   "cell_type": "code",
   "execution_count": 75,
   "id": "6d35dcfb",
   "metadata": {},
   "outputs": [
    {
     "data": {
      "text/plain": [
       "[12322, 123, 9, 8, 7]"
      ]
     },
     "execution_count": 75,
     "metadata": {},
     "output_type": "execute_result"
    }
   ],
   "source": [
    "len(s1)\n",
    "sorted(s1,reverse=True)"
   ]
  },
  {
   "cell_type": "markdown",
   "id": "3939b4bd",
   "metadata": {},
   "source": [
    "# Unique Operations available in Sets\n",
    "\n",
    "    * UNION\n",
    "    * INTERSECTION\n",
    "    * DIFFERENCE\n",
    "    * SYMMETRIC DIFFERENCE\n",
    "    * ISDISJOINT\n",
    "    * IsSUBSET\n",
    "    * IsSUPERSET"
   ]
  },
  {
   "cell_type": "code",
   "execution_count": 78,
   "id": "c175eab6",
   "metadata": {},
   "outputs": [
    {
     "data": {
      "text/plain": [
       "{4, 5, 6, 10, 11}"
      ]
     },
     "execution_count": 78,
     "metadata": {},
     "output_type": "execute_result"
    }
   ],
   "source": [
    "# UNION\n",
    "\n",
    "s1 ={4,5,6} ; s2={4,10,11}\n",
    "s1.union(s2)"
   ]
  },
  {
   "cell_type": "code",
   "execution_count": 79,
   "id": "d6ce93ad",
   "metadata": {},
   "outputs": [
    {
     "data": {
      "text/plain": [
       "{4}"
      ]
     },
     "execution_count": 79,
     "metadata": {},
     "output_type": "execute_result"
    }
   ],
   "source": [
    "# Intersection\n",
    "s1.intersection(s2)"
   ]
  },
  {
   "cell_type": "code",
   "execution_count": 81,
   "id": "30920773",
   "metadata": {},
   "outputs": [
    {
     "data": {
      "text/plain": [
       "{10, 11}"
      ]
     },
     "execution_count": 81,
     "metadata": {},
     "output_type": "execute_result"
    }
   ],
   "source": [
    "# Difference\n",
    "s2.difference(s1)"
   ]
  },
  {
   "cell_type": "code",
   "execution_count": 82,
   "id": "671c4547",
   "metadata": {},
   "outputs": [
    {
     "data": {
      "text/plain": [
       "{5, 6, 10, 11}"
      ]
     },
     "execution_count": 82,
     "metadata": {},
     "output_type": "execute_result"
    }
   ],
   "source": [
    "# SYMMETRIC Difference\n",
    "s2.symmetric_difference(s1)"
   ]
  },
  {
   "cell_type": "code",
   "execution_count": 83,
   "id": "6d228485",
   "metadata": {},
   "outputs": [
    {
     "data": {
      "text/plain": [
       "False"
      ]
     },
     "execution_count": 83,
     "metadata": {},
     "output_type": "execute_result"
    }
   ],
   "source": [
    "# Is Joint\n",
    "s2.isdisjoint(s1)"
   ]
  },
  {
   "cell_type": "code",
   "execution_count": 84,
   "id": "713a24d6",
   "metadata": {},
   "outputs": [
    {
     "data": {
      "text/plain": [
       "False"
      ]
     },
     "execution_count": 84,
     "metadata": {},
     "output_type": "execute_result"
    }
   ],
   "source": [
    "# Issubset\n",
    "s2.issubset(s1)"
   ]
  },
  {
   "cell_type": "code",
   "execution_count": 85,
   "id": "ddf8e069",
   "metadata": {},
   "outputs": [
    {
     "data": {
      "text/plain": [
       "False"
      ]
     },
     "execution_count": 85,
     "metadata": {},
     "output_type": "execute_result"
    }
   ],
   "source": [
    "# is superset\n",
    "s2.issuperset(s1)"
   ]
  },
  {
   "cell_type": "code",
   "execution_count": null,
   "id": "4e6052f1",
   "metadata": {},
   "outputs": [],
   "source": []
  },
  {
   "cell_type": "markdown",
   "id": "6f9b0eca",
   "metadata": {},
   "source": [
    "# THE END "
   ]
  }
 ],
 "metadata": {
  "kernelspec": {
   "display_name": "Python 3 (ipykernel)",
   "language": "python",
   "name": "python3"
  },
  "language_info": {
   "codemirror_mode": {
    "name": "ipython",
    "version": 3
   },
   "file_extension": ".py",
   "mimetype": "text/x-python",
   "name": "python",
   "nbconvert_exporter": "python",
   "pygments_lexer": "ipython3",
   "version": "3.9.7"
  }
 },
 "nbformat": 4,
 "nbformat_minor": 5
}
